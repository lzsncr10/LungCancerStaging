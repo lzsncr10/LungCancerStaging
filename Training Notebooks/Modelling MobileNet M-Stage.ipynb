{
 "cells": [
  {
   "cell_type": "markdown",
   "id": "7d39fbdc-3fd8-49c6-90b3-0b8c2aeab87c",
   "metadata": {},
   "source": [
    "## Modelling Draft: MobileNet for M-Stage Classification<br>\n",
    "Framework: Tensorflow Keras <br>\n",
    "Base models to test: <br>\n",
    "<li>Xception </li>\n",
    "<li>MobileNet ✓</li>\n",
    "<li>NasNet Mobile </li>"
   ]
  },
  {
   "cell_type": "markdown",
   "id": "d32b521b-125c-4bf6-a6cc-e2c1261b4323",
   "metadata": {},
   "source": [
    "#### Import Packages"
   ]
  },
  {
   "cell_type": "code",
   "execution_count": 1,
   "id": "79e930dc-7aa2-4d30-ae1c-6605cb0a1eb3",
   "metadata": {},
   "outputs": [
    {
     "name": "stdout",
     "output_type": "stream",
     "text": [
      "All modules are loaded\n"
     ]
    }
   ],
   "source": [
    "# import numpy as np\n",
    "# from PIL import Image\n",
    "# from tensorflow.keras import backend as K\n",
    "import pandas as pd\n",
    "import matplotlib.pyplot as plt\n",
    "import tensorflow\n",
    "import random\n",
    "import os\n",
    "\n",
    "from tensorflow.keras.models import Sequential\n",
    "from tensorflow.keras.layers import Activation, Dense, Dropout, BatchNormalization, Flatten, Input\n",
    "from tensorflow.keras.optimizers import *\n",
    "from tensorflow.keras.metrics import *\n",
    "from tensorflow.keras.utils import to_categorical\n",
    "from tensorflow.keras.preprocessing.image import ImageDataGenerator\n",
    "from tensorflow.keras.applications.mobilenet import MobileNet\n",
    "from tensorflow.keras.applications.mobilenet import preprocess_input\n",
    "from sklearn.model_selection import train_test_split\n",
    "from sklearn.metrics._plot.confusion_matrix import ConfusionMatrixDisplay\n",
    "from sklearn.metrics import classification_report, confusion_matrix\n",
    "from sklearn.utils import class_weight\n",
    "from time import perf_counter\n",
    "\n",
    "import sys\n",
    "if not sys.warnoptions:\n",
    "    import warnings\n",
    "    warnings.simplefilter(\"ignore\")\n",
    "pd.set_option('display.max_columns', None)  # or 1000\n",
    "pd.set_option('display.max_rows', None)  # or 1000\n",
    "pd.set_option('display.max_colwidth', None)  # or 199\n",
    "print ('All modules are loaded')"
   ]
  },
  {
   "cell_type": "code",
   "execution_count": 2,
   "id": "9121c71a-01e4-46a9-821e-378a2bd8dd5c",
   "metadata": {},
   "outputs": [],
   "source": [
    "#Labels\n",
    "# t_stg= ['is','1','1a','1b','1c','2','2a','2b','3','4']\n",
    "# n_stg = ['0','1','2','3']\n",
    "m_stg = ['0','1','1a','1b','1c','2','3'] \n",
    "\n",
    "#Load the image batches, labels == t,m,n\n",
    "m_raw_df = pd.read_csv(r'D:\\Lung-PET-CT-Dx\\manifest\\raw_ct_delimited.csv',usecols=['filenames','m'])\n",
    "# seg_df = pd.read_csv(r'D:\\Lung-PET-CT-Dx\\manifest\\segmented ct image files.csv',usecols=['filenames','labels'])\n",
    "raw_dir = r'C:\\Users\\lzsnc\\Desktop\\Raw CT Images'\n",
    "# seg_dir = r'C:\\Users\\lzsnc\\Desktop\\Masked CT images'\n",
    "m_raw_df.head()\n",
    "# seg_df.head()\n",
    "os.chdir(r'C:\\Users\\lzsnc\\Desktop\\Raw CT Images')"
   ]
  },
  {
   "cell_type": "code",
   "execution_count": 3,
   "id": "d853207d-9ec3-46af-86fa-d77396d6a5f7",
   "metadata": {},
   "outputs": [
    {
     "data": {
      "text/html": [
       "<div>\n",
       "<style scoped>\n",
       "    .dataframe tbody tr th:only-of-type {\n",
       "        vertical-align: middle;\n",
       "    }\n",
       "\n",
       "    .dataframe tbody tr th {\n",
       "        vertical-align: top;\n",
       "    }\n",
       "\n",
       "    .dataframe thead th {\n",
       "        text-align: right;\n",
       "    }\n",
       "</style>\n",
       "<table border=\"1\" class=\"dataframe\">\n",
       "  <thead>\n",
       "    <tr style=\"text-align: right;\">\n",
       "      <th></th>\n",
       "      <th>filenames</th>\n",
       "      <th>m</th>\n",
       "    </tr>\n",
       "  </thead>\n",
       "  <tbody>\n",
       "    <tr>\n",
       "      <th>0</th>\n",
       "      <td>Lung_Dx-A0001_04-04-2007-NA-Chest-07990_2.000000-5mm-40805_1-13.tiff</td>\n",
       "      <td>1b</td>\n",
       "    </tr>\n",
       "    <tr>\n",
       "      <th>1</th>\n",
       "      <td>Lung_Dx-A0001_04-04-2007-NA-Chest-07990_2.000000-5mm-40805_1-14.tiff</td>\n",
       "      <td>1b</td>\n",
       "    </tr>\n",
       "    <tr>\n",
       "      <th>2</th>\n",
       "      <td>Lung_Dx-A0001_04-04-2007-NA-Chest-07990_2.000000-5mm-40805_1-15.tiff</td>\n",
       "      <td>1b</td>\n",
       "    </tr>\n",
       "    <tr>\n",
       "      <th>3</th>\n",
       "      <td>Lung_Dx-A0001_04-04-2007-NA-Chest-07990_2.000000-5mm-40805_1-16.tiff</td>\n",
       "      <td>1b</td>\n",
       "    </tr>\n",
       "    <tr>\n",
       "      <th>4</th>\n",
       "      <td>Lung_Dx-A0001_04-04-2007-NA-Chest-07990_2.000000-5mm-40805_1-17.tiff</td>\n",
       "      <td>1b</td>\n",
       "    </tr>\n",
       "  </tbody>\n",
       "</table>\n",
       "</div>"
      ],
      "text/plain": [
       "                                                              filenames   m\n",
       "0  Lung_Dx-A0001_04-04-2007-NA-Chest-07990_2.000000-5mm-40805_1-13.tiff  1b\n",
       "1  Lung_Dx-A0001_04-04-2007-NA-Chest-07990_2.000000-5mm-40805_1-14.tiff  1b\n",
       "2  Lung_Dx-A0001_04-04-2007-NA-Chest-07990_2.000000-5mm-40805_1-15.tiff  1b\n",
       "3  Lung_Dx-A0001_04-04-2007-NA-Chest-07990_2.000000-5mm-40805_1-16.tiff  1b\n",
       "4  Lung_Dx-A0001_04-04-2007-NA-Chest-07990_2.000000-5mm-40805_1-17.tiff  1b"
      ]
     },
     "execution_count": 3,
     "metadata": {},
     "output_type": "execute_result"
    }
   ],
   "source": [
    "m_raw_df.head()"
   ]
  },
  {
   "cell_type": "markdown",
   "id": "c4168ea9-a48c-42c1-b633-dacebb37f478",
   "metadata": {},
   "source": [
    "#### Split Dataset: <br>\n",
    "80% Train, 20% Test"
   ]
  },
  {
   "cell_type": "code",
   "execution_count": 4,
   "id": "2073cef9-9828-428d-a13a-b60cbbeb591b",
   "metadata": {},
   "outputs": [],
   "source": [
    "m_train_df, m_test_df = train_test_split(m_raw_df, test_size=0.2, random_state=42) \n",
    "m_train_df.tail()\n",
    "#convert m-stage df to string\n",
    "m_train_df['m'] = m_train_df['m'].apply(str)\n",
    "m_test_df['m'] = m_test_df['m'].apply(str)"
   ]
  },
  {
   "cell_type": "markdown",
   "id": "d84a8e43-21cd-44ae-9e32-2ea87f00e300",
   "metadata": {},
   "source": [
    "#### Train/Test for 'T' Stage"
   ]
  },
  {
   "cell_type": "code",
   "execution_count": 5,
   "id": "d7d1fa1b-96bd-4e16-aae9-4633eb20f835",
   "metadata": {},
   "outputs": [
    {
     "name": "stdout",
     "output_type": "stream",
     "text": [
      "Found 24250 validated image filenames belonging to 7 classes.\n"
     ]
    }
   ],
   "source": [
    "train_batch = 32\n",
    "train_datagen = ImageDataGenerator(rescale=1 / 255.0,\n",
    "                                   featurewise_center=True,\n",
    "                                   featurewise_std_normalization=True,)\n",
    "\n",
    "m_train_ds = train_datagen.flow_from_dataframe(\n",
    "    dataframe=m_train_df,\n",
    "    directory=raw_dir,\n",
    "    target_size=(224,224),    \n",
    "    x_col='filenames',\n",
    "    y_col='m',\n",
    "    # color_mode='grayscale',\n",
    "    class_mode='categorical',\n",
    "    shuffle=True,\n",
    "    seed=32\n",
    ")"
   ]
  },
  {
   "cell_type": "code",
   "execution_count": 6,
   "id": "89bfcb4e-1648-4c19-9609-c07fc005f621",
   "metadata": {},
   "outputs": [
    {
     "data": {
      "text/plain": [
       "array([0, 1, 2, 3, 4, 5, 6])"
      ]
     },
     "execution_count": 6,
     "metadata": {},
     "output_type": "execute_result"
    }
   ],
   "source": [
    "np.unique(m_train_ds.classes)"
   ]
  },
  {
   "cell_type": "markdown",
   "id": "cdc14638-fec1-4bbd-a7a0-821597a53333",
   "metadata": {},
   "source": [
    "#### Test Image Generator"
   ]
  },
  {
   "cell_type": "code",
   "execution_count": 7,
   "id": "ce612faf-e209-46d9-aa62-b3dcba0e1abf",
   "metadata": {},
   "outputs": [
    {
     "name": "stdout",
     "output_type": "stream",
     "text": [
      "Found 6063 validated image filenames belonging to 7 classes.\n"
     ]
    }
   ],
   "source": [
    "test_batch = 32\n",
    "test_datagen = ImageDataGenerator(rescale=1 / 255.0)\n",
    "m_test_ds = test_datagen.flow_from_dataframe(\n",
    "    dataframe=m_test_df,\n",
    "    directory=raw_dir,\n",
    "    target_size=(224,224),    \n",
    "    x_col='filenames',\n",
    "    y_col='m',\n",
    "    # color_mode='grayscale',\n",
    "    class_mode='categorical',\n",
    "    shuffle=False, #re-run this!\n",
    "    seed=32 \n",
    ")"
   ]
  },
  {
   "cell_type": "code",
   "execution_count": 8,
   "id": "3da08044-2dcd-485a-843b-a498219e915e",
   "metadata": {},
   "outputs": [
    {
     "name": "stdout",
     "output_type": "stream",
     "text": [
      "{'0': 0, '1': 1, '1a': 2, '1b': 3, '1c': 4, '2': 5, '3': 6}\n"
     ]
    },
    {
     "data": {
      "text/plain": [
       "7"
      ]
     },
     "execution_count": 8,
     "metadata": {},
     "output_type": "execute_result"
    }
   ],
   "source": [
    "#Check number of classes\n",
    "m_class_dict = m_train_ds.class_indices\n",
    "print(m_class_dict)\n",
    "m_num_classes = len(m_class_dict)\n",
    "m_num_classes"
   ]
  },
  {
   "cell_type": "code",
   "execution_count": 9,
   "id": "60076716-697a-48f3-ab52-f545966d7570",
   "metadata": {},
   "outputs": [
    {
     "data": {
      "text/plain": [
       "{'0': 0, '1': 1, '1a': 2, '1b': 3, '1c': 4, '2': 5, '3': 6}"
      ]
     },
     "execution_count": 9,
     "metadata": {},
     "output_type": "execute_result"
    }
   ],
   "source": [
    "m_class_dict"
   ]
  },
  {
   "cell_type": "markdown",
   "id": "350f10f3-8edc-4443-b628-4cca0eaad4ea",
   "metadata": {},
   "source": [
    "Add weights"
   ]
  },
  {
   "cell_type": "code",
   "execution_count": 10,
   "id": "1fd095b8-7299-424a-8e2d-f7b760048542",
   "metadata": {},
   "outputs": [
    {
     "data": {
      "text/plain": [
       "{0: 0.2078155797411946,\n",
       " 1: 0.7223281305850113,\n",
       " 2: 4.390729675900778,\n",
       " 3: 3.025577043044292,\n",
       " 4: 4.229897087039944,\n",
       " 5: 247.44897959183675,\n",
       " 6: 203.78151260504202}"
      ]
     },
     "execution_count": 10,
     "metadata": {},
     "output_type": "execute_result"
    }
   ],
   "source": [
    "#without undersampling oversamples:\n",
    "m_class_weights = class_weight.compute_class_weight(\n",
    "           class_weight='balanced',\n",
    "           classes=np.unique(m_train_ds.classes),\n",
    "           y=m_train_ds.classes)\n",
    "m_class_weights = dict(zip(np.unique(m_train_ds.classes), m_class_weights))\n",
    "m_class_weights"
   ]
  },
  {
   "cell_type": "markdown",
   "id": "d8ff957d-083b-4d0a-a655-7e9b80026918",
   "metadata": {},
   "source": [
    "Model 2: MobileNet"
   ]
  },
  {
   "cell_type": "code",
   "execution_count": 11,
   "id": "cfdf7d2e-e46b-40d8-bade-9eaa129ec3db",
   "metadata": {},
   "outputs": [
    {
     "name": "stdout",
     "output_type": "stream",
     "text": [
      "Model: \"mobilenet_1.00_224\"\n",
      "_________________________________________________________________\n",
      " Layer (type)                Output Shape              Param #   \n",
      "=================================================================\n",
      " input_1 (InputLayer)        [(None, 224, 224, 3)]     0         \n",
      "                                                                 \n",
      " conv1 (Conv2D)              (None, 112, 112, 32)      864       \n",
      "                                                                 \n",
      " conv1_bn (BatchNormalizati  (None, 112, 112, 32)      128       \n",
      " on)                                                             \n",
      "                                                                 \n",
      " conv1_relu (ReLU)           (None, 112, 112, 32)      0         \n",
      "                                                                 \n",
      " conv_dw_1 (DepthwiseConv2D  (None, 112, 112, 32)      288       \n",
      " )                                                               \n",
      "                                                                 \n",
      " conv_dw_1_bn (BatchNormali  (None, 112, 112, 32)      128       \n",
      " zation)                                                         \n",
      "                                                                 \n",
      " conv_dw_1_relu (ReLU)       (None, 112, 112, 32)      0         \n",
      "                                                                 \n",
      " conv_pw_1 (Conv2D)          (None, 112, 112, 64)      2048      \n",
      "                                                                 \n",
      " conv_pw_1_bn (BatchNormali  (None, 112, 112, 64)      256       \n",
      " zation)                                                         \n",
      "                                                                 \n",
      " conv_pw_1_relu (ReLU)       (None, 112, 112, 64)      0         \n",
      "                                                                 \n",
      " conv_pad_2 (ZeroPadding2D)  (None, 113, 113, 64)      0         \n",
      "                                                                 \n",
      " conv_dw_2 (DepthwiseConv2D  (None, 56, 56, 64)        576       \n",
      " )                                                               \n",
      "                                                                 \n",
      " conv_dw_2_bn (BatchNormali  (None, 56, 56, 64)        256       \n",
      " zation)                                                         \n",
      "                                                                 \n",
      " conv_dw_2_relu (ReLU)       (None, 56, 56, 64)        0         \n",
      "                                                                 \n",
      " conv_pw_2 (Conv2D)          (None, 56, 56, 128)       8192      \n",
      "                                                                 \n",
      " conv_pw_2_bn (BatchNormali  (None, 56, 56, 128)       512       \n",
      " zation)                                                         \n",
      "                                                                 \n",
      " conv_pw_2_relu (ReLU)       (None, 56, 56, 128)       0         \n",
      "                                                                 \n",
      " conv_dw_3 (DepthwiseConv2D  (None, 56, 56, 128)       1152      \n",
      " )                                                               \n",
      "                                                                 \n",
      " conv_dw_3_bn (BatchNormali  (None, 56, 56, 128)       512       \n",
      " zation)                                                         \n",
      "                                                                 \n",
      " conv_dw_3_relu (ReLU)       (None, 56, 56, 128)       0         \n",
      "                                                                 \n",
      " conv_pw_3 (Conv2D)          (None, 56, 56, 128)       16384     \n",
      "                                                                 \n",
      " conv_pw_3_bn (BatchNormali  (None, 56, 56, 128)       512       \n",
      " zation)                                                         \n",
      "                                                                 \n",
      " conv_pw_3_relu (ReLU)       (None, 56, 56, 128)       0         \n",
      "                                                                 \n",
      " conv_pad_4 (ZeroPadding2D)  (None, 57, 57, 128)       0         \n",
      "                                                                 \n",
      " conv_dw_4 (DepthwiseConv2D  (None, 28, 28, 128)       1152      \n",
      " )                                                               \n",
      "                                                                 \n",
      " conv_dw_4_bn (BatchNormali  (None, 28, 28, 128)       512       \n",
      " zation)                                                         \n",
      "                                                                 \n",
      " conv_dw_4_relu (ReLU)       (None, 28, 28, 128)       0         \n",
      "                                                                 \n",
      " conv_pw_4 (Conv2D)          (None, 28, 28, 256)       32768     \n",
      "                                                                 \n",
      " conv_pw_4_bn (BatchNormali  (None, 28, 28, 256)       1024      \n",
      " zation)                                                         \n",
      "                                                                 \n",
      " conv_pw_4_relu (ReLU)       (None, 28, 28, 256)       0         \n",
      "                                                                 \n",
      " conv_dw_5 (DepthwiseConv2D  (None, 28, 28, 256)       2304      \n",
      " )                                                               \n",
      "                                                                 \n",
      " conv_dw_5_bn (BatchNormali  (None, 28, 28, 256)       1024      \n",
      " zation)                                                         \n",
      "                                                                 \n",
      " conv_dw_5_relu (ReLU)       (None, 28, 28, 256)       0         \n",
      "                                                                 \n",
      " conv_pw_5 (Conv2D)          (None, 28, 28, 256)       65536     \n",
      "                                                                 \n",
      " conv_pw_5_bn (BatchNormali  (None, 28, 28, 256)       1024      \n",
      " zation)                                                         \n",
      "                                                                 \n",
      " conv_pw_5_relu (ReLU)       (None, 28, 28, 256)       0         \n",
      "                                                                 \n",
      " conv_pad_6 (ZeroPadding2D)  (None, 29, 29, 256)       0         \n",
      "                                                                 \n",
      " conv_dw_6 (DepthwiseConv2D  (None, 14, 14, 256)       2304      \n",
      " )                                                               \n",
      "                                                                 \n",
      " conv_dw_6_bn (BatchNormali  (None, 14, 14, 256)       1024      \n",
      " zation)                                                         \n",
      "                                                                 \n",
      " conv_dw_6_relu (ReLU)       (None, 14, 14, 256)       0         \n",
      "                                                                 \n",
      " conv_pw_6 (Conv2D)          (None, 14, 14, 512)       131072    \n",
      "                                                                 \n",
      " conv_pw_6_bn (BatchNormali  (None, 14, 14, 512)       2048      \n",
      " zation)                                                         \n",
      "                                                                 \n",
      " conv_pw_6_relu (ReLU)       (None, 14, 14, 512)       0         \n",
      "                                                                 \n",
      " conv_dw_7 (DepthwiseConv2D  (None, 14, 14, 512)       4608      \n",
      " )                                                               \n",
      "                                                                 \n",
      " conv_dw_7_bn (BatchNormali  (None, 14, 14, 512)       2048      \n",
      " zation)                                                         \n",
      "                                                                 \n",
      " conv_dw_7_relu (ReLU)       (None, 14, 14, 512)       0         \n",
      "                                                                 \n",
      " conv_pw_7 (Conv2D)          (None, 14, 14, 512)       262144    \n",
      "                                                                 \n",
      " conv_pw_7_bn (BatchNormali  (None, 14, 14, 512)       2048      \n",
      " zation)                                                         \n",
      "                                                                 \n",
      " conv_pw_7_relu (ReLU)       (None, 14, 14, 512)       0         \n",
      "                                                                 \n",
      " conv_dw_8 (DepthwiseConv2D  (None, 14, 14, 512)       4608      \n",
      " )                                                               \n",
      "                                                                 \n",
      " conv_dw_8_bn (BatchNormali  (None, 14, 14, 512)       2048      \n",
      " zation)                                                         \n",
      "                                                                 \n",
      " conv_dw_8_relu (ReLU)       (None, 14, 14, 512)       0         \n",
      "                                                                 \n",
      " conv_pw_8 (Conv2D)          (None, 14, 14, 512)       262144    \n",
      "                                                                 \n",
      " conv_pw_8_bn (BatchNormali  (None, 14, 14, 512)       2048      \n",
      " zation)                                                         \n",
      "                                                                 \n",
      " conv_pw_8_relu (ReLU)       (None, 14, 14, 512)       0         \n",
      "                                                                 \n",
      " conv_dw_9 (DepthwiseConv2D  (None, 14, 14, 512)       4608      \n",
      " )                                                               \n",
      "                                                                 \n",
      " conv_dw_9_bn (BatchNormali  (None, 14, 14, 512)       2048      \n",
      " zation)                                                         \n",
      "                                                                 \n",
      " conv_dw_9_relu (ReLU)       (None, 14, 14, 512)       0         \n",
      "                                                                 \n",
      " conv_pw_9 (Conv2D)          (None, 14, 14, 512)       262144    \n",
      "                                                                 \n",
      " conv_pw_9_bn (BatchNormali  (None, 14, 14, 512)       2048      \n",
      " zation)                                                         \n",
      "                                                                 \n",
      " conv_pw_9_relu (ReLU)       (None, 14, 14, 512)       0         \n",
      "                                                                 \n",
      " conv_dw_10 (DepthwiseConv2  (None, 14, 14, 512)       4608      \n",
      " D)                                                              \n",
      "                                                                 \n",
      " conv_dw_10_bn (BatchNormal  (None, 14, 14, 512)       2048      \n",
      " ization)                                                        \n",
      "                                                                 \n",
      " conv_dw_10_relu (ReLU)      (None, 14, 14, 512)       0         \n",
      "                                                                 \n",
      " conv_pw_10 (Conv2D)         (None, 14, 14, 512)       262144    \n",
      "                                                                 \n",
      " conv_pw_10_bn (BatchNormal  (None, 14, 14, 512)       2048      \n",
      " ization)                                                        \n",
      "                                                                 \n",
      " conv_pw_10_relu (ReLU)      (None, 14, 14, 512)       0         \n",
      "                                                                 \n",
      " conv_dw_11 (DepthwiseConv2  (None, 14, 14, 512)       4608      \n",
      " D)                                                              \n",
      "                                                                 \n",
      " conv_dw_11_bn (BatchNormal  (None, 14, 14, 512)       2048      \n",
      " ization)                                                        \n",
      "                                                                 \n",
      " conv_dw_11_relu (ReLU)      (None, 14, 14, 512)       0         \n",
      "                                                                 \n",
      " conv_pw_11 (Conv2D)         (None, 14, 14, 512)       262144    \n",
      "                                                                 \n",
      " conv_pw_11_bn (BatchNormal  (None, 14, 14, 512)       2048      \n",
      " ization)                                                        \n",
      "                                                                 \n",
      " conv_pw_11_relu (ReLU)      (None, 14, 14, 512)       0         \n",
      "                                                                 \n",
      " conv_pad_12 (ZeroPadding2D  (None, 15, 15, 512)       0         \n",
      " )                                                               \n",
      "                                                                 \n",
      " conv_dw_12 (DepthwiseConv2  (None, 7, 7, 512)         4608      \n",
      " D)                                                              \n",
      "                                                                 \n",
      " conv_dw_12_bn (BatchNormal  (None, 7, 7, 512)         2048      \n",
      " ization)                                                        \n",
      "                                                                 \n",
      " conv_dw_12_relu (ReLU)      (None, 7, 7, 512)         0         \n",
      "                                                                 \n",
      " conv_pw_12 (Conv2D)         (None, 7, 7, 1024)        524288    \n",
      "                                                                 \n",
      " conv_pw_12_bn (BatchNormal  (None, 7, 7, 1024)        4096      \n",
      " ization)                                                        \n",
      "                                                                 \n",
      " conv_pw_12_relu (ReLU)      (None, 7, 7, 1024)        0         \n",
      "                                                                 \n",
      " conv_dw_13 (DepthwiseConv2  (None, 7, 7, 1024)        9216      \n",
      " D)                                                              \n",
      "                                                                 \n",
      " conv_dw_13_bn (BatchNormal  (None, 7, 7, 1024)        4096      \n",
      " ization)                                                        \n",
      "                                                                 \n",
      " conv_dw_13_relu (ReLU)      (None, 7, 7, 1024)        0         \n",
      "                                                                 \n",
      " conv_pw_13 (Conv2D)         (None, 7, 7, 1024)        1048576   \n",
      "                                                                 \n",
      " conv_pw_13_bn (BatchNormal  (None, 7, 7, 1024)        4096      \n",
      " ization)                                                        \n",
      "                                                                 \n",
      " conv_pw_13_relu (ReLU)      (None, 7, 7, 1024)        0         \n",
      "                                                                 \n",
      "=================================================================\n",
      "Total params: 3228864 (12.32 MB)\n",
      "Trainable params: 0 (0.00 Byte)\n",
      "Non-trainable params: 3228864 (12.32 MB)\n",
      "_________________________________________________________________\n"
     ]
    }
   ],
   "source": [
    "base_model = MobileNet(\n",
    "    weights='imagenet',\n",
    "    include_top=False,\n",
    "    input_shape=(224, 224, 3)\n",
    ")\n",
    "base_model.trainable = False\n",
    "base_model.summary()"
   ]
  },
  {
   "cell_type": "code",
   "execution_count": 12,
   "id": "f860be74-47ef-4bfb-bc54-5da1014c7e76",
   "metadata": {},
   "outputs": [],
   "source": [
    "#Add random seed\n",
    "seed_value = 42\n",
    "random.seed(seed_value)\n",
    "np.random.seed(seed_value)\n",
    "tensorflow.random.set_seed(seed_value) #use in dropout"
   ]
  },
  {
   "cell_type": "code",
   "execution_count": 13,
   "id": "9dc91a5f",
   "metadata": {},
   "outputs": [
    {
     "name": "stdout",
     "output_type": "stream",
     "text": [
      "Model: \"sequential\"\n",
      "_________________________________________________________________\n",
      " Layer (type)                Output Shape              Param #   \n",
      "=================================================================\n",
      " mobilenet_1.00_224 (Functi  (None, 7, 7, 1024)        3228864   \n",
      " onal)                                                           \n",
      "                                                                 \n",
      " global_average_pooling2d (  (None, 1024)              0         \n",
      " GlobalAveragePooling2D)                                         \n",
      "                                                                 \n",
      " batch_normalization (Batch  (None, 1024)              4096      \n",
      " Normalization)                                                  \n",
      "                                                                 \n",
      " reshape (Reshape)           (None, 1024, 1)           0         \n",
      "                                                                 \n",
      " average_pooling1d (Average  (None, 512, 1)            0         \n",
      " Pooling1D)                                                      \n",
      "                                                                 \n",
      " flatten (Flatten)           (None, 512)               0         \n",
      "                                                                 \n",
      " dropout (Dropout)           (None, 512)               0         \n",
      "                                                                 \n",
      " dense (Dense)               (None, 128)               65664     \n",
      "                                                                 \n",
      " dropout_1 (Dropout)         (None, 128)               0         \n",
      "                                                                 \n",
      " dense_1 (Dense)             (None, 32)                4128      \n",
      "                                                                 \n",
      " dropout_2 (Dropout)         (None, 32)                0         \n",
      "                                                                 \n",
      " dense_2 (Dense)             (None, 7)                 231       \n",
      "                                                                 \n",
      "=================================================================\n",
      "Total params: 3302983 (12.60 MB)\n",
      "Trainable params: 72071 (281.53 KB)\n",
      "Non-trainable params: 3230912 (12.32 MB)\n",
      "_________________________________________________________________\n"
     ]
    }
   ],
   "source": [
    "#Create the model\n",
    "model = Sequential()\n",
    "model.add(base_model)\n",
    "# model.add(Dropout(0.3))\n",
    "model.add(tensorflow.keras.layers.GlobalAveragePooling2D())\n",
    "model.add(BatchNormalization(axis = -1, momentum = 0.99, epsilon = 0.001))\n",
    "model.add(tensorflow.keras.layers.Reshape((-1,1)))\n",
    "model.add(tensorflow.keras.layers.AveragePooling1D())\n",
    "model.add(Flatten())\n",
    "model.add(Dropout(0.3,seed=seed_value))\n",
    "model.add(Dense(128, activation='relu'))\n",
    "model.add(Dropout(0.3))\n",
    "model.add(Dense(32, activation='relu'))\n",
    "model.add(Dropout(0.3,seed=seed_value))\n",
    "model.add(Dense(m_num_classes,activation='softmax'))\n",
    "\n",
    "model.summary()"
   ]
  },
  {
   "cell_type": "code",
   "execution_count": 15,
   "id": "144b2c52-e11d-4d92-8b5c-9d8f0261aca3",
   "metadata": {},
   "outputs": [],
   "source": [
    "learning_rate = 0.0001\n",
    "optimizer = tensorflow.keras.optimizers.Adam(learning_rate=learning_rate)\n",
    "loss = tensorflow.keras.losses.CategoricalCrossentropy(from_logits=True)\n",
    "model.compile(optimizer=optimizer, loss=loss, metrics=['accuracy'])"
   ]
  },
  {
   "cell_type": "markdown",
   "id": "bd68f791-1a0e-4fae-8402-5f0f663ac707",
   "metadata": {},
   "source": [
    "Actual Training"
   ]
  },
  {
   "cell_type": "code",
   "execution_count": 16,
   "id": "1a2512c2-848c-4006-b48c-0f791c2de9a6",
   "metadata": {},
   "outputs": [],
   "source": [
    "os.chdir(r'D:\\Lung-PET-CT-Dx\\manifest\\Models')\n",
    "checkpoint_callback = tensorflow.keras.callbacks.ModelCheckpoint(\"multiclass_m_stage_mobilenet_v3.h5\",\n",
    "                     save_best_only=True, # only keep the best model weights on file (delete the rest)\n",
    "                     save_weights_only=False,   # save only the model weights\n",
    "                     verbose=1, # don't print out whether or not model is being saved\n",
    "                     monitor='val_loss')\n",
    "early_stop = tensorflow.keras.callbacks.EarlyStopping(monitor='val_accuracy',\n",
    "                                              mode='auto',\n",
    "                                              patience=5)"
   ]
  },
  {
   "cell_type": "code",
   "execution_count": 17,
   "id": "a7fccf8a-0060-458e-851c-cb3feae8099d",
   "metadata": {},
   "outputs": [
    {
     "name": "stdout",
     "output_type": "stream",
     "text": [
      "Epoch 1/20\n",
      "758/758 [==============================] - ETA: 0s - loss: 2.0472 - accuracy: 0.2876\n",
      "Epoch 1: val_loss improved from inf to 1.72866, saving model to multiclass_m_stage_mobilenet_v3.h5\n",
      "758/758 [==============================] - 702s 923ms/step - loss: 2.0472 - accuracy: 0.2876 - val_loss: 1.7287 - val_accuracy: 0.2977\n",
      "Epoch 2/20\n",
      "758/758 [==============================] - ETA: 0s - loss: 1.5326 - accuracy: 0.2764\n",
      "Epoch 2: val_loss improved from 1.72866 to 1.66214, saving model to multiclass_m_stage_mobilenet_v3.h5\n",
      "758/758 [==============================] - 508s 669ms/step - loss: 1.5326 - accuracy: 0.2764 - val_loss: 1.6621 - val_accuracy: 0.3107\n",
      "Epoch 3/20\n",
      "758/758 [==============================] - ETA: 0s - loss: 1.3520 - accuracy: 0.2947\n",
      "Epoch 3: val_loss improved from 1.66214 to 1.57121, saving model to multiclass_m_stage_mobilenet_v3.h5\n",
      "758/758 [==============================] - 420s 554ms/step - loss: 1.3520 - accuracy: 0.2947 - val_loss: 1.5712 - val_accuracy: 0.3350\n",
      "Epoch 4/20\n",
      "758/758 [==============================] - ETA: 0s - loss: 1.2004 - accuracy: 0.3073\n",
      "Epoch 4: val_loss improved from 1.57121 to 1.48590, saving model to multiclass_m_stage_mobilenet_v3.h5\n",
      "758/758 [==============================] - 551s 727ms/step - loss: 1.2004 - accuracy: 0.3073 - val_loss: 1.4859 - val_accuracy: 0.3515\n",
      "Epoch 5/20\n",
      "758/758 [==============================] - ETA: 0s - loss: 1.0846 - accuracy: 0.3280\n",
      "Epoch 5: val_loss improved from 1.48590 to 1.39736, saving model to multiclass_m_stage_mobilenet_v3.h5\n",
      "758/758 [==============================] - 503s 663ms/step - loss: 1.0846 - accuracy: 0.3280 - val_loss: 1.3974 - val_accuracy: 0.3775\n",
      "Epoch 6/20\n",
      "758/758 [==============================] - ETA: 0s - loss: 0.9961 - accuracy: 0.3407\n",
      "Epoch 6: val_loss improved from 1.39736 to 1.32299, saving model to multiclass_m_stage_mobilenet_v3.h5\n",
      "758/758 [==============================] - 425s 560ms/step - loss: 0.9961 - accuracy: 0.3407 - val_loss: 1.3230 - val_accuracy: 0.3977\n",
      "Epoch 7/20\n",
      "758/758 [==============================] - ETA: 0s - loss: 0.9035 - accuracy: 0.3664\n",
      "Epoch 7: val_loss improved from 1.32299 to 1.26300, saving model to multiclass_m_stage_mobilenet_v3.h5\n",
      "758/758 [==============================] - 420s 554ms/step - loss: 0.9035 - accuracy: 0.3664 - val_loss: 1.2630 - val_accuracy: 0.4234\n",
      "Epoch 8/20\n",
      "758/758 [==============================] - ETA: 0s - loss: 0.8663 - accuracy: 0.3793\n",
      "Epoch 8: val_loss improved from 1.26300 to 1.19713, saving model to multiclass_m_stage_mobilenet_v3.h5\n",
      "758/758 [==============================] - 419s 552ms/step - loss: 0.8663 - accuracy: 0.3793 - val_loss: 1.1971 - val_accuracy: 0.4382\n",
      "Epoch 9/20\n",
      "758/758 [==============================] - ETA: 0s - loss: 0.8165 - accuracy: 0.4080\n",
      "Epoch 9: val_loss improved from 1.19713 to 1.14790, saving model to multiclass_m_stage_mobilenet_v3.h5\n",
      "758/758 [==============================] - 416s 549ms/step - loss: 0.8165 - accuracy: 0.4080 - val_loss: 1.1479 - val_accuracy: 0.4645\n",
      "Epoch 10/20\n",
      "758/758 [==============================] - ETA: 0s - loss: 0.7469 - accuracy: 0.4280\n",
      "Epoch 10: val_loss improved from 1.14790 to 1.08624, saving model to multiclass_m_stage_mobilenet_v3.h5\n",
      "758/758 [==============================] - 416s 549ms/step - loss: 0.7469 - accuracy: 0.4280 - val_loss: 1.0862 - val_accuracy: 0.4895\n",
      "Epoch 11/20\n",
      "758/758 [==============================] - ETA: 0s - loss: 0.7084 - accuracy: 0.4573\n",
      "Epoch 11: val_loss improved from 1.08624 to 1.04054, saving model to multiclass_m_stage_mobilenet_v3.h5\n",
      "758/758 [==============================] - 416s 549ms/step - loss: 0.7084 - accuracy: 0.4573 - val_loss: 1.0405 - val_accuracy: 0.5088\n",
      "Epoch 12/20\n",
      "758/758 [==============================] - ETA: 0s - loss: 0.6490 - accuracy: 0.4729\n",
      "Epoch 12: val_loss improved from 1.04054 to 0.98548, saving model to multiclass_m_stage_mobilenet_v3.h5\n",
      "758/758 [==============================] - 417s 551ms/step - loss: 0.6490 - accuracy: 0.4729 - val_loss: 0.9855 - val_accuracy: 0.5412\n",
      "Epoch 13/20\n",
      "758/758 [==============================] - ETA: 0s - loss: 0.6386 - accuracy: 0.4887\n",
      "Epoch 13: val_loss improved from 0.98548 to 0.94514, saving model to multiclass_m_stage_mobilenet_v3.h5\n",
      "758/758 [==============================] - 433s 571ms/step - loss: 0.6386 - accuracy: 0.4887 - val_loss: 0.9451 - val_accuracy: 0.5652\n",
      "Epoch 14/20\n",
      "758/758 [==============================] - ETA: 0s - loss: 0.6198 - accuracy: 0.5059\n",
      "Epoch 14: val_loss improved from 0.94514 to 0.91275, saving model to multiclass_m_stage_mobilenet_v3.h5\n",
      "758/758 [==============================] - 417s 550ms/step - loss: 0.6198 - accuracy: 0.5059 - val_loss: 0.9128 - val_accuracy: 0.5817\n",
      "Epoch 15/20\n",
      "758/758 [==============================] - ETA: 0s - loss: 0.5725 - accuracy: 0.5204\n",
      "Epoch 15: val_loss improved from 0.91275 to 0.86274, saving model to multiclass_m_stage_mobilenet_v3.h5\n",
      "758/758 [==============================] - 418s 552ms/step - loss: 0.5725 - accuracy: 0.5204 - val_loss: 0.8627 - val_accuracy: 0.6185\n",
      "Epoch 16/20\n",
      "758/758 [==============================] - ETA: 0s - loss: 0.5448 - accuracy: 0.5458\n",
      "Epoch 16: val_loss improved from 0.86274 to 0.83520, saving model to multiclass_m_stage_mobilenet_v3.h5\n",
      "758/758 [==============================] - 416s 550ms/step - loss: 0.5448 - accuracy: 0.5458 - val_loss: 0.8352 - val_accuracy: 0.6239\n",
      "Epoch 17/20\n",
      "758/758 [==============================] - ETA: 0s - loss: 0.5415 - accuracy: 0.5489\n",
      "Epoch 17: val_loss improved from 0.83520 to 0.81671, saving model to multiclass_m_stage_mobilenet_v3.h5\n",
      "758/758 [==============================] - 417s 550ms/step - loss: 0.5415 - accuracy: 0.5489 - val_loss: 0.8167 - val_accuracy: 0.6386\n",
      "Epoch 18/20\n",
      "758/758 [==============================] - ETA: 0s - loss: 0.5213 - accuracy: 0.5620\n",
      "Epoch 18: val_loss improved from 0.81671 to 0.78498, saving model to multiclass_m_stage_mobilenet_v3.h5\n",
      "758/758 [==============================] - 417s 550ms/step - loss: 0.5213 - accuracy: 0.5620 - val_loss: 0.7850 - val_accuracy: 0.6518\n",
      "Epoch 19/20\n",
      "758/758 [==============================] - ETA: 0s - loss: 0.4816 - accuracy: 0.5854\n",
      "Epoch 19: val_loss improved from 0.78498 to 0.74501, saving model to multiclass_m_stage_mobilenet_v3.h5\n",
      "758/758 [==============================] - 416s 549ms/step - loss: 0.4816 - accuracy: 0.5854 - val_loss: 0.7450 - val_accuracy: 0.6696\n",
      "Epoch 20/20\n",
      "758/758 [==============================] - ETA: 0s - loss: 0.4767 - accuracy: 0.5863\n",
      "Epoch 20: val_loss did not improve from 0.74501\n",
      "758/758 [==============================] - 416s 549ms/step - loss: 0.4767 - accuracy: 0.5863 - val_loss: 0.7603 - val_accuracy: 0.6645\n",
      "8964.6886161\n"
     ]
    }
   ],
   "source": [
    "start = perf_counter()\n",
    "history = model.fit(m_train_ds,\n",
    "                    epochs=20,\n",
    "                    steps_per_epoch=len(m_train_ds),\n",
    "                    validation_data=m_test_ds,\n",
    "                    validation_steps=len(m_test_ds),\n",
    "                    callbacks=[checkpoint_callback, early_stop],\n",
    "                    verbose=1,\n",
    "                    class_weight=m_class_weights)\n",
    "end = perf_counter()\n",
    "print(end - start)\n"
   ]
  },
  {
   "cell_type": "markdown",
   "id": "222da122-a517-4c12-8e9d-fb795581cb31",
   "metadata": {},
   "source": [
    "Approximate training time: 8964.6886161 seconds"
   ]
  },
  {
   "cell_type": "code",
   "execution_count": 18,
   "id": "4951ff1b-5472-44c3-aab5-dbd75b2b9353",
   "metadata": {},
   "outputs": [],
   "source": [
    "#Evaluate performance\n",
    "def plot_loss_curves(history):\n",
    "  loss = history.history['loss']\n",
    "  val_loss = history.history['val_loss']\n",
    "\n",
    "  accuracy = history.history['accuracy']\n",
    "  val_accuracy = history.history['val_accuracy']\n",
    "\n",
    "  epochs = range(len(history.history['loss']))\n",
    "\n",
    "  # Plot loss\n",
    "  plt.plot(epochs, loss, label='training_loss')\n",
    "  plt.plot(epochs, val_loss, label='val_loss')\n",
    "  plt.title('Loss')\n",
    "  plt.xlabel('Epochs')\n",
    "  plt.legend()\n",
    "\n",
    "  # Plot accuracy\n",
    "  plt.figure()\n",
    "  plt.plot(epochs, accuracy, label='training_accuracy')\n",
    "  plt.plot(epochs, val_accuracy, label='val_accuracy')\n",
    "  plt.title('Accuracy')\n",
    "  plt.xlabel('Epochs')\n",
    "  plt.legend();"
   ]
  },
  {
   "cell_type": "code",
   "execution_count": 19,
   "id": "d0d32947-6fbe-4603-a70e-7e28bb80d2be",
   "metadata": {},
   "outputs": [
    {
     "data": {
      "image/png": "[encoded data removed]",
      "text/plain": [
       "<Figure size 640x480 with 1 Axes>"
      ]
     },
     "metadata": {},
     "output_type": "display_data"
    },
    {
     "data": {
      "image/png": "[encoded data removed]",
      "text/plain": [
       "<Figure size 640x480 with 1 Axes>"
      ]
     },
     "metadata": {},
     "output_type": "display_data"
    }
   ],
   "source": [
    "plot_loss_curves(history)"
   ]
  },
  {
   "cell_type": "code",
   "execution_count": 20,
   "id": "8fffd498-df61-4304-8261-29db9e0b849b",
   "metadata": {},
   "outputs": [
    {
     "name": "stdout",
     "output_type": "stream",
     "text": [
      "190/190 [==============================] - 84s 437ms/step\n",
      "Confusion Matrix\n",
      "Classification Report for M-Stage\n",
      "              precision    recall  f1-score   support\n",
      "\n",
      "           0       0.96      0.58      0.72      4181\n",
      "           1       0.56      0.81      0.66      1249\n",
      "          1a       0.25      0.97      0.40       174\n",
      "          1b       0.41      0.96      0.57       269\n",
      "          1c       0.41      0.97      0.58       184\n",
      "           2       0.50      1.00      0.67         2\n",
      "           3       0.19      1.00      0.32         4\n",
      "\n",
      "    accuracy                           0.66      6063\n",
      "   macro avg       0.47      0.90      0.56      6063\n",
      "weighted avg       0.82      0.66      0.69      6063\n",
      "\n"
     ]
    },
    {
     "data": {
      "image/png": "[encoded data removed]",
      "text/plain": [
       "<Figure size 640x480 with 2 Axes>"
      ]
     },
     "metadata": {},
     "output_type": "display_data"
    }
   ],
   "source": [
    "m_Y_pred = model.predict(m_test_ds) #predictions\n",
    "m_Y_ground = m_test_df.m.to_list()\n",
    "m_y_pred = np.argmax(m_Y_pred,axis=1)\n",
    "print('Confusion Matrix')\n",
    "cm = confusion_matrix(m_test_ds.classes, m_y_pred)\n",
    "cmd = ConfusionMatrixDisplay(cm, display_labels=m_stg)\n",
    "cmd.plot()\n",
    "\n",
    "print('Classification Report for M-Stage')\n",
    "\n",
    "print(classification_report(m_test_ds.classes, m_y_pred, target_names=m_stg))\n"
   ]
  },
  {
   "cell_type": "code",
   "execution_count": 21,
   "id": "190b8516-0c75-4e80-8e7a-4c9d1315e6ef",
   "metadata": {},
   "outputs": [
    {
     "name": "stdout",
     "output_type": "stream",
     "text": [
      "1/1 [==============================] - 1s 532ms/step\n",
      "[0.16220465 0.10172363 0.5174141  0.1337574  0.01237867 0.02442367\n",
      " 0.04809779]\n"
     ]
    }
   ],
   "source": [
    "from tensorflow.keras.preprocessing import image\n",
    "test_img = r'Raw CT Images\\Lung_Dx-A0065_10-26-2008-NA-lungc-32319_3.000000-5mm Lung SS50-68818_1-34.tiff'\n",
    "test = image.load_img(test_img, target_size=(224,224))\n",
    "test_img_array = image.img_to_array(test)\n",
    "img_batch = np.expand_dims(test_img_array, axis=0)\n",
    "img_preprocessed = preprocess_input(img_batch)\n",
    "prediction = model.predict(img_preprocessed)\n",
    "print(prediction[0])"
   ]
  }
 ],
 "metadata": {
  "kernelspec": {
   "display_name": "Python 3 (ipykernel)",
   "language": "python",
   "name": "python3"
  },
  "language_info": {
   "codemirror_mode": {
    "name": "ipython",
    "version": 3
   },
   "file_extension": ".py",
   "mimetype": "text/x-python",
   "name": "python",
   "nbconvert_exporter": "python",
   "pygments_lexer": "ipython3",
   "version": "3.9.13"
  }
 },
 "nbformat": 4,
 "nbformat_minor": 5
}
