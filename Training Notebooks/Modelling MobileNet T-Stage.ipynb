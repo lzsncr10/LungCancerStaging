{
 "cells": [
  {
   "cell_type": "markdown",
   "id": "7d39fbdc-3fd8-49c6-90b3-0b8c2aeab87c",
   "metadata": {},
   "source": [
    "## Modelling Draft <br>\n",
    "Framework: Tensorflow Keras <br>\n",
    "Base models to test: <br>\n",
    "<li>Xception </li>\n",
    "<li>MobileNet ✓</li>\n",
    "<li>NasNet Mobile </li>"
   ]
  },
  {
   "cell_type": "markdown",
   "id": "d32b521b-125c-4bf6-a6cc-e2c1261b4323",
   "metadata": {},
   "source": [
    "#### Import Packages"
   ]
  },
  {
   "cell_type": "code",
   "execution_count": 1,
   "id": "79e930dc-7aa2-4d30-ae1c-6605cb0a1eb3",
   "metadata": {},
   "outputs": [
    {
     "name": "stdout",
     "output_type": "stream",
     "text": [
      "All modules are loaded\n"
     ]
    }
   ],
   "source": [
    "# import numpy as np\n",
    "# from PIL import Image\n",
    "# from tensorflow.keras import backend as K\n",
    "import pandas as pd\n",
    "import matplotlib.pyplot as plt\n",
    "import tensorflow\n",
    "import random\n",
    "import os\n",
    "import numpy as np\n",
    "from tensorflow.keras.models import Sequential\n",
    "from tensorflow.keras.layers import Activation, Dense, Dropout, BatchNormalization, Flatten, Input\n",
    "from tensorflow.keras.optimizers import *\n",
    "from tensorflow.keras.metrics import *\n",
    "from tensorflow.keras.utils import to_categorical\n",
    "from tensorflow.keras.preprocessing.image import ImageDataGenerator\n",
    "from tensorflow.keras.applications.mobilenet import MobileNet\n",
    "from tensorflow.keras.applications.mobilenet import preprocess_input\n",
    "from sklearn.model_selection import train_test_split\n",
    "from sklearn.metrics._plot.confusion_matrix import ConfusionMatrixDisplay\n",
    "from sklearn.metrics import classification_report, confusion_matrix\n",
    "from sklearn.utils import class_weight\n",
    "from time import perf_counter\n",
    "\n",
    "import sys\n",
    "if not sys.warnoptions:\n",
    "    import warnings\n",
    "    warnings.simplefilter(\"ignore\")\n",
    "pd.set_option('display.max_columns', None)  # or 1000\n",
    "pd.set_option('display.max_rows', None)  # or 1000\n",
    "pd.set_option('display.max_colwidth', None)  # or 199\n",
    "print ('All modules are loaded')"
   ]
  },
  {
   "cell_type": "code",
   "execution_count": 2,
   "id": "9121c71a-01e4-46a9-821e-378a2bd8dd5c",
   "metadata": {},
   "outputs": [
    {
     "data": {
      "text/html": [
       "<div>\n",
       "<style scoped>\n",
       "    .dataframe tbody tr th:only-of-type {\n",
       "        vertical-align: middle;\n",
       "    }\n",
       "\n",
       "    .dataframe tbody tr th {\n",
       "        vertical-align: top;\n",
       "    }\n",
       "\n",
       "    .dataframe thead th {\n",
       "        text-align: right;\n",
       "    }\n",
       "</style>\n",
       "<table border=\"1\" class=\"dataframe\">\n",
       "  <thead>\n",
       "    <tr style=\"text-align: right;\">\n",
       "      <th></th>\n",
       "      <th>filenames</th>\n",
       "      <th>t</th>\n",
       "    </tr>\n",
       "  </thead>\n",
       "  <tbody>\n",
       "    <tr>\n",
       "      <th>0</th>\n",
       "      <td>Lung_Dx-A0001_04-04-2007-NA-Chest-07990_2.000000-5mm-40805_1-13.tiff</td>\n",
       "      <td>2b</td>\n",
       "    </tr>\n",
       "    <tr>\n",
       "      <th>1</th>\n",
       "      <td>Lung_Dx-A0001_04-04-2007-NA-Chest-07990_2.000000-5mm-40805_1-14.tiff</td>\n",
       "      <td>2b</td>\n",
       "    </tr>\n",
       "    <tr>\n",
       "      <th>2</th>\n",
       "      <td>Lung_Dx-A0001_04-04-2007-NA-Chest-07990_2.000000-5mm-40805_1-15.tiff</td>\n",
       "      <td>2b</td>\n",
       "    </tr>\n",
       "    <tr>\n",
       "      <th>3</th>\n",
       "      <td>Lung_Dx-A0001_04-04-2007-NA-Chest-07990_2.000000-5mm-40805_1-16.tiff</td>\n",
       "      <td>2b</td>\n",
       "    </tr>\n",
       "    <tr>\n",
       "      <th>4</th>\n",
       "      <td>Lung_Dx-A0001_04-04-2007-NA-Chest-07990_2.000000-5mm-40805_1-17.tiff</td>\n",
       "      <td>2b</td>\n",
       "    </tr>\n",
       "  </tbody>\n",
       "</table>\n",
       "</div>"
      ],
      "text/plain": [
       "                                                              filenames   t\n",
       "0  Lung_Dx-A0001_04-04-2007-NA-Chest-07990_2.000000-5mm-40805_1-13.tiff  2b\n",
       "1  Lung_Dx-A0001_04-04-2007-NA-Chest-07990_2.000000-5mm-40805_1-14.tiff  2b\n",
       "2  Lung_Dx-A0001_04-04-2007-NA-Chest-07990_2.000000-5mm-40805_1-15.tiff  2b\n",
       "3  Lung_Dx-A0001_04-04-2007-NA-Chest-07990_2.000000-5mm-40805_1-16.tiff  2b\n",
       "4  Lung_Dx-A0001_04-04-2007-NA-Chest-07990_2.000000-5mm-40805_1-17.tiff  2b"
      ]
     },
     "execution_count": 2,
     "metadata": {},
     "output_type": "execute_result"
    }
   ],
   "source": [
    "#Labels\n",
    "# t_stg= ['is','1','1a','1b','1c','2','2a','2b','3','4']\n",
    "# n_stg = ['0','1','2','3']\n",
    "# m_stg = ['0','1','1a','1b','1c','2','3'] \n",
    "\n",
    "#Load the image batches, labels == t,m,n\n",
    "t_raw_df = pd.read_csv(r'D:\\Lung-PET-CT-Dx\\manifest\\raw_ct_delimited.csv',usecols=['filenames','t'])\n",
    "raw_dir = r'C:\\Users\\lzsnc\\Desktop\\Raw CT Images'\n",
    "# seg_df = pd.read_csv(r'D:\\Lung-PET-CT-Dx\\manifest\\segmented ct image files.csv',usecols=['filenames','labels'])\n",
    "# seg_dir = r'C:\\Users\\lzsnc\\Desktop\\Masked CT images'\n",
    "# seg_df.head()\n",
    "# os.chdir(r'C:\\Users\\lzsnc\\Desktop\\Raw CT Images')\n",
    "t_raw_df.head()"
   ]
  },
  {
   "cell_type": "code",
   "execution_count": 3,
   "id": "d853207d-9ec3-46af-86fa-d77396d6a5f7",
   "metadata": {},
   "outputs": [
    {
     "data": {
      "text/html": [
       "<div>\n",
       "<style scoped>\n",
       "    .dataframe tbody tr th:only-of-type {\n",
       "        vertical-align: middle;\n",
       "    }\n",
       "\n",
       "    .dataframe tbody tr th {\n",
       "        vertical-align: top;\n",
       "    }\n",
       "\n",
       "    .dataframe thead th {\n",
       "        text-align: right;\n",
       "    }\n",
       "</style>\n",
       "<table border=\"1\" class=\"dataframe\">\n",
       "  <thead>\n",
       "    <tr style=\"text-align: right;\">\n",
       "      <th></th>\n",
       "      <th>filenames</th>\n",
       "      <th>t</th>\n",
       "    </tr>\n",
       "  </thead>\n",
       "  <tbody>\n",
       "    <tr>\n",
       "      <th>0</th>\n",
       "      <td>Lung_Dx-A0001_04-04-2007-NA-Chest-07990_2.000000-5mm-40805_1-13.tiff</td>\n",
       "      <td>2b</td>\n",
       "    </tr>\n",
       "    <tr>\n",
       "      <th>1</th>\n",
       "      <td>Lung_Dx-A0001_04-04-2007-NA-Chest-07990_2.000000-5mm-40805_1-14.tiff</td>\n",
       "      <td>2b</td>\n",
       "    </tr>\n",
       "    <tr>\n",
       "      <th>2</th>\n",
       "      <td>Lung_Dx-A0001_04-04-2007-NA-Chest-07990_2.000000-5mm-40805_1-15.tiff</td>\n",
       "      <td>2b</td>\n",
       "    </tr>\n",
       "    <tr>\n",
       "      <th>3</th>\n",
       "      <td>Lung_Dx-A0001_04-04-2007-NA-Chest-07990_2.000000-5mm-40805_1-16.tiff</td>\n",
       "      <td>2b</td>\n",
       "    </tr>\n",
       "    <tr>\n",
       "      <th>4</th>\n",
       "      <td>Lung_Dx-A0001_04-04-2007-NA-Chest-07990_2.000000-5mm-40805_1-17.tiff</td>\n",
       "      <td>2b</td>\n",
       "    </tr>\n",
       "  </tbody>\n",
       "</table>\n",
       "</div>"
      ],
      "text/plain": [
       "                                                              filenames   t\n",
       "0  Lung_Dx-A0001_04-04-2007-NA-Chest-07990_2.000000-5mm-40805_1-13.tiff  2b\n",
       "1  Lung_Dx-A0001_04-04-2007-NA-Chest-07990_2.000000-5mm-40805_1-14.tiff  2b\n",
       "2  Lung_Dx-A0001_04-04-2007-NA-Chest-07990_2.000000-5mm-40805_1-15.tiff  2b\n",
       "3  Lung_Dx-A0001_04-04-2007-NA-Chest-07990_2.000000-5mm-40805_1-16.tiff  2b\n",
       "4  Lung_Dx-A0001_04-04-2007-NA-Chest-07990_2.000000-5mm-40805_1-17.tiff  2b"
      ]
     },
     "execution_count": 3,
     "metadata": {},
     "output_type": "execute_result"
    }
   ],
   "source": [
    "t_raw_df.head()"
   ]
  },
  {
   "cell_type": "markdown",
   "id": "c4168ea9-a48c-42c1-b633-dacebb37f478",
   "metadata": {},
   "source": [
    "#### Split Dataset: <br>\n",
    "80% Train, 20% Test"
   ]
  },
  {
   "cell_type": "code",
   "execution_count": 4,
   "id": "2073cef9-9828-428d-a13a-b60cbbeb591b",
   "metadata": {},
   "outputs": [
    {
     "data": {
      "text/html": [
       "<div>\n",
       "<style scoped>\n",
       "    .dataframe tbody tr th:only-of-type {\n",
       "        vertical-align: middle;\n",
       "    }\n",
       "\n",
       "    .dataframe tbody tr th {\n",
       "        vertical-align: top;\n",
       "    }\n",
       "\n",
       "    .dataframe thead th {\n",
       "        text-align: right;\n",
       "    }\n",
       "</style>\n",
       "<table border=\"1\" class=\"dataframe\">\n",
       "  <thead>\n",
       "    <tr style=\"text-align: right;\">\n",
       "      <th></th>\n",
       "      <th>filenames</th>\n",
       "      <th>t</th>\n",
       "    </tr>\n",
       "  </thead>\n",
       "  <tbody>\n",
       "    <tr>\n",
       "      <th>29802</th>\n",
       "      <td>Lung_Dx-G0060_01-21-2011-NA-PET01PTheadlung Adult-07418_10.000000-Thorax  1.0  B70f-17914_1-168.tiff</td>\n",
       "      <td>2a</td>\n",
       "    </tr>\n",
       "    <tr>\n",
       "      <th>5390</th>\n",
       "      <td>Lung_Dx-A0170_12-02-2010-NA-PET03CBMWholebodyFirstHead Adult-02190_10.000000-Thorax  1.0  B70f-48719_1-150.tiff</td>\n",
       "      <td>2a</td>\n",
       "    </tr>\n",
       "    <tr>\n",
       "      <th>860</th>\n",
       "      <td>Lung_Dx-A0030_10-08-2008-NA-LUNGCTA-12839_2.000000-5mm Stnd SS50-99357_3-034.tiff</td>\n",
       "      <td>1c</td>\n",
       "    </tr>\n",
       "    <tr>\n",
       "      <th>15795</th>\n",
       "      <td>Lung_Dx-A0242_06-30-2010-NA-PET03WholebodyFirstHead Adult-08887_10.000000-Thorax  1.0  B70f-74050_1-077.tiff</td>\n",
       "      <td>3</td>\n",
       "    </tr>\n",
       "    <tr>\n",
       "      <th>23654</th>\n",
       "      <td>Lung_Dx-G0017_10-24-2009-NA-LUNGC-80644_2.000000-A phase 5mm Stnd SS50-33209_2-033.tiff</td>\n",
       "      <td>2</td>\n",
       "    </tr>\n",
       "  </tbody>\n",
       "</table>\n",
       "</div>"
      ],
      "text/plain": [
       "                                                                                                             filenames  \\\n",
       "29802             Lung_Dx-G0060_01-21-2011-NA-PET01PTheadlung Adult-07418_10.000000-Thorax  1.0  B70f-17914_1-168.tiff   \n",
       "5390   Lung_Dx-A0170_12-02-2010-NA-PET03CBMWholebodyFirstHead Adult-02190_10.000000-Thorax  1.0  B70f-48719_1-150.tiff   \n",
       "860                                  Lung_Dx-A0030_10-08-2008-NA-LUNGCTA-12839_2.000000-5mm Stnd SS50-99357_3-034.tiff   \n",
       "15795     Lung_Dx-A0242_06-30-2010-NA-PET03WholebodyFirstHead Adult-08887_10.000000-Thorax  1.0  B70f-74050_1-077.tiff   \n",
       "23654                          Lung_Dx-G0017_10-24-2009-NA-LUNGC-80644_2.000000-A phase 5mm Stnd SS50-33209_2-033.tiff   \n",
       "\n",
       "        t  \n",
       "29802  2a  \n",
       "5390   2a  \n",
       "860    1c  \n",
       "15795   3  \n",
       "23654   2  "
      ]
     },
     "execution_count": 4,
     "metadata": {},
     "output_type": "execute_result"
    }
   ],
   "source": [
    "t_train_df, t_test_df = train_test_split(t_raw_df, test_size=0.2, random_state=42) \n",
    "t_train_df.tail()"
   ]
  },
  {
   "cell_type": "markdown",
   "id": "d84a8e43-21cd-44ae-9e32-2ea87f00e300",
   "metadata": {},
   "source": [
    "#### Train/Test for 'T' Stage"
   ]
  },
  {
   "cell_type": "code",
   "execution_count": 5,
   "id": "d7d1fa1b-96bd-4e16-aae9-4633eb20f835",
   "metadata": {},
   "outputs": [
    {
     "name": "stdout",
     "output_type": "stream",
     "text": [
      "Found 24250 validated image filenames belonging to 10 classes.\n"
     ]
    }
   ],
   "source": [
    "train_batch = 32\n",
    "train_datagen = ImageDataGenerator(rescale=1 / 255.0,\n",
    "                                   featurewise_center=True,\n",
    "                                   featurewise_std_normalization=True,)\n",
    "\n",
    "t_train_ds = train_datagen.flow_from_dataframe(\n",
    "    dataframe=t_train_df,\n",
    "    directory=raw_dir,\n",
    "    x_col='filenames',\n",
    "    y_col='t',\n",
    "    class_mode='categorical',\n",
    "    shuffle=True,\n",
    "    seed=32\n",
    ")"
   ]
  },
  {
   "cell_type": "markdown",
   "id": "cdc14638-fec1-4bbd-a7a0-821597a53333",
   "metadata": {},
   "source": [
    "#### Test Image Generator"
   ]
  },
  {
   "cell_type": "code",
   "execution_count": 6,
   "id": "ce612faf-e209-46d9-aa62-b3dcba0e1abf",
   "metadata": {},
   "outputs": [
    {
     "name": "stdout",
     "output_type": "stream",
     "text": [
      "Found 6063 validated image filenames belonging to 10 classes.\n"
     ]
    }
   ],
   "source": [
    "test_batch = 32\n",
    "test_datagen = ImageDataGenerator(rescale=1 / 255.0)\n",
    "t_test_ds = test_datagen.flow_from_dataframe(\n",
    "    dataframe=t_test_df,\n",
    "    directory=raw_dir,\n",
    "    x_col='filenames',\n",
    "    y_col='t',\n",
    "    class_mode='categorical',\n",
    "    shuffle=False,\n",
    "    seed=32 \n",
    ")"
   ]
  },
  {
   "cell_type": "code",
   "execution_count": 7,
   "id": "3da08044-2dcd-485a-843b-a498219e915e",
   "metadata": {},
   "outputs": [
    {
     "name": "stdout",
     "output_type": "stream",
     "text": [
      "{'1': 0, '1a': 1, '1b': 2, '1c': 3, '2': 4, '2a': 5, '2b': 6, '3': 7, '4': 8, 'is': 9}\n"
     ]
    },
    {
     "data": {
      "text/plain": [
       "10"
      ]
     },
     "execution_count": 7,
     "metadata": {},
     "output_type": "execute_result"
    }
   ],
   "source": [
    "#Validate the number of T-stage classes\n",
    "t_class_dict = t_train_ds.class_indices\n",
    "print(t_class_dict)\n",
    "t_num_classes = len(t_class_dict)\n",
    "t_num_classes"
   ]
  },
  {
   "cell_type": "code",
   "execution_count": 8,
   "id": "60076716-697a-48f3-ab52-f545966d7570",
   "metadata": {},
   "outputs": [
    {
     "data": {
      "text/plain": [
       "{'1': 0,\n",
       " '1a': 1,\n",
       " '1b': 2,\n",
       " '1c': 3,\n",
       " '2': 4,\n",
       " '2a': 5,\n",
       " '2b': 6,\n",
       " '3': 7,\n",
       " '4': 8,\n",
       " 'is': 9}"
      ]
     },
     "execution_count": 8,
     "metadata": {},
     "output_type": "execute_result"
    }
   ],
   "source": [
    "t_class_dict"
   ]
  },
  {
   "cell_type": "markdown",
   "id": "350f10f3-8edc-4443-b628-4cca0eaad4ea",
   "metadata": {},
   "source": [
    "Add Weights to Solve Data Imbalance"
   ]
  },
  {
   "cell_type": "code",
   "execution_count": 9,
   "id": "1fd095b8-7299-424a-8e2d-f7b760048542",
   "metadata": {},
   "outputs": [
    {
     "data": {
      "text/plain": [
       "{0: 6.536388140161725,\n",
       " 1: 6.680440771349862,\n",
       " 2: 1.1232051875868458,\n",
       " 3: 0.3932219880006486,\n",
       " 4: 2.3498062015503876,\n",
       " 5: 0.5871670702179177,\n",
       " 6: 1.2506446621970089,\n",
       " 7: 0.38987138263665594,\n",
       " 8: 1.3222464558342422,\n",
       " 9: 69.28571428571429}"
      ]
     },
     "execution_count": 9,
     "metadata": {},
     "output_type": "execute_result"
    }
   ],
   "source": [
    "t_class_weights = class_weight.compute_class_weight(\n",
    "           class_weight='balanced',\n",
    "           classes=np.unique(t_train_ds.classes),\n",
    "           y=t_train_ds.classes)\n",
    "t_class_weights = dict(zip(np.unique(t_train_ds.classes), t_class_weights))\n",
    "t_class_weights"
   ]
  },
  {
   "cell_type": "markdown",
   "id": "d8ff957d-083b-4d0a-a655-7e9b80026918",
   "metadata": {},
   "source": [
    "Model 1: MobileNet"
   ]
  },
  {
   "cell_type": "code",
   "execution_count": 10,
   "id": "cfdf7d2e-e46b-40d8-bade-9eaa129ec3db",
   "metadata": {},
   "outputs": [
    {
     "name": "stdout",
     "output_type": "stream",
     "text": [
      "Model: \"mobilenet_1.00_224\"\n",
      "_________________________________________________________________\n",
      " Layer (type)                Output Shape              Param #   \n",
      "=================================================================\n",
      " input_1 (InputLayer)        [(None, 224, 224, 3)]     0         \n",
      "                                                                 \n",
      " conv1 (Conv2D)              (None, 112, 112, 32)      864       \n",
      "                                                                 \n",
      " conv1_bn (BatchNormalizati  (None, 112, 112, 32)      128       \n",
      " on)                                                             \n",
      "                                                                 \n",
      " conv1_relu (ReLU)           (None, 112, 112, 32)      0         \n",
      "                                                                 \n",
      " conv_dw_1 (DepthwiseConv2D  (None, 112, 112, 32)      288       \n",
      " )                                                               \n",
      "                                                                 \n",
      " conv_dw_1_bn (BatchNormali  (None, 112, 112, 32)      128       \n",
      " zation)                                                         \n",
      "                                                                 \n",
      " conv_dw_1_relu (ReLU)       (None, 112, 112, 32)      0         \n",
      "                                                                 \n",
      " conv_pw_1 (Conv2D)          (None, 112, 112, 64)      2048      \n",
      "                                                                 \n",
      " conv_pw_1_bn (BatchNormali  (None, 112, 112, 64)      256       \n",
      " zation)                                                         \n",
      "                                                                 \n",
      " conv_pw_1_relu (ReLU)       (None, 112, 112, 64)      0         \n",
      "                                                                 \n",
      " conv_pad_2 (ZeroPadding2D)  (None, 113, 113, 64)      0         \n",
      "                                                                 \n",
      " conv_dw_2 (DepthwiseConv2D  (None, 56, 56, 64)        576       \n",
      " )                                                               \n",
      "                                                                 \n",
      " conv_dw_2_bn (BatchNormali  (None, 56, 56, 64)        256       \n",
      " zation)                                                         \n",
      "                                                                 \n",
      " conv_dw_2_relu (ReLU)       (None, 56, 56, 64)        0         \n",
      "                                                                 \n",
      " conv_pw_2 (Conv2D)          (None, 56, 56, 128)       8192      \n",
      "                                                                 \n",
      " conv_pw_2_bn (BatchNormali  (None, 56, 56, 128)       512       \n",
      " zation)                                                         \n",
      "                                                                 \n",
      " conv_pw_2_relu (ReLU)       (None, 56, 56, 128)       0         \n",
      "                                                                 \n",
      " conv_dw_3 (DepthwiseConv2D  (None, 56, 56, 128)       1152      \n",
      " )                                                               \n",
      "                                                                 \n",
      " conv_dw_3_bn (BatchNormali  (None, 56, 56, 128)       512       \n",
      " zation)                                                         \n",
      "                                                                 \n",
      " conv_dw_3_relu (ReLU)       (None, 56, 56, 128)       0         \n",
      "                                                                 \n",
      " conv_pw_3 (Conv2D)          (None, 56, 56, 128)       16384     \n",
      "                                                                 \n",
      " conv_pw_3_bn (BatchNormali  (None, 56, 56, 128)       512       \n",
      " zation)                                                         \n",
      "                                                                 \n",
      " conv_pw_3_relu (ReLU)       (None, 56, 56, 128)       0         \n",
      "                                                                 \n",
      " conv_pad_4 (ZeroPadding2D)  (None, 57, 57, 128)       0         \n",
      "                                                                 \n",
      " conv_dw_4 (DepthwiseConv2D  (None, 28, 28, 128)       1152      \n",
      " )                                                               \n",
      "                                                                 \n",
      " conv_dw_4_bn (BatchNormali  (None, 28, 28, 128)       512       \n",
      " zation)                                                         \n",
      "                                                                 \n",
      " conv_dw_4_relu (ReLU)       (None, 28, 28, 128)       0         \n",
      "                                                                 \n",
      " conv_pw_4 (Conv2D)          (None, 28, 28, 256)       32768     \n",
      "                                                                 \n",
      " conv_pw_4_bn (BatchNormali  (None, 28, 28, 256)       1024      \n",
      " zation)                                                         \n",
      "                                                                 \n",
      " conv_pw_4_relu (ReLU)       (None, 28, 28, 256)       0         \n",
      "                                                                 \n",
      " conv_dw_5 (DepthwiseConv2D  (None, 28, 28, 256)       2304      \n",
      " )                                                               \n",
      "                                                                 \n",
      " conv_dw_5_bn (BatchNormali  (None, 28, 28, 256)       1024      \n",
      " zation)                                                         \n",
      "                                                                 \n",
      " conv_dw_5_relu (ReLU)       (None, 28, 28, 256)       0         \n",
      "                                                                 \n",
      " conv_pw_5 (Conv2D)          (None, 28, 28, 256)       65536     \n",
      "                                                                 \n",
      " conv_pw_5_bn (BatchNormali  (None, 28, 28, 256)       1024      \n",
      " zation)                                                         \n",
      "                                                                 \n",
      " conv_pw_5_relu (ReLU)       (None, 28, 28, 256)       0         \n",
      "                                                                 \n",
      " conv_pad_6 (ZeroPadding2D)  (None, 29, 29, 256)       0         \n",
      "                                                                 \n",
      " conv_dw_6 (DepthwiseConv2D  (None, 14, 14, 256)       2304      \n",
      " )                                                               \n",
      "                                                                 \n",
      " conv_dw_6_bn (BatchNormali  (None, 14, 14, 256)       1024      \n",
      " zation)                                                         \n",
      "                                                                 \n",
      " conv_dw_6_relu (ReLU)       (None, 14, 14, 256)       0         \n",
      "                                                                 \n",
      " conv_pw_6 (Conv2D)          (None, 14, 14, 512)       131072    \n",
      "                                                                 \n",
      " conv_pw_6_bn (BatchNormali  (None, 14, 14, 512)       2048      \n",
      " zation)                                                         \n",
      "                                                                 \n",
      " conv_pw_6_relu (ReLU)       (None, 14, 14, 512)       0         \n",
      "                                                                 \n",
      " conv_dw_7 (DepthwiseConv2D  (None, 14, 14, 512)       4608      \n",
      " )                                                               \n",
      "                                                                 \n",
      " conv_dw_7_bn (BatchNormali  (None, 14, 14, 512)       2048      \n",
      " zation)                                                         \n",
      "                                                                 \n",
      " conv_dw_7_relu (ReLU)       (None, 14, 14, 512)       0         \n",
      "                                                                 \n",
      " conv_pw_7 (Conv2D)          (None, 14, 14, 512)       262144    \n",
      "                                                                 \n",
      " conv_pw_7_bn (BatchNormali  (None, 14, 14, 512)       2048      \n",
      " zation)                                                         \n",
      "                                                                 \n",
      " conv_pw_7_relu (ReLU)       (None, 14, 14, 512)       0         \n",
      "                                                                 \n",
      " conv_dw_8 (DepthwiseConv2D  (None, 14, 14, 512)       4608      \n",
      " )                                                               \n",
      "                                                                 \n",
      " conv_dw_8_bn (BatchNormali  (None, 14, 14, 512)       2048      \n",
      " zation)                                                         \n",
      "                                                                 \n",
      " conv_dw_8_relu (ReLU)       (None, 14, 14, 512)       0         \n",
      "                                                                 \n",
      " conv_pw_8 (Conv2D)          (None, 14, 14, 512)       262144    \n",
      "                                                                 \n",
      " conv_pw_8_bn (BatchNormali  (None, 14, 14, 512)       2048      \n",
      " zation)                                                         \n",
      "                                                                 \n",
      " conv_pw_8_relu (ReLU)       (None, 14, 14, 512)       0         \n",
      "                                                                 \n",
      " conv_dw_9 (DepthwiseConv2D  (None, 14, 14, 512)       4608      \n",
      " )                                                               \n",
      "                                                                 \n",
      " conv_dw_9_bn (BatchNormali  (None, 14, 14, 512)       2048      \n",
      " zation)                                                         \n",
      "                                                                 \n",
      " conv_dw_9_relu (ReLU)       (None, 14, 14, 512)       0         \n",
      "                                                                 \n",
      " conv_pw_9 (Conv2D)          (None, 14, 14, 512)       262144    \n",
      "                                                                 \n",
      " conv_pw_9_bn (BatchNormali  (None, 14, 14, 512)       2048      \n",
      " zation)                                                         \n",
      "                                                                 \n",
      " conv_pw_9_relu (ReLU)       (None, 14, 14, 512)       0         \n",
      "                                                                 \n",
      " conv_dw_10 (DepthwiseConv2  (None, 14, 14, 512)       4608      \n",
      " D)                                                              \n",
      "                                                                 \n",
      " conv_dw_10_bn (BatchNormal  (None, 14, 14, 512)       2048      \n",
      " ization)                                                        \n",
      "                                                                 \n",
      " conv_dw_10_relu (ReLU)      (None, 14, 14, 512)       0         \n",
      "                                                                 \n",
      " conv_pw_10 (Conv2D)         (None, 14, 14, 512)       262144    \n",
      "                                                                 \n",
      " conv_pw_10_bn (BatchNormal  (None, 14, 14, 512)       2048      \n",
      " ization)                                                        \n",
      "                                                                 \n",
      " conv_pw_10_relu (ReLU)      (None, 14, 14, 512)       0         \n",
      "                                                                 \n",
      " conv_dw_11 (DepthwiseConv2  (None, 14, 14, 512)       4608      \n",
      " D)                                                              \n",
      "                                                                 \n",
      " conv_dw_11_bn (BatchNormal  (None, 14, 14, 512)       2048      \n",
      " ization)                                                        \n",
      "                                                                 \n",
      " conv_dw_11_relu (ReLU)      (None, 14, 14, 512)       0         \n",
      "                                                                 \n",
      " conv_pw_11 (Conv2D)         (None, 14, 14, 512)       262144    \n",
      "                                                                 \n",
      " conv_pw_11_bn (BatchNormal  (None, 14, 14, 512)       2048      \n",
      " ization)                                                        \n",
      "                                                                 \n",
      " conv_pw_11_relu (ReLU)      (None, 14, 14, 512)       0         \n",
      "                                                                 \n",
      " conv_pad_12 (ZeroPadding2D  (None, 15, 15, 512)       0         \n",
      " )                                                               \n",
      "                                                                 \n",
      " conv_dw_12 (DepthwiseConv2  (None, 7, 7, 512)         4608      \n",
      " D)                                                              \n",
      "                                                                 \n",
      " conv_dw_12_bn (BatchNormal  (None, 7, 7, 512)         2048      \n",
      " ization)                                                        \n",
      "                                                                 \n",
      " conv_dw_12_relu (ReLU)      (None, 7, 7, 512)         0         \n",
      "                                                                 \n",
      " conv_pw_12 (Conv2D)         (None, 7, 7, 1024)        524288    \n",
      "                                                                 \n",
      " conv_pw_12_bn (BatchNormal  (None, 7, 7, 1024)        4096      \n",
      " ization)                                                        \n",
      "                                                                 \n",
      " conv_pw_12_relu (ReLU)      (None, 7, 7, 1024)        0         \n",
      "                                                                 \n",
      " conv_dw_13 (DepthwiseConv2  (None, 7, 7, 1024)        9216      \n",
      " D)                                                              \n",
      "                                                                 \n",
      " conv_dw_13_bn (BatchNormal  (None, 7, 7, 1024)        4096      \n",
      " ization)                                                        \n",
      "                                                                 \n",
      " conv_dw_13_relu (ReLU)      (None, 7, 7, 1024)        0         \n",
      "                                                                 \n",
      " conv_pw_13 (Conv2D)         (None, 7, 7, 1024)        1048576   \n",
      "                                                                 \n",
      " conv_pw_13_bn (BatchNormal  (None, 7, 7, 1024)        4096      \n",
      " ization)                                                        \n",
      "                                                                 \n",
      " conv_pw_13_relu (ReLU)      (None, 7, 7, 1024)        0         \n",
      "                                                                 \n",
      "=================================================================\n",
      "Total params: 3228864 (12.32 MB)\n",
      "Trainable params: 0 (0.00 Byte)\n",
      "Non-trainable params: 3228864 (12.32 MB)\n",
      "_________________________________________________________________\n"
     ]
    }
   ],
   "source": [
    "base_model = MobileNet(\n",
    "    weights='imagenet',\n",
    "    include_top=False,\n",
    "    input_shape=(224, 224, 3)\n",
    ")\n",
    "\n",
    "base_model.trainable = False\n",
    "base_model.summary()"
   ]
  },
  {
   "cell_type": "code",
   "execution_count": 11,
   "id": "f860be74-47ef-4bfb-bc54-5da1014c7e76",
   "metadata": {},
   "outputs": [],
   "source": [
    "#Add random seed\n",
    "seed_value = 42\n",
    "random.seed(seed_value)\n",
    "np.random.seed(seed_value)\n",
    "tensorflow.random.set_seed(seed_value) #use in dropout"
   ]
  },
  {
   "cell_type": "code",
   "execution_count": 12,
   "id": "9bade66d-4105-426a-b554-a41132bb1b88",
   "metadata": {},
   "outputs": [
    {
     "name": "stdout",
     "output_type": "stream",
     "text": [
      "Model: \"sequential\"\n",
      "_________________________________________________________________\n",
      " Layer (type)                Output Shape              Param #   \n",
      "=================================================================\n",
      " mobilenet_1.00_224 (Functi  (None, 7, 7, 1024)        3228864   \n",
      " onal)                                                           \n",
      "                                                                 \n",
      " global_average_pooling2d (  (None, 1024)              0         \n",
      " GlobalAveragePooling2D)                                         \n",
      "                                                                 \n",
      " batch_normalization (Batch  (None, 1024)              4096      \n",
      " Normalization)                                                  \n",
      "                                                                 \n",
      " reshape (Reshape)           (None, 1024, 1)           0         \n",
      "                                                                 \n",
      " average_pooling1d (Average  (None, 512, 1)            0         \n",
      " Pooling1D)                                                      \n",
      "                                                                 \n",
      " flatten (Flatten)           (None, 512)               0         \n",
      "                                                                 \n",
      " dropout (Dropout)           (None, 512)               0         \n",
      "                                                                 \n",
      " dense (Dense)               (None, 128)               65664     \n",
      "                                                                 \n",
      " dropout_1 (Dropout)         (None, 128)               0         \n",
      "                                                                 \n",
      " dense_1 (Dense)             (None, 32)                4128      \n",
      "                                                                 \n",
      " dropout_2 (Dropout)         (None, 32)                0         \n",
      "                                                                 \n",
      " dense_2 (Dense)             (None, 10)                330       \n",
      "                                                                 \n",
      "=================================================================\n",
      "Total params: 3303082 (12.60 MB)\n",
      "Trainable params: 72170 (281.91 KB)\n",
      "Non-trainable params: 3230912 (12.32 MB)\n",
      "_________________________________________________________________\n"
     ]
    }
   ],
   "source": [
    "#Create the model\n",
    "model = Sequential()\n",
    "model.add(base_model)\n",
    "# model.add(Dropout(0.3))\n",
    "model.add(tensorflow.keras.layers.GlobalAveragePooling2D())\n",
    "model.add(BatchNormalization(axis = -1, momentum = 0.99, epsilon = 0.001))\n",
    "model.add(tensorflow.keras.layers.Reshape((-1,1)))\n",
    "model.add(tensorflow.keras.layers.AveragePooling1D())\n",
    "model.add(Flatten())\n",
    "model.add(Dropout(0.3,seed=seed_value))\n",
    "model.add(Dense(128, activation='relu'))\n",
    "model.add(Dropout(0.3))\n",
    "model.add(Dense(32, activation='relu'))\n",
    "model.add(Dropout(0.3,seed=seed_value))\n",
    "model.add(Dense(t_num_classes,activation='softmax'))\n",
    "\n",
    "model.summary()"
   ]
  },
  {
   "cell_type": "code",
   "execution_count": 13,
   "id": "144b2c52-e11d-4d92-8b5c-9d8f0261aca3",
   "metadata": {},
   "outputs": [],
   "source": [
    "learning_rate = 0.001\n",
    "optimizer = tensorflow.keras.optimizers.Adam(learning_rate=learning_rate)\n",
    "loss = tensorflow.keras.losses.CategoricalCrossentropy(from_logits=True)\n",
    "model.compile(optimizer=optimizer, loss=loss, metrics=['accuracy'])"
   ]
  },
  {
   "cell_type": "markdown",
   "id": "bd68f791-1a0e-4fae-8402-5f0f663ac707",
   "metadata": {},
   "source": [
    "Actual Training"
   ]
  },
  {
   "cell_type": "code",
   "execution_count": 14,
   "id": "1a2512c2-848c-4006-b48c-0f791c2de9a6",
   "metadata": {},
   "outputs": [],
   "source": [
    "os.chdir(r'D:\\Lung-PET-CT-Dx\\manifest\\Models')\n",
    "checkpoint_callback = tensorflow.keras.callbacks.ModelCheckpoint(\"multiclass_t_stage_mobilenet_v3.h5\",\n",
    "                     save_best_only=True, # only keep the best model weights on file (delete the rest)\n",
    "                     save_weights_only=False,   # save only the model weights\n",
    "                     verbose=1, # don't print out whether or not model is being saved\n",
    "                     monitor='val_loss')\n",
    "\n",
    "early_stop = tensorflow.keras.callbacks.EarlyStopping(monitor='val_accuracy',\n",
    "                                              mode='auto',\n",
    "                                              patience=5)"
   ]
  },
  {
   "cell_type": "code",
   "execution_count": 15,
   "id": "a7fccf8a-0060-458e-851c-cb3feae8099d",
   "metadata": {
    "scrolled": true
   },
   "outputs": [
    {
     "name": "stdout",
     "output_type": "stream",
     "text": [
      "Epoch 1/15\n",
      "758/758 [==============================] - ETA: 0s - loss: 1.5582 - accuracy: 0.2929\n",
      "Epoch 1: val_loss improved from inf to 1.30011, saving model to multiclass_t_stage_mobilenet_v3.h5\n",
      "758/758 [==============================] - 926s 1s/step - loss: 1.5582 - accuracy: 0.2929 - val_loss: 1.3001 - val_accuracy: 0.5103\n",
      "Epoch 2/15\n",
      "758/758 [==============================] - ETA: 0s - loss: 1.0492 - accuracy: 0.4334\n",
      "Epoch 2: val_loss improved from 1.30011 to 1.03590, saving model to multiclass_t_stage_mobilenet_v3.h5\n",
      "758/758 [==============================] - 540s 713ms/step - loss: 1.0492 - accuracy: 0.4334 - val_loss: 1.0359 - val_accuracy: 0.6314\n",
      "Epoch 3/15\n",
      "758/758 [==============================] - ETA: 0s - loss: 0.8774 - accuracy: 0.5022\n",
      "Epoch 3: val_loss improved from 1.03590 to 0.83972, saving model to multiclass_t_stage_mobilenet_v3.h5\n",
      "758/758 [==============================] - 537s 708ms/step - loss: 0.8774 - accuracy: 0.5022 - val_loss: 0.8397 - val_accuracy: 0.7188\n",
      "Epoch 4/15\n",
      "758/758 [==============================] - ETA: 0s - loss: 0.7763 - accuracy: 0.5479\n",
      "Epoch 4: val_loss improved from 0.83972 to 0.77215, saving model to multiclass_t_stage_mobilenet_v3.h5\n",
      "758/758 [==============================] - 534s 704ms/step - loss: 0.7763 - accuracy: 0.5479 - val_loss: 0.7722 - val_accuracy: 0.7349\n",
      "Epoch 5/15\n",
      "758/758 [==============================] - ETA: 0s - loss: 0.6764 - accuracy: 0.5952\n",
      "Epoch 5: val_loss improved from 0.77215 to 0.61955, saving model to multiclass_t_stage_mobilenet_v3.h5\n",
      "758/758 [==============================] - 523s 690ms/step - loss: 0.6764 - accuracy: 0.5952 - val_loss: 0.6195 - val_accuracy: 0.8069\n",
      "Epoch 6/15\n",
      "758/758 [==============================] - ETA: 0s - loss: 0.6305 - accuracy: 0.6307\n",
      "Epoch 6: val_loss improved from 0.61955 to 0.55785, saving model to multiclass_t_stage_mobilenet_v3.h5\n",
      "758/758 [==============================] - 521s 688ms/step - loss: 0.6305 - accuracy: 0.6307 - val_loss: 0.5579 - val_accuracy: 0.8207\n",
      "Epoch 7/15\n",
      "758/758 [==============================] - ETA: 0s - loss: 0.5614 - accuracy: 0.6660\n",
      "Epoch 7: val_loss improved from 0.55785 to 0.48723, saving model to multiclass_t_stage_mobilenet_v3.h5\n",
      "758/758 [==============================] - 515s 680ms/step - loss: 0.5614 - accuracy: 0.6660 - val_loss: 0.4872 - val_accuracy: 0.8417\n",
      "Epoch 8/15\n",
      "758/758 [==============================] - ETA: 0s - loss: 0.5203 - accuracy: 0.6914\n",
      "Epoch 8: val_loss improved from 0.48723 to 0.43647, saving model to multiclass_t_stage_mobilenet_v3.h5\n",
      "758/758 [==============================] - 512s 675ms/step - loss: 0.5203 - accuracy: 0.6914 - val_loss: 0.4365 - val_accuracy: 0.8616\n",
      "Epoch 9/15\n",
      "758/758 [==============================] - ETA: 0s - loss: 0.4688 - accuracy: 0.7155\n",
      "Epoch 9: val_loss improved from 0.43647 to 0.39102, saving model to multiclass_t_stage_mobilenet_v3.h5\n",
      "758/758 [==============================] - 513s 677ms/step - loss: 0.4688 - accuracy: 0.7155 - val_loss: 0.3910 - val_accuracy: 0.8727\n",
      "Epoch 10/15\n",
      "758/758 [==============================] - ETA: 0s - loss: 0.4672 - accuracy: 0.7359\n",
      "Epoch 10: val_loss improved from 0.39102 to 0.35952, saving model to multiclass_t_stage_mobilenet_v3.h5\n",
      "758/758 [==============================] - 513s 677ms/step - loss: 0.4672 - accuracy: 0.7359 - val_loss: 0.3595 - val_accuracy: 0.8839\n",
      "Epoch 11/15\n",
      "758/758 [==============================] - ETA: 0s - loss: 0.4324 - accuracy: 0.7491\n",
      "Epoch 11: val_loss improved from 0.35952 to 0.33178, saving model to multiclass_t_stage_mobilenet_v3.h5\n",
      "758/758 [==============================] - 518s 683ms/step - loss: 0.4324 - accuracy: 0.7491 - val_loss: 0.3318 - val_accuracy: 0.8883\n",
      "Epoch 12/15\n",
      "758/758 [==============================] - ETA: 0s - loss: 0.3964 - accuracy: 0.7652\n",
      "Epoch 12: val_loss improved from 0.33178 to 0.27646, saving model to multiclass_t_stage_mobilenet_v3.h5\n",
      "758/758 [==============================] - 533s 703ms/step - loss: 0.3964 - accuracy: 0.7652 - val_loss: 0.2765 - val_accuracy: 0.9095\n",
      "Epoch 13/15\n",
      "758/758 [==============================] - ETA: 0s - loss: 0.4338 - accuracy: 0.7703\n",
      "Epoch 13: val_loss did not improve from 0.27646\n",
      "758/758 [==============================] - 542s 715ms/step - loss: 0.4338 - accuracy: 0.7703 - val_loss: 0.2848 - val_accuracy: 0.9101\n",
      "Epoch 14/15\n",
      "758/758 [==============================] - ETA: 0s - loss: 0.3980 - accuracy: 0.7748\n",
      "Epoch 14: val_loss improved from 0.27646 to 0.26656, saving model to multiclass_t_stage_mobilenet_v3.h5\n",
      "758/758 [==============================] - 531s 701ms/step - loss: 0.3980 - accuracy: 0.7748 - val_loss: 0.2666 - val_accuracy: 0.9190\n",
      "Epoch 15/15\n",
      "758/758 [==============================] - ETA: 0s - loss: 0.3623 - accuracy: 0.7910\n",
      "Epoch 15: val_loss improved from 0.26656 to 0.22211, saving model to multiclass_t_stage_mobilenet_v3.h5\n",
      "758/758 [==============================] - 515s 680ms/step - loss: 0.3623 - accuracy: 0.7910 - val_loss: 0.2221 - val_accuracy: 0.9301\n",
      "8274.091137000001\n"
     ]
    }
   ],
   "source": [
    "start = perf_counter()\n",
    "history = model.fit(t_train_ds,\n",
    "                    epochs=15,\n",
    "                    steps_per_epoch=len(t_train_ds),\n",
    "                    validation_data=t_test_ds,\n",
    "                    validation_steps=len(t_test_ds),\n",
    "                    callbacks=[checkpoint_callback, early_stop],\n",
    "                    verbose=1,\n",
    "                    class_weight=t_class_weights)\n",
    "end = perf_counter()\n",
    "print(end - start)"
   ]
  },
  {
   "cell_type": "markdown",
   "id": "222da122-a517-4c12-8e9d-fb795581cb31",
   "metadata": {},
   "source": [
    "Load model - skip training <br>"
   ]
  },
  {
   "cell_type": "code",
   "execution_count": 16,
   "id": "4951ff1b-5472-44c3-aab5-dbd75b2b9353",
   "metadata": {},
   "outputs": [],
   "source": [
    "#Evaluate performance\n",
    "def plot_loss_curves(history):\n",
    "  loss = history.history['loss']\n",
    "  val_loss = history.history['val_loss']\n",
    "\n",
    "  accuracy = history.history['accuracy']\n",
    "  val_accuracy = history.history['val_accuracy']\n",
    "\n",
    "  epochs = range(len(history.history['loss']))\n",
    "\n",
    "  # Plot loss\n",
    "  plt.plot(epochs, loss, label='training_loss')\n",
    "  plt.plot(epochs, val_loss, label='val_loss')\n",
    "  plt.title('Loss')\n",
    "  plt.xlabel('Epochs')\n",
    "  plt.legend()\n",
    "\n",
    "  # Plot accuracy\n",
    "  plt.figure()\n",
    "  plt.plot(epochs, accuracy, label='training_accuracy')\n",
    "  plt.plot(epochs, val_accuracy, label='val_accuracy')\n",
    "  plt.title('Accuracy')\n",
    "  plt.xlabel('Epochs')\n",
    "  plt.legend();"
   ]
  },
  {
   "cell_type": "code",
   "execution_count": 17,
   "id": "d0d32947-6fbe-4603-a70e-7e28bb80d2be",
   "metadata": {},
   "outputs": [
    {
     "data": {
      "image/png": "[encoded data removed]",
      "text/plain": [
       "<Figure size 640x480 with 1 Axes>"
      ]
     },
     "metadata": {},
     "output_type": "display_data"
    },
    {
     "data": {
      "image/png": "[encoded data removed]",
      "text/plain": [
       "<Figure size 640x480 with 1 Axes>"
      ]
     },
     "metadata": {},
     "output_type": "display_data"
    }
   ],
   "source": [
    "plot_loss_curves(history)"
   ]
  },
  {
   "cell_type": "code",
   "execution_count": 19,
   "id": "8fffd498-df61-4304-8261-29db9e0b849b",
   "metadata": {
    "scrolled": true
   },
   "outputs": [
    {
     "name": "stdout",
     "output_type": "stream",
     "text": [
      "190/190 [==============================] - 106s 553ms/step\n",
      "Confusion Matrix\n",
      "Classification Report for T-Stage\n",
      "              precision    recall  f1-score   support\n",
      "\n",
      "           1       1.00      1.00      1.00        81\n",
      "          1a       0.96      0.99      0.97        79\n",
      "          1b       0.94      0.99      0.96       524\n",
      "          1c       0.97      0.87      0.91      1535\n",
      "           2       0.59      0.99      0.74       229\n",
      "          2a       0.93      0.96      0.95      1050\n",
      "          2b       0.97      1.00      0.98       510\n",
      "           3       0.96      0.90      0.93      1565\n",
      "           4       0.91      0.99      0.95       480\n",
      "          is       1.00      1.00      1.00        10\n",
      "\n",
      "    accuracy                           0.93      6063\n",
      "   macro avg       0.92      0.97      0.94      6063\n",
      "weighted avg       0.94      0.93      0.93      6063\n",
      "\n"
     ]
    },
    {
     "data": {
      "image/png": "[encoded data removed]",
      "text/plain": [
       "<Figure size 640x480 with 2 Axes>"
      ]
     },
     "metadata": {},
     "output_type": "display_data"
    }
   ],
   "source": [
    "t_class = ['1','1a','1b','1c','2','2a','2b','3','4','is'] \n",
    "t_Y_pred = model.predict(t_test_ds) #predictions\n",
    "t_Y_ground = t_test_df.t.to_list()\n",
    "t_y_pred = np.argmax(t_Y_pred,axis=1)\n",
    "print('Confusion Matrix')\n",
    "cm = confusion_matrix(t_test_ds.classes, t_y_pred)\n",
    "cmd = ConfusionMatrixDisplay(cm, display_labels=t_class)\n",
    "cmd.plot()\n",
    "\n",
    "print('Classification Report for T-Stage')\n",
    "\n",
    "print(classification_report(t_test_ds.classes, t_y_pred, target_names=t_class))\n"
   ]
  }
 ],
 "metadata": {
  "kernelspec": {
   "display_name": "Python 3 (ipykernel)",
   "language": "python",
   "name": "python3"
  },
  "language_info": {
   "codemirror_mode": {
    "name": "ipython",
    "version": 3
   },
   "file_extension": ".py",
   "mimetype": "text/x-python",
   "name": "python",
   "nbconvert_exporter": "python",
   "pygments_lexer": "ipython3",
   "version": "3.9.13"
  }
 },
 "nbformat": 4,
 "nbformat_minor": 5
}
