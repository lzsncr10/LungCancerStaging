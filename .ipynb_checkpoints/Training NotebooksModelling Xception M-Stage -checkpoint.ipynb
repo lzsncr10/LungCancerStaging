{
 "cells": [
  {
   "cell_type": "markdown",
   "id": "7d39fbdc-3fd8-49c6-90b3-0b8c2aeab87c",
   "metadata": {},
   "source": [
    "## Modelling Draft: Xception for M-Stage Classification<br>\n",
    "Framework: Tensorflow Keras <br>\n",
    "Base models to test: <br>\n",
    "<li>VGG16  </li>\n",
    "<li>MobileNetV2 </li>\n",
    "<li>Xception ✓ </li>"
   ]
  },
  {
   "cell_type": "markdown",
   "id": "d32b521b-125c-4bf6-a6cc-e2c1261b4323",
   "metadata": {},
   "source": [
    "#### Import Packages"
   ]
  },
  {
   "cell_type": "code",
   "execution_count": 1,
   "id": "79e930dc-7aa2-4d30-ae1c-6605cb0a1eb3",
   "metadata": {},
   "outputs": [
    {
     "name": "stdout",
     "output_type": "stream",
     "text": [
      "All modules are loaded\n"
     ]
    }
   ],
   "source": [
    "import numpy as np\n",
    "import pandas as pd\n",
    "from PIL import Image\n",
    "import matplotlib.pyplot as plt\n",
    "import tensorflow\n",
    "import random\n",
    "import os\n",
    "from tensorflow.keras import backend as K\n",
    "from tensorflow.keras.models import Sequential\n",
    "from tensorflow.keras.layers import Activation, Dense, Dropout, BatchNormalization, Flatten\n",
    "from tensorflow.keras.optimizers import *\n",
    "from tensorflow.keras.metrics import *\n",
    "from tensorflow.keras.utils import to_categorical\n",
    "#from tensorflow.keras.utils import np_utils\n",
    "from tensorflow.keras.preprocessing.image import ImageDataGenerator\n",
    "from tensorflow.keras.applications.xception import Xception\n",
    "from tensorflow.keras.applications.xception import preprocess_input\n",
    "from sklearn.model_selection import train_test_split\n",
    "from sklearn.metrics._plot.confusion_matrix import ConfusionMatrixDisplay\n",
    "from sklearn.metrics import classification_report, confusion_matrix\n",
    "\n",
    "import sys\n",
    "if not sys.warnoptions:\n",
    "    import warnings\n",
    "    warnings.simplefilter(\"ignore\")\n",
    "pd.set_option('display.max_columns', None)  # or 1000\n",
    "pd.set_option('display.max_rows', None)  # or 1000\n",
    "pd.set_option('display.max_colwidth', None)  # or 199\n",
    "print ('All modules are loaded')"
   ]
  },
  {
   "cell_type": "code",
   "execution_count": 2,
   "id": "c13e32a4",
   "metadata": {},
   "outputs": [],
   "source": [
    "# from tensorflow.python.client import device_lib\n",
    "# if tensorflow.test.is_gpu_available() ==True:\n",
    "#     print('GPU enabled')\n",
    "# else:\n",
    "#     print('GPU not found')"
   ]
  },
  {
   "cell_type": "code",
   "execution_count": 3,
   "id": "9121c71a-01e4-46a9-821e-378a2bd8dd5c",
   "metadata": {},
   "outputs": [],
   "source": [
    "#Labels\n",
    "# t_stg= ['is','1','1a','1b','1c','2','2a','2b','3','4']\n",
    "# n_stg = ['0','1','2','3']\n",
    "m_stg = ['0','1','1a','1b','1c','2','3'] \n",
    "\n",
    "#Load the image batches, labels == t,m,n\n",
    "m_raw_df = pd.read_csv(r'D:\\Lung-PET-CT-Dx\\manifest\\raw_ct_delimited.csv',usecols=['filenames','m'])\n",
    "# seg_df = pd.read_csv(r'D:\\Lung-PET-CT-Dx\\manifest\\segmented ct image files.csv',usecols=['filenames','labels'])\n",
    "raw_dir = r'C:\\Users\\lzsnc\\Desktop\\Raw CT Images'\n",
    "# seg_dir = r'C:\\Users\\lzsnc\\Desktop\\Masked CT images'\n",
    "m_raw_df.head()\n",
    "# seg_df.head()\n",
    "os.chdir(r'C:\\Users\\lzsnc\\Desktop\\Raw CT Images')"
   ]
  },
  {
   "cell_type": "code",
   "execution_count": 4,
   "id": "d853207d-9ec3-46af-86fa-d77396d6a5f7",
   "metadata": {},
   "outputs": [
    {
     "data": {
      "text/html": [
       "<div>\n",
       "<style scoped>\n",
       "    .dataframe tbody tr th:only-of-type {\n",
       "        vertical-align: middle;\n",
       "    }\n",
       "\n",
       "    .dataframe tbody tr th {\n",
       "        vertical-align: top;\n",
       "    }\n",
       "\n",
       "    .dataframe thead th {\n",
       "        text-align: right;\n",
       "    }\n",
       "</style>\n",
       "<table border=\"1\" class=\"dataframe\">\n",
       "  <thead>\n",
       "    <tr style=\"text-align: right;\">\n",
       "      <th></th>\n",
       "      <th>filenames</th>\n",
       "      <th>m</th>\n",
       "    </tr>\n",
       "  </thead>\n",
       "  <tbody>\n",
       "    <tr>\n",
       "      <th>0</th>\n",
       "      <td>Lung_Dx-A0001_04-04-2007-NA-Chest-07990_2.000000-5mm-40805_1-13.tiff</td>\n",
       "      <td>1b</td>\n",
       "    </tr>\n",
       "    <tr>\n",
       "      <th>1</th>\n",
       "      <td>Lung_Dx-A0001_04-04-2007-NA-Chest-07990_2.000000-5mm-40805_1-14.tiff</td>\n",
       "      <td>1b</td>\n",
       "    </tr>\n",
       "    <tr>\n",
       "      <th>2</th>\n",
       "      <td>Lung_Dx-A0001_04-04-2007-NA-Chest-07990_2.000000-5mm-40805_1-15.tiff</td>\n",
       "      <td>1b</td>\n",
       "    </tr>\n",
       "    <tr>\n",
       "      <th>3</th>\n",
       "      <td>Lung_Dx-A0001_04-04-2007-NA-Chest-07990_2.000000-5mm-40805_1-16.tiff</td>\n",
       "      <td>1b</td>\n",
       "    </tr>\n",
       "    <tr>\n",
       "      <th>4</th>\n",
       "      <td>Lung_Dx-A0001_04-04-2007-NA-Chest-07990_2.000000-5mm-40805_1-17.tiff</td>\n",
       "      <td>1b</td>\n",
       "    </tr>\n",
       "  </tbody>\n",
       "</table>\n",
       "</div>"
      ],
      "text/plain": [
       "                                                              filenames   m\n",
       "0  Lung_Dx-A0001_04-04-2007-NA-Chest-07990_2.000000-5mm-40805_1-13.tiff  1b\n",
       "1  Lung_Dx-A0001_04-04-2007-NA-Chest-07990_2.000000-5mm-40805_1-14.tiff  1b\n",
       "2  Lung_Dx-A0001_04-04-2007-NA-Chest-07990_2.000000-5mm-40805_1-15.tiff  1b\n",
       "3  Lung_Dx-A0001_04-04-2007-NA-Chest-07990_2.000000-5mm-40805_1-16.tiff  1b\n",
       "4  Lung_Dx-A0001_04-04-2007-NA-Chest-07990_2.000000-5mm-40805_1-17.tiff  1b"
      ]
     },
     "execution_count": 4,
     "metadata": {},
     "output_type": "execute_result"
    }
   ],
   "source": [
    "m_raw_df.head()"
   ]
  },
  {
   "cell_type": "markdown",
   "id": "c4168ea9-a48c-42c1-b633-dacebb37f478",
   "metadata": {},
   "source": [
    "#### Split Dataset: <br>\n",
    "80% Train, 20% Test"
   ]
  },
  {
   "cell_type": "code",
   "execution_count": 5,
   "id": "2073cef9-9828-428d-a13a-b60cbbeb591b",
   "metadata": {},
   "outputs": [],
   "source": [
    "m_train_df, m_test_df = train_test_split(m_raw_df, test_size=0.2, random_state=42) \n",
    "m_train_df.tail()\n",
    "#convert m-stage df to string\n",
    "m_train_df['m'] = m_train_df['m'].apply(str)\n",
    "m_test_df['m'] = m_test_df['m'].apply(str)"
   ]
  },
  {
   "cell_type": "markdown",
   "id": "d84a8e43-21cd-44ae-9e32-2ea87f00e300",
   "metadata": {},
   "source": [
    "#### Train/Test for 'T' Stage"
   ]
  },
  {
   "cell_type": "code",
   "execution_count": 6,
   "id": "d7d1fa1b-96bd-4e16-aae9-4633eb20f835",
   "metadata": {},
   "outputs": [
    {
     "name": "stdout",
     "output_type": "stream",
     "text": [
      "Found 24250 validated image filenames belonging to 7 classes.\n"
     ]
    }
   ],
   "source": [
    "#try paghiwalayin ang labels: t,m,n\n",
    "train_batch = 32\n",
    "train_datagen = ImageDataGenerator(rescale=1 / 255.0,\n",
    "                                   featurewise_center=True,\n",
    "                                   featurewise_std_normalization=True,)\n",
    "\n",
    "m_train_ds = train_datagen.flow_from_dataframe(\n",
    "    dataframe=m_train_df,\n",
    "    directory=raw_dir,\n",
    "    x_col='filenames',\n",
    "    y_col='m',\n",
    "    # color_mode='grayscale',\n",
    "    class_mode='categorical',\n",
    "    shuffle=True,\n",
    "    seed=32\n",
    ")"
   ]
  },
  {
   "cell_type": "code",
   "execution_count": 7,
   "id": "89bfcb4e-1648-4c19-9609-c07fc005f621",
   "metadata": {},
   "outputs": [
    {
     "data": {
      "text/plain": [
       "array([0, 1, 2, 3, 4, 5, 6])"
      ]
     },
     "execution_count": 7,
     "metadata": {},
     "output_type": "execute_result"
    }
   ],
   "source": [
    "np.unique(m_train_ds.classes)"
   ]
  },
  {
   "cell_type": "markdown",
   "id": "cdc14638-fec1-4bbd-a7a0-821597a53333",
   "metadata": {},
   "source": [
    "#### Test Image Generator"
   ]
  },
  {
   "cell_type": "code",
   "execution_count": 8,
   "id": "ce612faf-e209-46d9-aa62-b3dcba0e1abf",
   "metadata": {},
   "outputs": [
    {
     "name": "stdout",
     "output_type": "stream",
     "text": [
      "Found 6063 validated image filenames belonging to 7 classes.\n"
     ]
    }
   ],
   "source": [
    "test_batch = 32\n",
    "test_datagen = ImageDataGenerator(rescale=1 / 255.0)\n",
    "m_test_ds = test_datagen.flow_from_dataframe(\n",
    "    dataframe=m_test_df,\n",
    "    directory=raw_dir,\n",
    "    x_col='filenames',\n",
    "    y_col='m',\n",
    "    # color_mode='grayscale',\n",
    "    class_mode='categorical',\n",
    "    shuffle=False, #re-run this!\n",
    "    seed=32 \n",
    ")"
   ]
  },
  {
   "cell_type": "code",
   "execution_count": 9,
   "id": "3da08044-2dcd-485a-843b-a498219e915e",
   "metadata": {},
   "outputs": [
    {
     "name": "stdout",
     "output_type": "stream",
     "text": [
      "{'0': 0, '1': 1, '1a': 2, '1b': 3, '1c': 4, '2': 5, '3': 6}\n"
     ]
    },
    {
     "data": {
      "text/plain": [
       "7"
      ]
     },
     "execution_count": 9,
     "metadata": {},
     "output_type": "execute_result"
    }
   ],
   "source": [
    "#try adding weights to resolve undersamples\n",
    "m_class_dict = m_train_ds.class_indices\n",
    "print(m_class_dict)\n",
    "m_num_classes = len(m_class_dict)\n",
    "m_num_classes"
   ]
  },
  {
   "cell_type": "code",
   "execution_count": 10,
   "id": "60076716-697a-48f3-ab52-f545966d7570",
   "metadata": {},
   "outputs": [
    {
     "data": {
      "text/plain": [
       "{'0': 0, '1': 1, '1a': 2, '1b': 3, '1c': 4, '2': 5, '3': 6}"
      ]
     },
     "execution_count": 10,
     "metadata": {},
     "output_type": "execute_result"
    }
   ],
   "source": [
    "m_class_dict"
   ]
  },
  {
   "cell_type": "markdown",
   "id": "350f10f3-8edc-4443-b628-4cca0eaad4ea",
   "metadata": {},
   "source": [
    "Try adding weights"
   ]
  },
  {
   "cell_type": "code",
   "execution_count": 11,
   "id": "1fd095b8-7299-424a-8e2d-f7b760048542",
   "metadata": {},
   "outputs": [
    {
     "data": {
      "text/plain": [
       "{0: 0.2078155797411946,\n",
       " 1: 0.7223281305850113,\n",
       " 2: 4.390729675900778,\n",
       " 3: 3.025577043044292,\n",
       " 4: 4.229897087039944,\n",
       " 5: 247.44897959183675,\n",
       " 6: 203.78151260504202}"
      ]
     },
     "execution_count": 11,
     "metadata": {},
     "output_type": "execute_result"
    }
   ],
   "source": [
    "from sklearn.utils import class_weight\n",
    "#without undersampling oversamples:\n",
    "m_class_weights = class_weight.compute_class_weight(\n",
    "           class_weight='balanced',\n",
    "           classes=np.unique(m_train_ds.classes),\n",
    "           y=m_train_ds.classes)\n",
    "m_class_weights = dict(zip(np.unique(m_train_ds.classes), m_class_weights))\n",
    "m_class_weights"
   ]
  },
  {
   "cell_type": "markdown",
   "id": "d8ff957d-083b-4d0a-a655-7e9b80026918",
   "metadata": {},
   "source": [
    "Model 3: Xception"
   ]
  },
  {
   "cell_type": "code",
   "execution_count": 12,
   "id": "cfdf7d2e-e46b-40d8-bade-9eaa129ec3db",
   "metadata": {},
   "outputs": [
    {
     "name": "stdout",
     "output_type": "stream",
     "text": [
      "Model: \"xception\"\n",
      "__________________________________________________________________________________________________\n",
      " Layer (type)                Output Shape                 Param #   Connected to                  \n",
      "==================================================================================================\n",
      " input_1 (InputLayer)        [(None, None, None, 3)]      0         []                            \n",
      "                                                                                                  \n",
      " block1_conv1 (Conv2D)       (None, None, None, 32)       864       ['input_1[0][0]']             \n",
      "                                                                                                  \n",
      " block1_conv1_bn (BatchNorm  (None, None, None, 32)       128       ['block1_conv1[0][0]']        \n",
      " alization)                                                                                       \n",
      "                                                                                                  \n",
      " block1_conv1_act (Activati  (None, None, None, 32)       0         ['block1_conv1_bn[0][0]']     \n",
      " on)                                                                                              \n",
      "                                                                                                  \n",
      " block1_conv2 (Conv2D)       (None, None, None, 64)       18432     ['block1_conv1_act[0][0]']    \n",
      "                                                                                                  \n",
      " block1_conv2_bn (BatchNorm  (None, None, None, 64)       256       ['block1_conv2[0][0]']        \n",
      " alization)                                                                                       \n",
      "                                                                                                  \n",
      " block1_conv2_act (Activati  (None, None, None, 64)       0         ['block1_conv2_bn[0][0]']     \n",
      " on)                                                                                              \n",
      "                                                                                                  \n",
      " block2_sepconv1 (Separable  (None, None, None, 128)      8768      ['block1_conv2_act[0][0]']    \n",
      " Conv2D)                                                                                          \n",
      "                                                                                                  \n",
      " block2_sepconv1_bn (BatchN  (None, None, None, 128)      512       ['block2_sepconv1[0][0]']     \n",
      " ormalization)                                                                                    \n",
      "                                                                                                  \n",
      " block2_sepconv2_act (Activ  (None, None, None, 128)      0         ['block2_sepconv1_bn[0][0]']  \n",
      " ation)                                                                                           \n",
      "                                                                                                  \n",
      " block2_sepconv2 (Separable  (None, None, None, 128)      17536     ['block2_sepconv2_act[0][0]'] \n",
      " Conv2D)                                                                                          \n",
      "                                                                                                  \n",
      " block2_sepconv2_bn (BatchN  (None, None, None, 128)      512       ['block2_sepconv2[0][0]']     \n",
      " ormalization)                                                                                    \n",
      "                                                                                                  \n",
      " conv2d (Conv2D)             (None, None, None, 128)      8192      ['block1_conv2_act[0][0]']    \n",
      "                                                                                                  \n",
      " block2_pool (MaxPooling2D)  (None, None, None, 128)      0         ['block2_sepconv2_bn[0][0]']  \n",
      "                                                                                                  \n",
      " batch_normalization (Batch  (None, None, None, 128)      512       ['conv2d[0][0]']              \n",
      " Normalization)                                                                                   \n",
      "                                                                                                  \n",
      " add (Add)                   (None, None, None, 128)      0         ['block2_pool[0][0]',         \n",
      "                                                                     'batch_normalization[0][0]'] \n",
      "                                                                                                  \n",
      " block3_sepconv1_act (Activ  (None, None, None, 128)      0         ['add[0][0]']                 \n",
      " ation)                                                                                           \n",
      "                                                                                                  \n",
      " block3_sepconv1 (Separable  (None, None, None, 256)      33920     ['block3_sepconv1_act[0][0]'] \n",
      " Conv2D)                                                                                          \n",
      "                                                                                                  \n",
      " block3_sepconv1_bn (BatchN  (None, None, None, 256)      1024      ['block3_sepconv1[0][0]']     \n",
      " ormalization)                                                                                    \n",
      "                                                                                                  \n",
      " block3_sepconv2_act (Activ  (None, None, None, 256)      0         ['block3_sepconv1_bn[0][0]']  \n",
      " ation)                                                                                           \n",
      "                                                                                                  \n",
      " block3_sepconv2 (Separable  (None, None, None, 256)      67840     ['block3_sepconv2_act[0][0]'] \n",
      " Conv2D)                                                                                          \n",
      "                                                                                                  \n",
      " block3_sepconv2_bn (BatchN  (None, None, None, 256)      1024      ['block3_sepconv2[0][0]']     \n",
      " ormalization)                                                                                    \n",
      "                                                                                                  \n",
      " conv2d_1 (Conv2D)           (None, None, None, 256)      32768     ['add[0][0]']                 \n",
      "                                                                                                  \n",
      " block3_pool (MaxPooling2D)  (None, None, None, 256)      0         ['block3_sepconv2_bn[0][0]']  \n",
      "                                                                                                  \n",
      " batch_normalization_1 (Bat  (None, None, None, 256)      1024      ['conv2d_1[0][0]']            \n",
      " chNormalization)                                                                                 \n",
      "                                                                                                  \n",
      " add_1 (Add)                 (None, None, None, 256)      0         ['block3_pool[0][0]',         \n",
      "                                                                     'batch_normalization_1[0][0]'\n",
      "                                                                    ]                             \n",
      "                                                                                                  \n",
      " block4_sepconv1_act (Activ  (None, None, None, 256)      0         ['add_1[0][0]']               \n",
      " ation)                                                                                           \n",
      "                                                                                                  \n",
      " block4_sepconv1 (Separable  (None, None, None, 728)      188672    ['block4_sepconv1_act[0][0]'] \n",
      " Conv2D)                                                                                          \n",
      "                                                                                                  \n",
      " block4_sepconv1_bn (BatchN  (None, None, None, 728)      2912      ['block4_sepconv1[0][0]']     \n",
      " ormalization)                                                                                    \n",
      "                                                                                                  \n",
      " block4_sepconv2_act (Activ  (None, None, None, 728)      0         ['block4_sepconv1_bn[0][0]']  \n",
      " ation)                                                                                           \n",
      "                                                                                                  \n",
      " block4_sepconv2 (Separable  (None, None, None, 728)      536536    ['block4_sepconv2_act[0][0]'] \n",
      " Conv2D)                                                                                          \n",
      "                                                                                                  \n",
      " block4_sepconv2_bn (BatchN  (None, None, None, 728)      2912      ['block4_sepconv2[0][0]']     \n",
      " ormalization)                                                                                    \n",
      "                                                                                                  \n",
      " conv2d_2 (Conv2D)           (None, None, None, 728)      186368    ['add_1[0][0]']               \n",
      "                                                                                                  \n",
      " block4_pool (MaxPooling2D)  (None, None, None, 728)      0         ['block4_sepconv2_bn[0][0]']  \n",
      "                                                                                                  \n",
      " batch_normalization_2 (Bat  (None, None, None, 728)      2912      ['conv2d_2[0][0]']            \n",
      " chNormalization)                                                                                 \n",
      "                                                                                                  \n",
      " add_2 (Add)                 (None, None, None, 728)      0         ['block4_pool[0][0]',         \n",
      "                                                                     'batch_normalization_2[0][0]'\n",
      "                                                                    ]                             \n",
      "                                                                                                  \n",
      " block5_sepconv1_act (Activ  (None, None, None, 728)      0         ['add_2[0][0]']               \n",
      " ation)                                                                                           \n",
      "                                                                                                  \n",
      " block5_sepconv1 (Separable  (None, None, None, 728)      536536    ['block5_sepconv1_act[0][0]'] \n",
      " Conv2D)                                                                                          \n",
      "                                                                                                  \n",
      " block5_sepconv1_bn (BatchN  (None, None, None, 728)      2912      ['block5_sepconv1[0][0]']     \n",
      " ormalization)                                                                                    \n",
      "                                                                                                  \n",
      " block5_sepconv2_act (Activ  (None, None, None, 728)      0         ['block5_sepconv1_bn[0][0]']  \n",
      " ation)                                                                                           \n",
      "                                                                                                  \n",
      " block5_sepconv2 (Separable  (None, None, None, 728)      536536    ['block5_sepconv2_act[0][0]'] \n",
      " Conv2D)                                                                                          \n",
      "                                                                                                  \n",
      " block5_sepconv2_bn (BatchN  (None, None, None, 728)      2912      ['block5_sepconv2[0][0]']     \n",
      " ormalization)                                                                                    \n",
      "                                                                                                  \n",
      " block5_sepconv3_act (Activ  (None, None, None, 728)      0         ['block5_sepconv2_bn[0][0]']  \n",
      " ation)                                                                                           \n",
      "                                                                                                  \n",
      " block5_sepconv3 (Separable  (None, None, None, 728)      536536    ['block5_sepconv3_act[0][0]'] \n",
      " Conv2D)                                                                                          \n",
      "                                                                                                  \n",
      " block5_sepconv3_bn (BatchN  (None, None, None, 728)      2912      ['block5_sepconv3[0][0]']     \n",
      " ormalization)                                                                                    \n",
      "                                                                                                  \n",
      " add_3 (Add)                 (None, None, None, 728)      0         ['block5_sepconv3_bn[0][0]',  \n",
      "                                                                     'add_2[0][0]']               \n",
      "                                                                                                  \n",
      " block6_sepconv1_act (Activ  (None, None, None, 728)      0         ['add_3[0][0]']               \n",
      " ation)                                                                                           \n",
      "                                                                                                  \n",
      " block6_sepconv1 (Separable  (None, None, None, 728)      536536    ['block6_sepconv1_act[0][0]'] \n",
      " Conv2D)                                                                                          \n",
      "                                                                                                  \n",
      " block6_sepconv1_bn (BatchN  (None, None, None, 728)      2912      ['block6_sepconv1[0][0]']     \n",
      " ormalization)                                                                                    \n",
      "                                                                                                  \n",
      " block6_sepconv2_act (Activ  (None, None, None, 728)      0         ['block6_sepconv1_bn[0][0]']  \n",
      " ation)                                                                                           \n",
      "                                                                                                  \n",
      " block6_sepconv2 (Separable  (None, None, None, 728)      536536    ['block6_sepconv2_act[0][0]'] \n",
      " Conv2D)                                                                                          \n",
      "                                                                                                  \n",
      " block6_sepconv2_bn (BatchN  (None, None, None, 728)      2912      ['block6_sepconv2[0][0]']     \n",
      " ormalization)                                                                                    \n",
      "                                                                                                  \n",
      " block6_sepconv3_act (Activ  (None, None, None, 728)      0         ['block6_sepconv2_bn[0][0]']  \n",
      " ation)                                                                                           \n",
      "                                                                                                  \n",
      " block6_sepconv3 (Separable  (None, None, None, 728)      536536    ['block6_sepconv3_act[0][0]'] \n",
      " Conv2D)                                                                                          \n",
      "                                                                                                  \n",
      " block6_sepconv3_bn (BatchN  (None, None, None, 728)      2912      ['block6_sepconv3[0][0]']     \n",
      " ormalization)                                                                                    \n",
      "                                                                                                  \n",
      " add_4 (Add)                 (None, None, None, 728)      0         ['block6_sepconv3_bn[0][0]',  \n",
      "                                                                     'add_3[0][0]']               \n",
      "                                                                                                  \n",
      " block7_sepconv1_act (Activ  (None, None, None, 728)      0         ['add_4[0][0]']               \n",
      " ation)                                                                                           \n",
      "                                                                                                  \n",
      " block7_sepconv1 (Separable  (None, None, None, 728)      536536    ['block7_sepconv1_act[0][0]'] \n",
      " Conv2D)                                                                                          \n",
      "                                                                                                  \n",
      " block7_sepconv1_bn (BatchN  (None, None, None, 728)      2912      ['block7_sepconv1[0][0]']     \n",
      " ormalization)                                                                                    \n",
      "                                                                                                  \n",
      " block7_sepconv2_act (Activ  (None, None, None, 728)      0         ['block7_sepconv1_bn[0][0]']  \n",
      " ation)                                                                                           \n",
      "                                                                                                  \n",
      " block7_sepconv2 (Separable  (None, None, None, 728)      536536    ['block7_sepconv2_act[0][0]'] \n",
      " Conv2D)                                                                                          \n",
      "                                                                                                  \n",
      " block7_sepconv2_bn (BatchN  (None, None, None, 728)      2912      ['block7_sepconv2[0][0]']     \n",
      " ormalization)                                                                                    \n",
      "                                                                                                  \n",
      " block7_sepconv3_act (Activ  (None, None, None, 728)      0         ['block7_sepconv2_bn[0][0]']  \n",
      " ation)                                                                                           \n",
      "                                                                                                  \n",
      " block7_sepconv3 (Separable  (None, None, None, 728)      536536    ['block7_sepconv3_act[0][0]'] \n",
      " Conv2D)                                                                                          \n",
      "                                                                                                  \n",
      " block7_sepconv3_bn (BatchN  (None, None, None, 728)      2912      ['block7_sepconv3[0][0]']     \n",
      " ormalization)                                                                                    \n",
      "                                                                                                  \n",
      " add_5 (Add)                 (None, None, None, 728)      0         ['block7_sepconv3_bn[0][0]',  \n",
      "                                                                     'add_4[0][0]']               \n",
      "                                                                                                  \n",
      " block8_sepconv1_act (Activ  (None, None, None, 728)      0         ['add_5[0][0]']               \n",
      " ation)                                                                                           \n",
      "                                                                                                  \n",
      " block8_sepconv1 (Separable  (None, None, None, 728)      536536    ['block8_sepconv1_act[0][0]'] \n",
      " Conv2D)                                                                                          \n",
      "                                                                                                  \n",
      " block8_sepconv1_bn (BatchN  (None, None, None, 728)      2912      ['block8_sepconv1[0][0]']     \n",
      " ormalization)                                                                                    \n",
      "                                                                                                  \n",
      " block8_sepconv2_act (Activ  (None, None, None, 728)      0         ['block8_sepconv1_bn[0][0]']  \n",
      " ation)                                                                                           \n",
      "                                                                                                  \n",
      " block8_sepconv2 (Separable  (None, None, None, 728)      536536    ['block8_sepconv2_act[0][0]'] \n",
      " Conv2D)                                                                                          \n",
      "                                                                                                  \n",
      " block8_sepconv2_bn (BatchN  (None, None, None, 728)      2912      ['block8_sepconv2[0][0]']     \n",
      " ormalization)                                                                                    \n",
      "                                                                                                  \n",
      " block8_sepconv3_act (Activ  (None, None, None, 728)      0         ['block8_sepconv2_bn[0][0]']  \n",
      " ation)                                                                                           \n",
      "                                                                                                  \n",
      " block8_sepconv3 (Separable  (None, None, None, 728)      536536    ['block8_sepconv3_act[0][0]'] \n",
      " Conv2D)                                                                                          \n",
      "                                                                                                  \n",
      " block8_sepconv3_bn (BatchN  (None, None, None, 728)      2912      ['block8_sepconv3[0][0]']     \n",
      " ormalization)                                                                                    \n",
      "                                                                                                  \n",
      " add_6 (Add)                 (None, None, None, 728)      0         ['block8_sepconv3_bn[0][0]',  \n",
      "                                                                     'add_5[0][0]']               \n",
      "                                                                                                  \n",
      " block9_sepconv1_act (Activ  (None, None, None, 728)      0         ['add_6[0][0]']               \n",
      " ation)                                                                                           \n",
      "                                                                                                  \n",
      " block9_sepconv1 (Separable  (None, None, None, 728)      536536    ['block9_sepconv1_act[0][0]'] \n",
      " Conv2D)                                                                                          \n",
      "                                                                                                  \n",
      " block9_sepconv1_bn (BatchN  (None, None, None, 728)      2912      ['block9_sepconv1[0][0]']     \n",
      " ormalization)                                                                                    \n",
      "                                                                                                  \n",
      " block9_sepconv2_act (Activ  (None, None, None, 728)      0         ['block9_sepconv1_bn[0][0]']  \n",
      " ation)                                                                                           \n",
      "                                                                                                  \n",
      " block9_sepconv2 (Separable  (None, None, None, 728)      536536    ['block9_sepconv2_act[0][0]'] \n",
      " Conv2D)                                                                                          \n",
      "                                                                                                  \n",
      " block9_sepconv2_bn (BatchN  (None, None, None, 728)      2912      ['block9_sepconv2[0][0]']     \n",
      " ormalization)                                                                                    \n",
      "                                                                                                  \n",
      " block9_sepconv3_act (Activ  (None, None, None, 728)      0         ['block9_sepconv2_bn[0][0]']  \n",
      " ation)                                                                                           \n",
      "                                                                                                  \n",
      " block9_sepconv3 (Separable  (None, None, None, 728)      536536    ['block9_sepconv3_act[0][0]'] \n",
      " Conv2D)                                                                                          \n",
      "                                                                                                  \n",
      " block9_sepconv3_bn (BatchN  (None, None, None, 728)      2912      ['block9_sepconv3[0][0]']     \n",
      " ormalization)                                                                                    \n",
      "                                                                                                  \n",
      " add_7 (Add)                 (None, None, None, 728)      0         ['block9_sepconv3_bn[0][0]',  \n",
      "                                                                     'add_6[0][0]']               \n",
      "                                                                                                  \n",
      " block10_sepconv1_act (Acti  (None, None, None, 728)      0         ['add_7[0][0]']               \n",
      " vation)                                                                                          \n",
      "                                                                                                  \n",
      " block10_sepconv1 (Separabl  (None, None, None, 728)      536536    ['block10_sepconv1_act[0][0]']\n",
      " eConv2D)                                                                                         \n",
      "                                                                                                  \n",
      " block10_sepconv1_bn (Batch  (None, None, None, 728)      2912      ['block10_sepconv1[0][0]']    \n",
      " Normalization)                                                                                   \n",
      "                                                                                                  \n",
      " block10_sepconv2_act (Acti  (None, None, None, 728)      0         ['block10_sepconv1_bn[0][0]'] \n",
      " vation)                                                                                          \n",
      "                                                                                                  \n",
      " block10_sepconv2 (Separabl  (None, None, None, 728)      536536    ['block10_sepconv2_act[0][0]']\n",
      " eConv2D)                                                                                         \n",
      "                                                                                                  \n",
      " block10_sepconv2_bn (Batch  (None, None, None, 728)      2912      ['block10_sepconv2[0][0]']    \n",
      " Normalization)                                                                                   \n",
      "                                                                                                  \n",
      " block10_sepconv3_act (Acti  (None, None, None, 728)      0         ['block10_sepconv2_bn[0][0]'] \n",
      " vation)                                                                                          \n",
      "                                                                                                  \n",
      " block10_sepconv3 (Separabl  (None, None, None, 728)      536536    ['block10_sepconv3_act[0][0]']\n",
      " eConv2D)                                                                                         \n",
      "                                                                                                  \n",
      " block10_sepconv3_bn (Batch  (None, None, None, 728)      2912      ['block10_sepconv3[0][0]']    \n",
      " Normalization)                                                                                   \n",
      "                                                                                                  \n",
      " add_8 (Add)                 (None, None, None, 728)      0         ['block10_sepconv3_bn[0][0]', \n",
      "                                                                     'add_7[0][0]']               \n",
      "                                                                                                  \n",
      " block11_sepconv1_act (Acti  (None, None, None, 728)      0         ['add_8[0][0]']               \n",
      " vation)                                                                                          \n",
      "                                                                                                  \n",
      " block11_sepconv1 (Separabl  (None, None, None, 728)      536536    ['block11_sepconv1_act[0][0]']\n",
      " eConv2D)                                                                                         \n",
      "                                                                                                  \n",
      " block11_sepconv1_bn (Batch  (None, None, None, 728)      2912      ['block11_sepconv1[0][0]']    \n",
      " Normalization)                                                                                   \n",
      "                                                                                                  \n",
      " block11_sepconv2_act (Acti  (None, None, None, 728)      0         ['block11_sepconv1_bn[0][0]'] \n",
      " vation)                                                                                          \n",
      "                                                                                                  \n",
      " block11_sepconv2 (Separabl  (None, None, None, 728)      536536    ['block11_sepconv2_act[0][0]']\n",
      " eConv2D)                                                                                         \n",
      "                                                                                                  \n",
      " block11_sepconv2_bn (Batch  (None, None, None, 728)      2912      ['block11_sepconv2[0][0]']    \n",
      " Normalization)                                                                                   \n",
      "                                                                                                  \n",
      " block11_sepconv3_act (Acti  (None, None, None, 728)      0         ['block11_sepconv2_bn[0][0]'] \n",
      " vation)                                                                                          \n",
      "                                                                                                  \n",
      " block11_sepconv3 (Separabl  (None, None, None, 728)      536536    ['block11_sepconv3_act[0][0]']\n",
      " eConv2D)                                                                                         \n",
      "                                                                                                  \n",
      " block11_sepconv3_bn (Batch  (None, None, None, 728)      2912      ['block11_sepconv3[0][0]']    \n",
      " Normalization)                                                                                   \n",
      "                                                                                                  \n",
      " add_9 (Add)                 (None, None, None, 728)      0         ['block11_sepconv3_bn[0][0]', \n",
      "                                                                     'add_8[0][0]']               \n",
      "                                                                                                  \n",
      " block12_sepconv1_act (Acti  (None, None, None, 728)      0         ['add_9[0][0]']               \n",
      " vation)                                                                                          \n",
      "                                                                                                  \n",
      " block12_sepconv1 (Separabl  (None, None, None, 728)      536536    ['block12_sepconv1_act[0][0]']\n",
      " eConv2D)                                                                                         \n",
      "                                                                                                  \n",
      " block12_sepconv1_bn (Batch  (None, None, None, 728)      2912      ['block12_sepconv1[0][0]']    \n",
      " Normalization)                                                                                   \n",
      "                                                                                                  \n",
      " block12_sepconv2_act (Acti  (None, None, None, 728)      0         ['block12_sepconv1_bn[0][0]'] \n",
      " vation)                                                                                          \n",
      "                                                                                                  \n",
      " block12_sepconv2 (Separabl  (None, None, None, 728)      536536    ['block12_sepconv2_act[0][0]']\n",
      " eConv2D)                                                                                         \n",
      "                                                                                                  \n",
      " block12_sepconv2_bn (Batch  (None, None, None, 728)      2912      ['block12_sepconv2[0][0]']    \n",
      " Normalization)                                                                                   \n",
      "                                                                                                  \n",
      " block12_sepconv3_act (Acti  (None, None, None, 728)      0         ['block12_sepconv2_bn[0][0]'] \n",
      " vation)                                                                                          \n",
      "                                                                                                  \n",
      " block12_sepconv3 (Separabl  (None, None, None, 728)      536536    ['block12_sepconv3_act[0][0]']\n",
      " eConv2D)                                                                                         \n",
      "                                                                                                  \n",
      " block12_sepconv3_bn (Batch  (None, None, None, 728)      2912      ['block12_sepconv3[0][0]']    \n",
      " Normalization)                                                                                   \n",
      "                                                                                                  \n",
      " add_10 (Add)                (None, None, None, 728)      0         ['block12_sepconv3_bn[0][0]', \n",
      "                                                                     'add_9[0][0]']               \n",
      "                                                                                                  \n",
      " block13_sepconv1_act (Acti  (None, None, None, 728)      0         ['add_10[0][0]']              \n",
      " vation)                                                                                          \n",
      "                                                                                                  \n",
      " block13_sepconv1 (Separabl  (None, None, None, 728)      536536    ['block13_sepconv1_act[0][0]']\n",
      " eConv2D)                                                                                         \n",
      "                                                                                                  \n",
      " block13_sepconv1_bn (Batch  (None, None, None, 728)      2912      ['block13_sepconv1[0][0]']    \n",
      " Normalization)                                                                                   \n",
      "                                                                                                  \n",
      " block13_sepconv2_act (Acti  (None, None, None, 728)      0         ['block13_sepconv1_bn[0][0]'] \n",
      " vation)                                                                                          \n",
      "                                                                                                  \n",
      " block13_sepconv2 (Separabl  (None, None, None, 1024)     752024    ['block13_sepconv2_act[0][0]']\n",
      " eConv2D)                                                                                         \n",
      "                                                                                                  \n",
      " block13_sepconv2_bn (Batch  (None, None, None, 1024)     4096      ['block13_sepconv2[0][0]']    \n",
      " Normalization)                                                                                   \n",
      "                                                                                                  \n",
      " conv2d_3 (Conv2D)           (None, None, None, 1024)     745472    ['add_10[0][0]']              \n",
      "                                                                                                  \n",
      " block13_pool (MaxPooling2D  (None, None, None, 1024)     0         ['block13_sepconv2_bn[0][0]'] \n",
      " )                                                                                                \n",
      "                                                                                                  \n",
      " batch_normalization_3 (Bat  (None, None, None, 1024)     4096      ['conv2d_3[0][0]']            \n",
      " chNormalization)                                                                                 \n",
      "                                                                                                  \n",
      " add_11 (Add)                (None, None, None, 1024)     0         ['block13_pool[0][0]',        \n",
      "                                                                     'batch_normalization_3[0][0]'\n",
      "                                                                    ]                             \n",
      "                                                                                                  \n",
      " block14_sepconv1 (Separabl  (None, None, None, 1536)     1582080   ['add_11[0][0]']              \n",
      " eConv2D)                                                                                         \n",
      "                                                                                                  \n",
      " block14_sepconv1_bn (Batch  (None, None, None, 1536)     6144      ['block14_sepconv1[0][0]']    \n",
      " Normalization)                                                                                   \n",
      "                                                                                                  \n",
      " block14_sepconv1_act (Acti  (None, None, None, 1536)     0         ['block14_sepconv1_bn[0][0]'] \n",
      " vation)                                                                                          \n",
      "                                                                                                  \n",
      " block14_sepconv2 (Separabl  (None, None, None, 2048)     3159552   ['block14_sepconv1_act[0][0]']\n",
      " eConv2D)                                                                                         \n",
      "                                                                                                  \n",
      " block14_sepconv2_bn (Batch  (None, None, None, 2048)     8192      ['block14_sepconv2[0][0]']    \n",
      " Normalization)                                                                                   \n",
      "                                                                                                  \n",
      " block14_sepconv2_act (Acti  (None, None, None, 2048)     0         ['block14_sepconv2_bn[0][0]'] \n",
      " vation)                                                                                          \n",
      "                                                                                                  \n",
      "==================================================================================================\n",
      "Total params: 20861480 (79.58 MB)\n",
      "Trainable params: 0 (0.00 Byte)\n",
      "Non-trainable params: 20861480 (79.58 MB)\n",
      "__________________________________________________________________________________________________\n"
     ]
    }
   ],
   "source": [
    "base_model = Xception(\n",
    "    weights='imagenet',\n",
    "    include_top=False,\n",
    "#     input_shape=(224, 224, 3)\n",
    ")\n",
    "base_model.trainable = False\n",
    "base_model.summary()"
   ]
  },
  {
   "cell_type": "code",
   "execution_count": 13,
   "id": "f860be74-47ef-4bfb-bc54-5da1014c7e76",
   "metadata": {},
   "outputs": [],
   "source": [
    "#Add random seed\n",
    "seed_value = 42\n",
    "random.seed(seed_value)\n",
    "np.random.seed(seed_value)\n",
    "tensorflow.random.set_seed(seed_value) #use in dropout"
   ]
  },
  {
   "cell_type": "code",
   "execution_count": 14,
   "id": "9bade66d-4105-426a-b554-a41132bb1b88",
   "metadata": {},
   "outputs": [
    {
     "name": "stdout",
     "output_type": "stream",
     "text": [
      "Model: \"sequential\"\n",
      "_________________________________________________________________\n",
      " Layer (type)                Output Shape              Param #   \n",
      "=================================================================\n",
      " xception (Functional)       (None, None, None, 2048   20861480  \n",
      "                             )                                   \n",
      "                                                                 \n",
      " global_average_pooling2d (  (None, 2048)              0         \n",
      " GlobalAveragePooling2D)                                         \n",
      "                                                                 \n",
      " batch_normalization_4 (Bat  (None, 2048)              8192      \n",
      " chNormalization)                                                \n",
      "                                                                 \n",
      " reshape (Reshape)           (None, 2048, 1)           0         \n",
      "                                                                 \n",
      " average_pooling1d (Average  (None, 1024, 1)           0         \n",
      " Pooling1D)                                                      \n",
      "                                                                 \n",
      " flatten (Flatten)           (None, 1024)              0         \n",
      "                                                                 \n",
      " dropout (Dropout)           (None, 1024)              0         \n",
      "                                                                 \n",
      " dense (Dense)               (None, 128)               131200    \n",
      "                                                                 \n",
      " dropout_1 (Dropout)         (None, 128)               0         \n",
      "                                                                 \n",
      " dense_1 (Dense)             (None, 32)                4128      \n",
      "                                                                 \n",
      " dropout_2 (Dropout)         (None, 32)                0         \n",
      "                                                                 \n",
      " dense_2 (Dense)             (None, 7)                 231       \n",
      "                                                                 \n",
      "=================================================================\n",
      "Total params: 21005231 (80.13 MB)\n",
      "Trainable params: 139655 (545.53 KB)\n",
      "Non-trainable params: 20865576 (79.60 MB)\n",
      "_________________________________________________________________\n"
     ]
    }
   ],
   "source": [
    "#Create the model\n",
    "model = Sequential()\n",
    "# model.add(tensorflow.keras.layers.InputLayer(input_shape=(224,224,3)))\n",
    "model.add(base_model)\n",
    "\n",
    "# model.add(Dropout(0.3))\n",
    "model.add(tensorflow.keras.layers.GlobalAveragePooling2D())\n",
    "model.add(BatchNormalization(axis = -1, momentum = 0.99, epsilon = 0.001))\n",
    "model.add(tensorflow.keras.layers.Reshape((-1,1)))\n",
    "model.add(tensorflow.keras.layers.AveragePooling1D())\n",
    "model.add(Flatten())\n",
    "model.add(Dropout(0.3,seed=seed_value))\n",
    "model.add(Dense(128, activation='relu'))\n",
    "model.add(Dropout(0.3))\n",
    "model.add(Dense(32, activation='relu'))\n",
    "model.add(Dropout(0.3,seed=seed_value))\n",
    "model.add(Dense(m_num_classes,activation='softmax'))\n",
    "\n",
    "model.summary()"
   ]
  },
  {
   "cell_type": "code",
   "execution_count": 15,
   "id": "144b2c52-e11d-4d92-8b5c-9d8f0261aca3",
   "metadata": {},
   "outputs": [],
   "source": [
    "learning_rate = 0.001\n",
    "optimizer = tensorflow.keras.optimizers.Adam(learning_rate=learning_rate)\n",
    "loss = tensorflow.keras.losses.CategoricalCrossentropy(from_logits=True)\n",
    "model.compile(optimizer=optimizer, loss=loss, metrics=['accuracy'])"
   ]
  },
  {
   "cell_type": "markdown",
   "id": "bd68f791-1a0e-4fae-8402-5f0f663ac707",
   "metadata": {},
   "source": [
    "Actual Training"
   ]
  },
  {
   "cell_type": "code",
   "execution_count": 16,
   "id": "1a2512c2-848c-4006-b48c-0f791c2de9a6",
   "metadata": {},
   "outputs": [],
   "source": [
    "os.chdir(r'D:\\Lung-PET-CT-Dx\\manifest\\Models')\n",
    "checkpoint_callback = tensorflow.keras.callbacks.ModelCheckpoint(\"multiclass_m_stage_xception.h5\",\n",
    "                     save_best_only=True, # only keep the best model weights on file (delete the rest)\n",
    "                     save_weights_only=False,   # save only the model weights\n",
    "                     verbose=1, # don't print out whether or not model is being saved\n",
    "                     monitor='val_loss')\n",
    "                    #  mode='max') # save the model weights which score the best validation accuracy\n",
    "early_stop = tensorflow.keras.callbacks.EarlyStopping(monitor='val_accuracy',\n",
    "                                              mode='auto',\n",
    "                                              patience=5)"
   ]
  },
  {
   "cell_type": "code",
   "execution_count": 17,
   "id": "a7fccf8a-0060-458e-851c-cb3feae8099d",
   "metadata": {},
   "outputs": [
    {
     "name": "stdout",
     "output_type": "stream",
     "text": [
      "Epoch 1/15\n",
      "758/758 [==============================] - ETA: 0s - loss: 1.3721 - accuracy: 0.3195\n",
      "Epoch 1: val_loss improved from inf to 1.23181, saving model to multiclass_m_stage_xception.h5\n",
      "758/758 [==============================] - 2125s 3s/step - loss: 1.3721 - accuracy: 0.3195 - val_loss: 1.2318 - val_accuracy: 0.3637\n",
      "Epoch 2/15\n",
      "758/758 [==============================] - ETA: 0s - loss: 0.8393 - accuracy: 0.3975\n",
      "Epoch 2: val_loss improved from 1.23181 to 1.08119, saving model to multiclass_m_stage_xception.h5\n",
      "758/758 [==============================] - 2063s 3s/step - loss: 0.8393 - accuracy: 0.3975 - val_loss: 1.0812 - val_accuracy: 0.4752\n",
      "Epoch 3/15\n",
      "758/758 [==============================] - ETA: 0s - loss: 0.6268 - accuracy: 0.4855\n",
      "Epoch 3: val_loss improved from 1.08119 to 0.95943, saving model to multiclass_m_stage_xception.h5\n",
      "758/758 [==============================] - 2057s 3s/step - loss: 0.6268 - accuracy: 0.4855 - val_loss: 0.9594 - val_accuracy: 0.5306\n",
      "Epoch 4/15\n",
      "758/758 [==============================] - ETA: 0s - loss: 0.5326 - accuracy: 0.5281\n",
      "Epoch 4: val_loss improved from 0.95943 to 0.87515, saving model to multiclass_m_stage_xception.h5\n",
      "758/758 [==============================] - 2071s 3s/step - loss: 0.5326 - accuracy: 0.5281 - val_loss: 0.8751 - val_accuracy: 0.5943\n",
      "Epoch 5/15\n",
      "758/758 [==============================] - ETA: 0s - loss: 0.4798 - accuracy: 0.5565\n",
      "Epoch 5: val_loss improved from 0.87515 to 0.78470, saving model to multiclass_m_stage_xception.h5\n",
      "758/758 [==============================] - 2075s 3s/step - loss: 0.4798 - accuracy: 0.5565 - val_loss: 0.7847 - val_accuracy: 0.6332\n",
      "Epoch 6/15\n",
      "758/758 [==============================] - ETA: 0s - loss: 0.4537 - accuracy: 0.5862\n",
      "Epoch 6: val_loss improved from 0.78470 to 0.77477, saving model to multiclass_m_stage_xception.h5\n",
      "758/758 [==============================] - 2068s 3s/step - loss: 0.4537 - accuracy: 0.5862 - val_loss: 0.7748 - val_accuracy: 0.6380\n",
      "Epoch 7/15\n",
      "758/758 [==============================] - ETA: 0s - loss: 0.4248 - accuracy: 0.6119\n",
      "Epoch 7: val_loss improved from 0.77477 to 0.71322, saving model to multiclass_m_stage_xception.h5\n",
      "758/758 [==============================] - 2073s 3s/step - loss: 0.4248 - accuracy: 0.6119 - val_loss: 0.7132 - val_accuracy: 0.6592\n",
      "Epoch 8/15\n",
      "758/758 [==============================] - ETA: 0s - loss: 0.5084 - accuracy: 0.6170\n",
      "Epoch 8: val_loss improved from 0.71322 to 0.61864, saving model to multiclass_m_stage_xception.h5\n",
      "758/758 [==============================] - 2068s 3s/step - loss: 0.5084 - accuracy: 0.6170 - val_loss: 0.6186 - val_accuracy: 0.7190\n",
      "Epoch 9/15\n",
      "758/758 [==============================] - ETA: 0s - loss: 0.3787 - accuracy: 0.6400\n",
      "Epoch 9: val_loss improved from 0.61864 to 0.61740, saving model to multiclass_m_stage_xception.h5\n",
      "758/758 [==============================] - 2076s 3s/step - loss: 0.3787 - accuracy: 0.6400 - val_loss: 0.6174 - val_accuracy: 0.7307\n",
      "Epoch 10/15\n",
      "758/758 [==============================] - ETA: 0s - loss: 0.3951 - accuracy: 0.6616\n",
      "Epoch 10: val_loss improved from 0.61740 to 0.56139, saving model to multiclass_m_stage_xception.h5\n",
      "758/758 [==============================] - 2078s 3s/step - loss: 0.3951 - accuracy: 0.6616 - val_loss: 0.5614 - val_accuracy: 0.7617\n",
      "Epoch 11/15\n",
      "758/758 [==============================] - ETA: 0s - loss: 0.3319 - accuracy: 0.6795\n",
      "Epoch 11: val_loss improved from 0.56139 to 0.55900, saving model to multiclass_m_stage_xception.h5\n",
      "758/758 [==============================] - 2068s 3s/step - loss: 0.3319 - accuracy: 0.6795 - val_loss: 0.5590 - val_accuracy: 0.7567\n",
      "Epoch 12/15\n",
      "758/758 [==============================] - ETA: 0s - loss: 0.4027 - accuracy: 0.6936\n",
      "Epoch 12: val_loss improved from 0.55900 to 0.50863, saving model to multiclass_m_stage_xception.h5\n",
      "758/758 [==============================] - 2071s 3s/step - loss: 0.4027 - accuracy: 0.6936 - val_loss: 0.5086 - val_accuracy: 0.7859\n",
      "Epoch 13/15\n",
      "758/758 [==============================] - ETA: 0s - loss: 0.3979 - accuracy: 0.6871\n",
      "Epoch 13: val_loss did not improve from 0.50863\n",
      "758/758 [==============================] - 2068s 3s/step - loss: 0.3979 - accuracy: 0.6871 - val_loss: 0.5098 - val_accuracy: 0.7920\n",
      "Epoch 14/15\n",
      "758/758 [==============================] - ETA: 0s - loss: 0.3731 - accuracy: 0.7044\n",
      "Epoch 14: val_loss did not improve from 0.50863\n",
      "758/758 [==============================] - 2058s 3s/step - loss: 0.3731 - accuracy: 0.7044 - val_loss: 0.5198 - val_accuracy: 0.7833\n",
      "Epoch 15/15\n",
      "758/758 [==============================] - ETA: 0s - loss: 0.3596 - accuracy: 0.7169\n",
      "Epoch 15: val_loss improved from 0.50863 to 0.44290, saving model to multiclass_m_stage_xception.h5\n",
      "758/758 [==============================] - 2070s 3s/step - loss: 0.3596 - accuracy: 0.7169 - val_loss: 0.4429 - val_accuracy: 0.8060\n",
      "31091.537883000005\n"
     ]
    }
   ],
   "source": [
    "# from time import process_time\n",
    "from time import perf_counter\n",
    "# with tensorflow.device('/device:GPU:0'):\n",
    "start = perf_counter()\n",
    "history = model.fit(m_train_ds,\n",
    "                    epochs=15,\n",
    "                    steps_per_epoch=len(m_train_ds),\n",
    "                    validation_data=m_test_ds,\n",
    "                    validation_steps=len(m_test_ds),\n",
    "                    callbacks=[checkpoint_callback, early_stop],\n",
    "                    verbose=1,\n",
    "                    class_weight=m_class_weights)\n",
    "end = perf_counter()\n",
    "print(end - start)\n"
   ]
  },
  {
   "cell_type": "markdown",
   "id": "222da122-a517-4c12-8e9d-fb795581cb31",
   "metadata": {},
   "source": [
    "Load model - skip training <br>\n",
    "Approximate training time: 10 hours 14 mins 20 secs"
   ]
  },
  {
   "cell_type": "code",
   "execution_count": 18,
   "id": "4951ff1b-5472-44c3-aab5-dbd75b2b9353",
   "metadata": {},
   "outputs": [],
   "source": [
    "#Evaluate performance\n",
    "def plot_loss_curves(history):\n",
    "  loss = history.history['loss']\n",
    "  val_loss = history.history['val_loss']\n",
    "\n",
    "  accuracy = history.history['accuracy']\n",
    "  val_accuracy = history.history['val_accuracy']\n",
    "\n",
    "  epochs = range(len(history.history['loss']))\n",
    "\n",
    "  # Plot loss\n",
    "  plt.plot(epochs, loss, label='training_loss')\n",
    "  plt.plot(epochs, val_loss, label='val_loss')\n",
    "  plt.title('Loss')\n",
    "  plt.xlabel('Epochs')\n",
    "  plt.legend()\n",
    "\n",
    "  # Plot accuracy\n",
    "  plt.figure()\n",
    "  plt.plot(epochs, accuracy, label='training_accuracy')\n",
    "  plt.plot(epochs, val_accuracy, label='val_accuracy')\n",
    "  plt.title('Accuracy')\n",
    "  plt.xlabel('Epochs')\n",
    "  plt.legend();"
   ]
  },
  {
   "cell_type": "code",
   "execution_count": 19,
   "id": "d0d32947-6fbe-4603-a70e-7e28bb80d2be",
   "metadata": {},
   "outputs": [
    {
     "data": {
      "image/png": "[encoded data removed]",
      "text/plain": [
       "<Figure size 640x480 with 1 Axes>"
      ]
     },
     "metadata": {},
     "output_type": "display_data"
    },
    {
     "data": {
      "image/png": "[encoded data removed]",
      "text/plain": [
       "<Figure size 640x480 with 1 Axes>"
      ]
     },
     "metadata": {},
     "output_type": "display_data"
    }
   ],
   "source": [
    "plot_loss_curves(history)"
   ]
  },
  {
   "cell_type": "code",
   "execution_count": 20,
   "id": "8fffd498-df61-4304-8261-29db9e0b849b",
   "metadata": {},
   "outputs": [
    {
     "name": "stdout",
     "output_type": "stream",
     "text": [
      "190/190 [==============================] - 412s 2s/step\n",
      "Confusion Matrix\n",
      "Classification Report for M-Stage\n",
      "              precision    recall  f1-score   support\n",
      "\n",
      "           0       0.98      0.75      0.85      4181\n",
      "           1       0.68      0.90      0.78      1249\n",
      "          1a       0.40      1.00      0.57       174\n",
      "          1b       0.58      1.00      0.73       269\n",
      "          1c       0.59      0.99      0.74       184\n",
      "           2       0.67      1.00      0.80         2\n",
      "           3       1.00      1.00      1.00         4\n",
      "\n",
      "    accuracy                           0.81      6063\n",
      "   macro avg       0.70      0.95      0.78      6063\n",
      "weighted avg       0.87      0.81      0.82      6063\n",
      "\n"
     ]
    },
    {
     "data": {
      "image/png": "[encoded data removed]",
      "text/plain": [
       "<Figure size 640x480 with 2 Axes>"
      ]
     },
     "metadata": {},
     "output_type": "display_data"
    }
   ],
   "source": [
    "# m_stg = ['0','1','1a','1b','1c','2','3'] \n",
    "# t_Y_pred = model.predict(t_test_ds)\n",
    "m_Y_pred = model.predict(m_test_ds) #predictions\n",
    "m_Y_ground = m_test_df.m.to_list()\n",
    "m_y_pred = np.argmax(m_Y_pred,axis=1)\n",
    "print('Confusion Matrix')\n",
    "cm = confusion_matrix(m_test_ds.classes, m_y_pred)\n",
    "# cm = confusion_matrix(t_Y_ground, t_Y_pred,normalize='true')\n",
    "cmd = ConfusionMatrixDisplay(cm, display_labels=m_stg)\n",
    "cmd.plot()\n",
    "\n",
    "print('Classification Report for M-Stage')\n",
    "\n",
    "print(classification_report(m_test_ds.classes, m_y_pred, target_names=m_stg))\n"
   ]
  },
  {
   "cell_type": "code",
   "execution_count": 21,
   "id": "190b8516-0c75-4e80-8e7a-4c9d1315e6ef",
   "metadata": {},
   "outputs": [
    {
     "name": "stdout",
     "output_type": "stream",
     "text": [
      "1/1 [==============================] - 1s 747ms/step\n",
      "[2.3260010e-02 6.0277869e-04 9.7607046e-01 5.4841948e-05 8.0823469e-08\n",
      " 3.9181660e-07 1.1355265e-05]\n"
     ]
    }
   ],
   "source": [
    "from tensorflow.keras.preprocessing import image\n",
    "test_img = r'C:\\Users\\lzsnc\\Desktop\\Raw CT Images\\Lung_Dx-A0065_10-26-2008-NA-lungc-32319_3.000000-5mm Lung SS50-68818_1-34.tiff'\n",
    "test = image.load_img(test_img, target_size=(224,224))\n",
    "test_img_array = image.img_to_array(test)\n",
    "img_batch = np.expand_dims(test_img_array, axis=0)\n",
    "img_preprocessed = preprocess_input(img_batch)\n",
    "prediction = model.predict(img_preprocessed)\n",
    "print(prediction[0])"
   ]
  },
  {
   "cell_type": "markdown",
   "id": "1091c5ed-fe1a-4fcc-9786-5aa9bc943de8",
   "metadata": {},
   "source": [
    "Test with Gradio App"
   ]
  },
  {
   "cell_type": "code",
   "execution_count": 22,
   "id": "b059d310-f3c5-4ca7-8420-3a8409b05330",
   "metadata": {},
   "outputs": [],
   "source": [
    "import gradio as gr"
   ]
  },
  {
   "cell_type": "code",
   "execution_count": 23,
   "id": "cad07483-f351-47a6-b728-2b68bab54bd5",
   "metadata": {},
   "outputs": [
    {
     "data": {
      "text/html": [
       "<div>\n",
       "<style scoped>\n",
       "    .dataframe tbody tr th:only-of-type {\n",
       "        vertical-align: middle;\n",
       "    }\n",
       "\n",
       "    .dataframe tbody tr th {\n",
       "        vertical-align: top;\n",
       "    }\n",
       "\n",
       "    .dataframe thead th {\n",
       "        text-align: right;\n",
       "    }\n",
       "</style>\n",
       "<table border=\"1\" class=\"dataframe\">\n",
       "  <thead>\n",
       "    <tr style=\"text-align: right;\">\n",
       "      <th></th>\n",
       "      <th>filenames</th>\n",
       "      <th>m</th>\n",
       "    </tr>\n",
       "  </thead>\n",
       "  <tbody>\n",
       "    <tr>\n",
       "      <th>23607</th>\n",
       "      <td>Lung_Dx-G0016_09-09-2009-NA-LUNGC-60221_2.000000-A phase 5mm Stnd SS50-23160_3-018.tiff</td>\n",
       "      <td>0</td>\n",
       "    </tr>\n",
       "    <tr>\n",
       "      <th>20345</th>\n",
       "      <td>Lung_Dx-B0019_10-19-2008-NA-lungc-68700_2.000000-5mm-16348_1-027.tiff</td>\n",
       "      <td>1b</td>\n",
       "    </tr>\n",
       "    <tr>\n",
       "      <th>21132</th>\n",
       "      <td>Lung_Dx-B0036_05-06-2010-NA-PET01PTheadlung Adult-19739_10.000000-Thorax  1.0  B70f-75203_1-132.tiff</td>\n",
       "      <td>1b</td>\n",
       "    </tr>\n",
       "    <tr>\n",
       "      <th>22094</th>\n",
       "      <td>Lung_Dx-B0040_02-12-2011-NA-PET01PTheadlung Adult-51535_9.000000-Thorax  1.0  B31f-24134_1-199.tiff</td>\n",
       "      <td>1</td>\n",
       "    </tr>\n",
       "    <tr>\n",
       "      <th>25419</th>\n",
       "      <td>Lung_Dx-G0038_03-27-2010-NA-PET01PTheadlung Adult-40157_12.000000-Range-CT WB  1.0  B30f-Tra-MPR Range-84923_1-183.tiff</td>\n",
       "      <td>1</td>\n",
       "    </tr>\n",
       "  </tbody>\n",
       "</table>\n",
       "</div>"
      ],
      "text/plain": [
       "                                                                                                                     filenames  \\\n",
       "23607                                  Lung_Dx-G0016_09-09-2009-NA-LUNGC-60221_2.000000-A phase 5mm Stnd SS50-23160_3-018.tiff   \n",
       "20345                                                    Lung_Dx-B0019_10-19-2008-NA-lungc-68700_2.000000-5mm-16348_1-027.tiff   \n",
       "21132                     Lung_Dx-B0036_05-06-2010-NA-PET01PTheadlung Adult-19739_10.000000-Thorax  1.0  B70f-75203_1-132.tiff   \n",
       "22094                      Lung_Dx-B0040_02-12-2011-NA-PET01PTheadlung Adult-51535_9.000000-Thorax  1.0  B31f-24134_1-199.tiff   \n",
       "25419  Lung_Dx-G0038_03-27-2010-NA-PET01PTheadlung Adult-40157_12.000000-Range-CT WB  1.0  B30f-Tra-MPR Range-84923_1-183.tiff   \n",
       "\n",
       "        m  \n",
       "23607   0  \n",
       "20345  1b  \n",
       "21132  1b  \n",
       "22094   1  \n",
       "25419   1  "
      ]
     },
     "execution_count": 23,
     "metadata": {},
     "output_type": "execute_result"
    }
   ],
   "source": [
    "m_test_df.sample(n=5)"
   ]
  },
  {
   "cell_type": "code",
   "execution_count": 24,
   "id": "25fa5ccf-753a-4a82-8ae8-65bb717910af",
   "metadata": {},
   "outputs": [],
   "source": [
    "def predict_m_stage(m_img):\n",
    "  m_img = tensorflow.image.resize(m_img, size=(224,224))\n",
    "  # Make image tensor right size for model\n",
    "  m_img = tensorflow.expand_dims(m_img, axis=0)\n",
    "  img_preprocessed = preprocess_input(m_img)    \n",
    "  # Predict the image\n",
    "  pred = model.predict(img_preprocessed)[0]\n",
    "  output = dict(zip(m_stg, map(float,pred)))\n",
    "  return output"
   ]
  },
  {
   "cell_type": "code",
   "execution_count": 25,
   "id": "53abce1e-f49c-4899-9d0a-f2638875bb6e",
   "metadata": {},
   "outputs": [
    {
     "name": "stdout",
     "output_type": "stream",
     "text": [
      "Running on local URL:  http://127.0.0.1:7860\n",
      "\n",
      "To create a public link, set `share=True` in `launch()`.\n"
     ]
    },
    {
     "data": {
      "text/html": [
       "<div><iframe src=\"http://127.0.0.1:7860/\" width=\"100%\" height=\"500\" allow=\"autoplay; camera; microphone; clipboard-read; clipboard-write;\" frameborder=\"0\" allowfullscreen></iframe></div>"
      ],
      "text/plain": [
       "<IPython.core.display.HTML object>"
      ]
     },
     "metadata": {},
     "output_type": "display_data"
    },
    {
     "name": "stdout",
     "output_type": "stream",
     "text": [
      "Keyboard interruption in main thread... closing server.\n"
     ]
    },
    {
     "data": {
      "text/plain": []
     },
     "execution_count": 25,
     "metadata": {},
     "output_type": "execute_result"
    }
   ],
   "source": [
    "gr.Interface(fn=predict_m_stage,\n",
    "             inputs=gr.inputs.Image(),\n",
    "             outputs=gr.outputs.Label(num_top_classes=3)).launch(debug=True)"
   ]
  },
  {
   "cell_type": "code",
   "execution_count": null,
   "id": "07d7ac20-75e5-4d44-953a-1bebcd070e4b",
   "metadata": {},
   "outputs": [],
   "source": []
  },
  {
   "cell_type": "code",
   "execution_count": null,
   "id": "be6821d5-5889-4bc5-87c3-677143f41978",
   "metadata": {},
   "outputs": [],
   "source": []
  }
 ],
 "metadata": {
  "kernelspec": {
   "display_name": "Python 3 (ipykernel)",
   "language": "python",
   "name": "python3"
  },
  "language_info": {
   "codemirror_mode": {
    "name": "ipython",
    "version": 3
   },
   "file_extension": ".py",
   "mimetype": "text/x-python",
   "name": "python",
   "nbconvert_exporter": "python",
   "pygments_lexer": "ipython3",
   "version": "3.9.13"
  }
 },
 "nbformat": 4,
 "nbformat_minor": 5
}
