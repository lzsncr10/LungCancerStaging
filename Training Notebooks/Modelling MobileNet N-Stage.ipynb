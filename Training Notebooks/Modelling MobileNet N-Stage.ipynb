{
 "cells": [
  {
   "cell_type": "markdown",
   "id": "7d39fbdc-3fd8-49c6-90b3-0b8c2aeab87c",
   "metadata": {},
   "source": [
    "## Modelling Draft: MobileNet for N-Stage Classification<br>\n",
    "Framework: Tensorflow Keras <br>\n",
    "Base models to test: <br>\n",
    "<li>Xception </li>\n",
    "<li>MobileNet ✓</li>\n",
    "<li>NasNet Mobile </li>"
   ]
  },
  {
   "cell_type": "markdown",
   "id": "d32b521b-125c-4bf6-a6cc-e2c1261b4323",
   "metadata": {},
   "source": [
    "#### Import Packages"
   ]
  },
  {
   "cell_type": "code",
   "execution_count": 18,
   "id": "79e930dc-7aa2-4d30-ae1c-6605cb0a1eb3",
   "metadata": {},
   "outputs": [
    {
     "name": "stdout",
     "output_type": "stream",
     "text": [
      "All modules are loaded\n"
     ]
    }
   ],
   "source": [
    "# import numpy as np\n",
    "# from PIL import Image\n",
    "# from tensorflow.keras import backend as K\n",
    "import pandas as pd\n",
    "import matplotlib.pyplot as plt\n",
    "import tensorflow\n",
    "import random\n",
    "import os\n",
    "\n",
    "from tensorflow.keras.models import Sequential\n",
    "from tensorflow.keras.layers import Activation, Dense, Dropout, BatchNormalization, Flatten, Input\n",
    "from tensorflow.keras.optimizers import *\n",
    "from tensorflow.keras.metrics import *\n",
    "from tensorflow.keras.utils import to_categorical\n",
    "from tensorflow.keras.preprocessing.image import ImageDataGenerator\n",
    "from tensorflow.keras.applications.mobilenet import MobileNet\n",
    "from tensorflow.keras.applications.mobilenet import preprocess_input\n",
    "from sklearn.model_selection import train_test_split\n",
    "from sklearn.metrics._plot.confusion_matrix import ConfusionMatrixDisplay\n",
    "from sklearn.metrics import classification_report, confusion_matrix\n",
    "from sklearn.utils import class_weight\n",
    "from time import perf_counter\n",
    "\n",
    "import sys\n",
    "if not sys.warnoptions:\n",
    "    import warnings\n",
    "    warnings.simplefilter(\"ignore\")\n",
    "pd.set_option('display.max_columns', None)  # or 1000\n",
    "pd.set_option('display.max_rows', None)  # or 1000\n",
    "pd.set_option('display.max_colwidth', None)  # or 199\n",
    "print ('All modules are loaded')"
   ]
  },
  {
   "cell_type": "code",
   "execution_count": 19,
   "id": "9121c71a-01e4-46a9-821e-378a2bd8dd5c",
   "metadata": {},
   "outputs": [
    {
     "data": {
      "text/html": [
       "<div>\n",
       "<style scoped>\n",
       "    .dataframe tbody tr th:only-of-type {\n",
       "        vertical-align: middle;\n",
       "    }\n",
       "\n",
       "    .dataframe tbody tr th {\n",
       "        vertical-align: top;\n",
       "    }\n",
       "\n",
       "    .dataframe thead th {\n",
       "        text-align: right;\n",
       "    }\n",
       "</style>\n",
       "<table border=\"1\" class=\"dataframe\">\n",
       "  <thead>\n",
       "    <tr style=\"text-align: right;\">\n",
       "      <th></th>\n",
       "      <th>filenames</th>\n",
       "      <th>n</th>\n",
       "    </tr>\n",
       "  </thead>\n",
       "  <tbody>\n",
       "    <tr>\n",
       "      <th>0</th>\n",
       "      <td>Lung_Dx-A0001_04-04-2007-NA-Chest-07990_2.000000-5mm-40805_1-13.tiff</td>\n",
       "      <td>3</td>\n",
       "    </tr>\n",
       "    <tr>\n",
       "      <th>1</th>\n",
       "      <td>Lung_Dx-A0001_04-04-2007-NA-Chest-07990_2.000000-5mm-40805_1-14.tiff</td>\n",
       "      <td>3</td>\n",
       "    </tr>\n",
       "    <tr>\n",
       "      <th>2</th>\n",
       "      <td>Lung_Dx-A0001_04-04-2007-NA-Chest-07990_2.000000-5mm-40805_1-15.tiff</td>\n",
       "      <td>3</td>\n",
       "    </tr>\n",
       "    <tr>\n",
       "      <th>3</th>\n",
       "      <td>Lung_Dx-A0001_04-04-2007-NA-Chest-07990_2.000000-5mm-40805_1-16.tiff</td>\n",
       "      <td>3</td>\n",
       "    </tr>\n",
       "    <tr>\n",
       "      <th>4</th>\n",
       "      <td>Lung_Dx-A0001_04-04-2007-NA-Chest-07990_2.000000-5mm-40805_1-17.tiff</td>\n",
       "      <td>3</td>\n",
       "    </tr>\n",
       "  </tbody>\n",
       "</table>\n",
       "</div>"
      ],
      "text/plain": [
       "                                                              filenames  n\n",
       "0  Lung_Dx-A0001_04-04-2007-NA-Chest-07990_2.000000-5mm-40805_1-13.tiff  3\n",
       "1  Lung_Dx-A0001_04-04-2007-NA-Chest-07990_2.000000-5mm-40805_1-14.tiff  3\n",
       "2  Lung_Dx-A0001_04-04-2007-NA-Chest-07990_2.000000-5mm-40805_1-15.tiff  3\n",
       "3  Lung_Dx-A0001_04-04-2007-NA-Chest-07990_2.000000-5mm-40805_1-16.tiff  3\n",
       "4  Lung_Dx-A0001_04-04-2007-NA-Chest-07990_2.000000-5mm-40805_1-17.tiff  3"
      ]
     },
     "execution_count": 19,
     "metadata": {},
     "output_type": "execute_result"
    }
   ],
   "source": [
    "#Labels\n",
    "# t_stg= ['is','1','1a','1b','1c','2','2a','2b','3','4']\n",
    "n_stg = ['0','1','2','3']\n",
    "# m_stg = ['0','1','1a','1b','1c','2','3'] \n",
    "\n",
    "#Load the image batches, labels == t,m,n\n",
    "n_raw_df = pd.read_csv(r'D:\\Lung-PET-CT-Dx\\manifest\\raw_ct_delimited.csv',usecols=['filenames','n'])\n",
    "raw_dir = r'C:\\Users\\lzsnc\\Desktop\\Raw CT Resized'\n",
    "n_raw_df.head()\n"
   ]
  },
  {
   "cell_type": "code",
   "execution_count": 20,
   "id": "d853207d-9ec3-46af-86fa-d77396d6a5f7",
   "metadata": {},
   "outputs": [
    {
     "data": {
      "text/html": [
       "<div>\n",
       "<style scoped>\n",
       "    .dataframe tbody tr th:only-of-type {\n",
       "        vertical-align: middle;\n",
       "    }\n",
       "\n",
       "    .dataframe tbody tr th {\n",
       "        vertical-align: top;\n",
       "    }\n",
       "\n",
       "    .dataframe thead th {\n",
       "        text-align: right;\n",
       "    }\n",
       "</style>\n",
       "<table border=\"1\" class=\"dataframe\">\n",
       "  <thead>\n",
       "    <tr style=\"text-align: right;\">\n",
       "      <th></th>\n",
       "      <th>filenames</th>\n",
       "      <th>n</th>\n",
       "    </tr>\n",
       "  </thead>\n",
       "  <tbody>\n",
       "    <tr>\n",
       "      <th>0</th>\n",
       "      <td>Lung_Dx-A0001_04-04-2007-NA-Chest-07990_2.000000-5mm-40805_1-13.tiff</td>\n",
       "      <td>3</td>\n",
       "    </tr>\n",
       "    <tr>\n",
       "      <th>1</th>\n",
       "      <td>Lung_Dx-A0001_04-04-2007-NA-Chest-07990_2.000000-5mm-40805_1-14.tiff</td>\n",
       "      <td>3</td>\n",
       "    </tr>\n",
       "    <tr>\n",
       "      <th>2</th>\n",
       "      <td>Lung_Dx-A0001_04-04-2007-NA-Chest-07990_2.000000-5mm-40805_1-15.tiff</td>\n",
       "      <td>3</td>\n",
       "    </tr>\n",
       "    <tr>\n",
       "      <th>3</th>\n",
       "      <td>Lung_Dx-A0001_04-04-2007-NA-Chest-07990_2.000000-5mm-40805_1-16.tiff</td>\n",
       "      <td>3</td>\n",
       "    </tr>\n",
       "    <tr>\n",
       "      <th>4</th>\n",
       "      <td>Lung_Dx-A0001_04-04-2007-NA-Chest-07990_2.000000-5mm-40805_1-17.tiff</td>\n",
       "      <td>3</td>\n",
       "    </tr>\n",
       "  </tbody>\n",
       "</table>\n",
       "</div>"
      ],
      "text/plain": [
       "                                                              filenames  n\n",
       "0  Lung_Dx-A0001_04-04-2007-NA-Chest-07990_2.000000-5mm-40805_1-13.tiff  3\n",
       "1  Lung_Dx-A0001_04-04-2007-NA-Chest-07990_2.000000-5mm-40805_1-14.tiff  3\n",
       "2  Lung_Dx-A0001_04-04-2007-NA-Chest-07990_2.000000-5mm-40805_1-15.tiff  3\n",
       "3  Lung_Dx-A0001_04-04-2007-NA-Chest-07990_2.000000-5mm-40805_1-16.tiff  3\n",
       "4  Lung_Dx-A0001_04-04-2007-NA-Chest-07990_2.000000-5mm-40805_1-17.tiff  3"
      ]
     },
     "execution_count": 20,
     "metadata": {},
     "output_type": "execute_result"
    }
   ],
   "source": [
    "n_raw_df.head()"
   ]
  },
  {
   "cell_type": "markdown",
   "id": "c4168ea9-a48c-42c1-b633-dacebb37f478",
   "metadata": {},
   "source": [
    "#### Split Dataset: <br>\n",
    "80% Train, 20% Test"
   ]
  },
  {
   "cell_type": "code",
   "execution_count": 21,
   "id": "2073cef9-9828-428d-a13a-b60cbbeb591b",
   "metadata": {},
   "outputs": [
    {
     "data": {
      "text/html": [
       "<div>\n",
       "<style scoped>\n",
       "    .dataframe tbody tr th:only-of-type {\n",
       "        vertical-align: middle;\n",
       "    }\n",
       "\n",
       "    .dataframe tbody tr th {\n",
       "        vertical-align: top;\n",
       "    }\n",
       "\n",
       "    .dataframe thead th {\n",
       "        text-align: right;\n",
       "    }\n",
       "</style>\n",
       "<table border=\"1\" class=\"dataframe\">\n",
       "  <thead>\n",
       "    <tr style=\"text-align: right;\">\n",
       "      <th></th>\n",
       "      <th>filenames</th>\n",
       "      <th>n</th>\n",
       "    </tr>\n",
       "  </thead>\n",
       "  <tbody>\n",
       "    <tr>\n",
       "      <th>13351</th>\n",
       "      <td>Lung_Dx-A0225_02-24-2010-NA-PET03WholebodyFirstHead Adult-94548_17.000000-Range-CT WB  1.0  B30f-Tra-ALPHA Range-84398_1-097.tiff</td>\n",
       "      <td>0</td>\n",
       "    </tr>\n",
       "    <tr>\n",
       "      <th>6885</th>\n",
       "      <td>Lung_Dx-A0179_02-18-2011-NA-PETNEW02CBMWholebodyOnly Adult-71135_6.000000-Range-CT WB  1.0  B30f-Tra-ALPHA Range-45198_1-138.tiff</td>\n",
       "      <td>0</td>\n",
       "    </tr>\n",
       "    <tr>\n",
       "      <th>1588</th>\n",
       "      <td>Lung_Dx-A0065_10-26-2008-NA-lungc-32319_3.000000-5mm Lung SS50-68818_1-34.tiff</td>\n",
       "      <td>1</td>\n",
       "    </tr>\n",
       "    <tr>\n",
       "      <th>1109</th>\n",
       "      <td>Lung_Dx-A0041_05-20-2009-NA-ThoraxAThoraxRoutine Adult-95129_3.000000-ThoraxRoutine  10.0  B40f-76978_1-08.tiff</td>\n",
       "      <td>1</td>\n",
       "    </tr>\n",
       "    <tr>\n",
       "      <th>8980</th>\n",
       "      <td>Lung_Dx-A0193_09-16-2009-NA-PET03WholebodyFirstHead Adult-73161_15.000000-CT WB  1.0  B30f-21761_1-135.tiff</td>\n",
       "      <td>1</td>\n",
       "    </tr>\n",
       "  </tbody>\n",
       "</table>\n",
       "</div>"
      ],
      "text/plain": [
       "                                                                                                                               filenames  \\\n",
       "13351  Lung_Dx-A0225_02-24-2010-NA-PET03WholebodyFirstHead Adult-94548_17.000000-Range-CT WB  1.0  B30f-Tra-ALPHA Range-84398_1-097.tiff   \n",
       "6885   Lung_Dx-A0179_02-18-2011-NA-PETNEW02CBMWholebodyOnly Adult-71135_6.000000-Range-CT WB  1.0  B30f-Tra-ALPHA Range-45198_1-138.tiff   \n",
       "1588                                                      Lung_Dx-A0065_10-26-2008-NA-lungc-32319_3.000000-5mm Lung SS50-68818_1-34.tiff   \n",
       "1109                     Lung_Dx-A0041_05-20-2009-NA-ThoraxAThoraxRoutine Adult-95129_3.000000-ThoraxRoutine  10.0  B40f-76978_1-08.tiff   \n",
       "8980                         Lung_Dx-A0193_09-16-2009-NA-PET03WholebodyFirstHead Adult-73161_15.000000-CT WB  1.0  B30f-21761_1-135.tiff   \n",
       "\n",
       "       n  \n",
       "13351  0  \n",
       "6885   0  \n",
       "1588   1  \n",
       "1109   1  \n",
       "8980   1  "
      ]
     },
     "execution_count": 21,
     "metadata": {},
     "output_type": "execute_result"
    }
   ],
   "source": [
    "n_train_df, n_test_df = train_test_split(n_raw_df, test_size=0.2, random_state=42) \n",
    "n_train_df.tail()\n",
    "#convert n-stage df to string\n",
    "n_train_df['n'] = n_train_df['n'].apply(str)\n",
    "n_test_df['n'] = n_test_df['n'].apply(str)\n",
    "n_test_df.head()"
   ]
  },
  {
   "cell_type": "markdown",
   "id": "d84a8e43-21cd-44ae-9e32-2ea87f00e300",
   "metadata": {},
   "source": [
    "#### Train/Test for 'T' Stage"
   ]
  },
  {
   "cell_type": "code",
   "execution_count": 23,
   "id": "d7d1fa1b-96bd-4e16-aae9-4633eb20f835",
   "metadata": {},
   "outputs": [
    {
     "name": "stdout",
     "output_type": "stream",
     "text": [
      "Found 24250 validated image filenames belonging to 4 classes.\n"
     ]
    }
   ],
   "source": [
    "train_batch = 32\n",
    "train_datagen = ImageDataGenerator(rescale=1 / 255.0,\n",
    "                                   featurewise_center=True,\n",
    "                                   featurewise_std_normalization=True,)\n",
    "\n",
    "n_train_ds = train_datagen.flow_from_dataframe(\n",
    "    dataframe=n_train_df,\n",
    "    directory=raw_dir,\n",
    "    x_col='filenames',\n",
    "    y_col='n',\n",
    "    # color_mode='grayscale',\n",
    "    class_mode='categorical',\n",
    "    shuffle=True,\n",
    "    seed=32\n",
    ")"
   ]
  },
  {
   "cell_type": "code",
   "execution_count": 24,
   "id": "89bfcb4e-1648-4c19-9609-c07fc005f621",
   "metadata": {},
   "outputs": [
    {
     "data": {
      "text/plain": [
       "array([0, 1, 2, 3])"
      ]
     },
     "execution_count": 24,
     "metadata": {},
     "output_type": "execute_result"
    }
   ],
   "source": [
    "np.unique(n_train_ds.classes)"
   ]
  },
  {
   "cell_type": "markdown",
   "id": "cdc14638-fec1-4bbd-a7a0-821597a53333",
   "metadata": {},
   "source": [
    "#### Test Image Generator"
   ]
  },
  {
   "cell_type": "code",
   "execution_count": 25,
   "id": "ce612faf-e209-46d9-aa62-b3dcba0e1abf",
   "metadata": {},
   "outputs": [
    {
     "name": "stdout",
     "output_type": "stream",
     "text": [
      "Found 6063 validated image filenames belonging to 4 classes.\n"
     ]
    }
   ],
   "source": [
    "test_batch = 32\n",
    "test_datagen = ImageDataGenerator(rescale=1 / 255.0)\n",
    "n_test_ds = test_datagen.flow_from_dataframe(\n",
    "    dataframe=n_test_df,\n",
    "    directory=raw_dir,\n",
    "    x_col='filenames',\n",
    "    y_col='n',\n",
    "    # color_mode='grayscale',\n",
    "    class_mode='categorical',\n",
    "    shuffle=False, #re-run this!\n",
    "    seed=32 \n",
    ")"
   ]
  },
  {
   "cell_type": "code",
   "execution_count": 26,
   "id": "3da08044-2dcd-485a-843b-a498219e915e",
   "metadata": {},
   "outputs": [
    {
     "name": "stdout",
     "output_type": "stream",
     "text": [
      "{'0': 0, '1': 1, '2': 2, '3': 3}\n"
     ]
    },
    {
     "data": {
      "text/plain": [
       "4"
      ]
     },
     "execution_count": 26,
     "metadata": {},
     "output_type": "execute_result"
    }
   ],
   "source": [
    "#Validate number of N-Stage\n",
    "n_class_dict = n_train_ds.class_indices\n",
    "print(n_class_dict)\n",
    "n_num_classes = len(n_class_dict)\n",
    "n_num_classes"
   ]
  },
  {
   "cell_type": "code",
   "execution_count": 27,
   "id": "60076716-697a-48f3-ab52-f545966d7570",
   "metadata": {},
   "outputs": [
    {
     "data": {
      "text/plain": [
       "{'0': 0, '1': 1, '2': 2, '3': 3}"
      ]
     },
     "execution_count": 27,
     "metadata": {},
     "output_type": "execute_result"
    }
   ],
   "source": [
    "n_class_dict"
   ]
  },
  {
   "cell_type": "markdown",
   "id": "350f10f3-8edc-4443-b628-4cca0eaad4ea",
   "metadata": {},
   "source": [
    "Add Weights"
   ]
  },
  {
   "cell_type": "code",
   "execution_count": 28,
   "id": "1fd095b8-7299-424a-8e2d-f7b760048542",
   "metadata": {},
   "outputs": [
    {
     "data": {
      "text/plain": [
       "{0: 0.47807743868780067,\n",
       " 1: 0.887628111273792,\n",
       " 2: 6.020357497517378,\n",
       " 3: 1.6244640943193998}"
      ]
     },
     "execution_count": 28,
     "metadata": {},
     "output_type": "execute_result"
    }
   ],
   "source": [
    "#without undersampling oversamples:\n",
    "n_class_weights = class_weight.compute_class_weight(\n",
    "           class_weight='balanced',\n",
    "           classes=np.unique(n_train_ds.classes),\n",
    "           y=n_train_ds.classes)\n",
    "n_class_weights = dict(zip(np.unique(n_train_ds.classes), n_class_weights))\n",
    "n_class_weights"
   ]
  },
  {
   "cell_type": "markdown",
   "id": "d8ff957d-083b-4d0a-a655-7e9b80026918",
   "metadata": {},
   "source": [
    "Model 1: MobileNet"
   ]
  },
  {
   "cell_type": "code",
   "execution_count": 29,
   "id": "cfdf7d2e-e46b-40d8-bade-9eaa129ec3db",
   "metadata": {},
   "outputs": [
    {
     "name": "stdout",
     "output_type": "stream",
     "text": [
      "Model: \"mobilenet_1.00_224\"\n",
      "_________________________________________________________________\n",
      " Layer (type)                Output Shape              Param #   \n",
      "=================================================================\n",
      " input_2 (InputLayer)        [(None, 224, 224, 3)]     0         \n",
      "                                                                 \n",
      " conv1 (Conv2D)              (None, 112, 112, 32)      864       \n",
      "                                                                 \n",
      " conv1_bn (BatchNormalizati  (None, 112, 112, 32)      128       \n",
      " on)                                                             \n",
      "                                                                 \n",
      " conv1_relu (ReLU)           (None, 112, 112, 32)      0         \n",
      "                                                                 \n",
      " conv_dw_1 (DepthwiseConv2D  (None, 112, 112, 32)      288       \n",
      " )                                                               \n",
      "                                                                 \n",
      " conv_dw_1_bn (BatchNormali  (None, 112, 112, 32)      128       \n",
      " zation)                                                         \n",
      "                                                                 \n",
      " conv_dw_1_relu (ReLU)       (None, 112, 112, 32)      0         \n",
      "                                                                 \n",
      " conv_pw_1 (Conv2D)          (None, 112, 112, 64)      2048      \n",
      "                                                                 \n",
      " conv_pw_1_bn (BatchNormali  (None, 112, 112, 64)      256       \n",
      " zation)                                                         \n",
      "                                                                 \n",
      " conv_pw_1_relu (ReLU)       (None, 112, 112, 64)      0         \n",
      "                                                                 \n",
      " conv_pad_2 (ZeroPadding2D)  (None, 113, 113, 64)      0         \n",
      "                                                                 \n",
      " conv_dw_2 (DepthwiseConv2D  (None, 56, 56, 64)        576       \n",
      " )                                                               \n",
      "                                                                 \n",
      " conv_dw_2_bn (BatchNormali  (None, 56, 56, 64)        256       \n",
      " zation)                                                         \n",
      "                                                                 \n",
      " conv_dw_2_relu (ReLU)       (None, 56, 56, 64)        0         \n",
      "                                                                 \n",
      " conv_pw_2 (Conv2D)          (None, 56, 56, 128)       8192      \n",
      "                                                                 \n",
      " conv_pw_2_bn (BatchNormali  (None, 56, 56, 128)       512       \n",
      " zation)                                                         \n",
      "                                                                 \n",
      " conv_pw_2_relu (ReLU)       (None, 56, 56, 128)       0         \n",
      "                                                                 \n",
      " conv_dw_3 (DepthwiseConv2D  (None, 56, 56, 128)       1152      \n",
      " )                                                               \n",
      "                                                                 \n",
      " conv_dw_3_bn (BatchNormali  (None, 56, 56, 128)       512       \n",
      " zation)                                                         \n",
      "                                                                 \n",
      " conv_dw_3_relu (ReLU)       (None, 56, 56, 128)       0         \n",
      "                                                                 \n",
      " conv_pw_3 (Conv2D)          (None, 56, 56, 128)       16384     \n",
      "                                                                 \n",
      " conv_pw_3_bn (BatchNormali  (None, 56, 56, 128)       512       \n",
      " zation)                                                         \n",
      "                                                                 \n",
      " conv_pw_3_relu (ReLU)       (None, 56, 56, 128)       0         \n",
      "                                                                 \n",
      " conv_pad_4 (ZeroPadding2D)  (None, 57, 57, 128)       0         \n",
      "                                                                 \n",
      " conv_dw_4 (DepthwiseConv2D  (None, 28, 28, 128)       1152      \n",
      " )                                                               \n",
      "                                                                 \n",
      " conv_dw_4_bn (BatchNormali  (None, 28, 28, 128)       512       \n",
      " zation)                                                         \n",
      "                                                                 \n",
      " conv_dw_4_relu (ReLU)       (None, 28, 28, 128)       0         \n",
      "                                                                 \n",
      " conv_pw_4 (Conv2D)          (None, 28, 28, 256)       32768     \n",
      "                                                                 \n",
      " conv_pw_4_bn (BatchNormali  (None, 28, 28, 256)       1024      \n",
      " zation)                                                         \n",
      "                                                                 \n",
      " conv_pw_4_relu (ReLU)       (None, 28, 28, 256)       0         \n",
      "                                                                 \n",
      " conv_dw_5 (DepthwiseConv2D  (None, 28, 28, 256)       2304      \n",
      " )                                                               \n",
      "                                                                 \n",
      " conv_dw_5_bn (BatchNormali  (None, 28, 28, 256)       1024      \n",
      " zation)                                                         \n",
      "                                                                 \n",
      " conv_dw_5_relu (ReLU)       (None, 28, 28, 256)       0         \n",
      "                                                                 \n",
      " conv_pw_5 (Conv2D)          (None, 28, 28, 256)       65536     \n",
      "                                                                 \n",
      " conv_pw_5_bn (BatchNormali  (None, 28, 28, 256)       1024      \n",
      " zation)                                                         \n",
      "                                                                 \n",
      " conv_pw_5_relu (ReLU)       (None, 28, 28, 256)       0         \n",
      "                                                                 \n",
      " conv_pad_6 (ZeroPadding2D)  (None, 29, 29, 256)       0         \n",
      "                                                                 \n",
      " conv_dw_6 (DepthwiseConv2D  (None, 14, 14, 256)       2304      \n",
      " )                                                               \n",
      "                                                                 \n",
      " conv_dw_6_bn (BatchNormali  (None, 14, 14, 256)       1024      \n",
      " zation)                                                         \n",
      "                                                                 \n",
      " conv_dw_6_relu (ReLU)       (None, 14, 14, 256)       0         \n",
      "                                                                 \n",
      " conv_pw_6 (Conv2D)          (None, 14, 14, 512)       131072    \n",
      "                                                                 \n",
      " conv_pw_6_bn (BatchNormali  (None, 14, 14, 512)       2048      \n",
      " zation)                                                         \n",
      "                                                                 \n",
      " conv_pw_6_relu (ReLU)       (None, 14, 14, 512)       0         \n",
      "                                                                 \n",
      " conv_dw_7 (DepthwiseConv2D  (None, 14, 14, 512)       4608      \n",
      " )                                                               \n",
      "                                                                 \n",
      " conv_dw_7_bn (BatchNormali  (None, 14, 14, 512)       2048      \n",
      " zation)                                                         \n",
      "                                                                 \n",
      " conv_dw_7_relu (ReLU)       (None, 14, 14, 512)       0         \n",
      "                                                                 \n",
      " conv_pw_7 (Conv2D)          (None, 14, 14, 512)       262144    \n",
      "                                                                 \n",
      " conv_pw_7_bn (BatchNormali  (None, 14, 14, 512)       2048      \n",
      " zation)                                                         \n",
      "                                                                 \n",
      " conv_pw_7_relu (ReLU)       (None, 14, 14, 512)       0         \n",
      "                                                                 \n",
      " conv_dw_8 (DepthwiseConv2D  (None, 14, 14, 512)       4608      \n",
      " )                                                               \n",
      "                                                                 \n",
      " conv_dw_8_bn (BatchNormali  (None, 14, 14, 512)       2048      \n",
      " zation)                                                         \n",
      "                                                                 \n",
      " conv_dw_8_relu (ReLU)       (None, 14, 14, 512)       0         \n",
      "                                                                 \n",
      " conv_pw_8 (Conv2D)          (None, 14, 14, 512)       262144    \n",
      "                                                                 \n",
      " conv_pw_8_bn (BatchNormali  (None, 14, 14, 512)       2048      \n",
      " zation)                                                         \n",
      "                                                                 \n",
      " conv_pw_8_relu (ReLU)       (None, 14, 14, 512)       0         \n",
      "                                                                 \n",
      " conv_dw_9 (DepthwiseConv2D  (None, 14, 14, 512)       4608      \n",
      " )                                                               \n",
      "                                                                 \n",
      " conv_dw_9_bn (BatchNormali  (None, 14, 14, 512)       2048      \n",
      " zation)                                                         \n",
      "                                                                 \n",
      " conv_dw_9_relu (ReLU)       (None, 14, 14, 512)       0         \n",
      "                                                                 \n",
      " conv_pw_9 (Conv2D)          (None, 14, 14, 512)       262144    \n",
      "                                                                 \n",
      " conv_pw_9_bn (BatchNormali  (None, 14, 14, 512)       2048      \n",
      " zation)                                                         \n",
      "                                                                 \n",
      " conv_pw_9_relu (ReLU)       (None, 14, 14, 512)       0         \n",
      "                                                                 \n",
      " conv_dw_10 (DepthwiseConv2  (None, 14, 14, 512)       4608      \n",
      " D)                                                              \n",
      "                                                                 \n",
      " conv_dw_10_bn (BatchNormal  (None, 14, 14, 512)       2048      \n",
      " ization)                                                        \n",
      "                                                                 \n",
      " conv_dw_10_relu (ReLU)      (None, 14, 14, 512)       0         \n",
      "                                                                 \n",
      " conv_pw_10 (Conv2D)         (None, 14, 14, 512)       262144    \n",
      "                                                                 \n",
      " conv_pw_10_bn (BatchNormal  (None, 14, 14, 512)       2048      \n",
      " ization)                                                        \n",
      "                                                                 \n",
      " conv_pw_10_relu (ReLU)      (None, 14, 14, 512)       0         \n",
      "                                                                 \n",
      " conv_dw_11 (DepthwiseConv2  (None, 14, 14, 512)       4608      \n",
      " D)                                                              \n",
      "                                                                 \n",
      " conv_dw_11_bn (BatchNormal  (None, 14, 14, 512)       2048      \n",
      " ization)                                                        \n",
      "                                                                 \n",
      " conv_dw_11_relu (ReLU)      (None, 14, 14, 512)       0         \n",
      "                                                                 \n",
      " conv_pw_11 (Conv2D)         (None, 14, 14, 512)       262144    \n",
      "                                                                 \n",
      " conv_pw_11_bn (BatchNormal  (None, 14, 14, 512)       2048      \n",
      " ization)                                                        \n",
      "                                                                 \n",
      " conv_pw_11_relu (ReLU)      (None, 14, 14, 512)       0         \n",
      "                                                                 \n",
      " conv_pad_12 (ZeroPadding2D  (None, 15, 15, 512)       0         \n",
      " )                                                               \n",
      "                                                                 \n",
      " conv_dw_12 (DepthwiseConv2  (None, 7, 7, 512)         4608      \n",
      " D)                                                              \n",
      "                                                                 \n",
      " conv_dw_12_bn (BatchNormal  (None, 7, 7, 512)         2048      \n",
      " ization)                                                        \n",
      "                                                                 \n",
      " conv_dw_12_relu (ReLU)      (None, 7, 7, 512)         0         \n",
      "                                                                 \n",
      " conv_pw_12 (Conv2D)         (None, 7, 7, 1024)        524288    \n",
      "                                                                 \n",
      " conv_pw_12_bn (BatchNormal  (None, 7, 7, 1024)        4096      \n",
      " ization)                                                        \n",
      "                                                                 \n",
      " conv_pw_12_relu (ReLU)      (None, 7, 7, 1024)        0         \n",
      "                                                                 \n",
      " conv_dw_13 (DepthwiseConv2  (None, 7, 7, 1024)        9216      \n",
      " D)                                                              \n",
      "                                                                 \n",
      " conv_dw_13_bn (BatchNormal  (None, 7, 7, 1024)        4096      \n",
      " ization)                                                        \n",
      "                                                                 \n",
      " conv_dw_13_relu (ReLU)      (None, 7, 7, 1024)        0         \n",
      "                                                                 \n",
      " conv_pw_13 (Conv2D)         (None, 7, 7, 1024)        1048576   \n",
      "                                                                 \n",
      " conv_pw_13_bn (BatchNormal  (None, 7, 7, 1024)        4096      \n",
      " ization)                                                        \n",
      "                                                                 \n",
      " conv_pw_13_relu (ReLU)      (None, 7, 7, 1024)        0         \n",
      "                                                                 \n",
      "=================================================================\n",
      "Total params: 3228864 (12.32 MB)\n",
      "Trainable params: 0 (0.00 Byte)\n",
      "Non-trainable params: 3228864 (12.32 MB)\n",
      "_________________________________________________________________\n"
     ]
    }
   ],
   "source": [
    "base_model = MobileNet(\n",
    "    weights='imagenet',\n",
    "    include_top=False,\n",
    "    input_shape=(224, 224, 3)\n",
    ")\n",
    "\n",
    "base_model.trainable = False\n",
    "base_model.summary()"
   ]
  },
  {
   "cell_type": "code",
   "execution_count": 30,
   "id": "f860be74-47ef-4bfb-bc54-5da1014c7e76",
   "metadata": {},
   "outputs": [],
   "source": [
    "#Add random seed\n",
    "seed_value = 42\n",
    "random.seed(seed_value)\n",
    "np.random.seed(seed_value)\n",
    "tensorflow.random.set_seed(seed_value) #use in dropout"
   ]
  },
  {
   "cell_type": "code",
   "execution_count": 31,
   "id": "9bade66d-4105-426a-b554-a41132bb1b88",
   "metadata": {},
   "outputs": [
    {
     "name": "stdout",
     "output_type": "stream",
     "text": [
      "Model: \"sequential_1\"\n",
      "_________________________________________________________________\n",
      " Layer (type)                Output Shape              Param #   \n",
      "=================================================================\n",
      " mobilenet_1.00_224 (Functi  (None, 7, 7, 1024)        3228864   \n",
      " onal)                                                           \n",
      "                                                                 \n",
      " global_average_pooling2d_1  (None, 1024)              0         \n",
      "  (GlobalAveragePooling2D)                                       \n",
      "                                                                 \n",
      " batch_normalization_1 (Bat  (None, 1024)              4096      \n",
      " chNormalization)                                                \n",
      "                                                                 \n",
      " reshape_1 (Reshape)         (None, 1024, 1)           0         \n",
      "                                                                 \n",
      " average_pooling1d_1 (Avera  (None, 512, 1)            0         \n",
      " gePooling1D)                                                    \n",
      "                                                                 \n",
      " flatten_1 (Flatten)         (None, 512)               0         \n",
      "                                                                 \n",
      " dropout_3 (Dropout)         (None, 512)               0         \n",
      "                                                                 \n",
      " dense_3 (Dense)             (None, 128)               65664     \n",
      "                                                                 \n",
      " dropout_4 (Dropout)         (None, 128)               0         \n",
      "                                                                 \n",
      " dense_4 (Dense)             (None, 32)                4128      \n",
      "                                                                 \n",
      " dropout_5 (Dropout)         (None, 32)                0         \n",
      "                                                                 \n",
      " dense_5 (Dense)             (None, 4)                 132       \n",
      "                                                                 \n",
      "=================================================================\n",
      "Total params: 3302884 (12.60 MB)\n",
      "Trainable params: 71972 (281.14 KB)\n",
      "Non-trainable params: 3230912 (12.32 MB)\n",
      "_________________________________________________________________\n"
     ]
    }
   ],
   "source": [
    "#Create the model\n",
    "model = Sequential()\n",
    "model.add(base_model)\n",
    "# model.add(Dropout(0.3))\n",
    "model.add(tensorflow.keras.layers.GlobalAveragePooling2D())\n",
    "model.add(BatchNormalization(axis = -1, momentum = 0.99, epsilon = 0.001))\n",
    "model.add(tensorflow.keras.layers.Reshape((-1,1)))\n",
    "model.add(tensorflow.keras.layers.AveragePooling1D())\n",
    "model.add(Flatten())\n",
    "model.add(Dropout(0.3,seed=seed_value))\n",
    "model.add(Dense(128, activation='relu'))\n",
    "model.add(Dropout(0.3))\n",
    "model.add(Dense(32, activation='relu'))\n",
    "model.add(Dropout(0.3,seed=seed_value))\n",
    "model.add(Dense(n_num_classes,activation='softmax'))\n",
    "\n",
    "model.summary()"
   ]
  },
  {
   "cell_type": "code",
   "execution_count": 32,
   "id": "144b2c52-e11d-4d92-8b5c-9d8f0261aca3",
   "metadata": {},
   "outputs": [],
   "source": [
    "learning_rate = 0.0001\n",
    "optimizer = tensorflow.keras.optimizers.Adam(learning_rate=learning_rate)\n",
    "loss = tensorflow.keras.losses.CategoricalCrossentropy(from_logits=True)\n",
    "model.compile(optimizer=optimizer, loss=loss, metrics=['accuracy'])"
   ]
  },
  {
   "cell_type": "markdown",
   "id": "bd68f791-1a0e-4fae-8402-5f0f663ac707",
   "metadata": {},
   "source": [
    "Actual Training"
   ]
  },
  {
   "cell_type": "code",
   "execution_count": 33,
   "id": "1a2512c2-848c-4006-b48c-0f791c2de9a6",
   "metadata": {},
   "outputs": [],
   "source": [
    "os.chdir(r'D:\\Lung-PET-CT-Dx\\manifest\\Models')\n",
    "checkpoint_callback = tensorflow.keras.callbacks.ModelCheckpoint(\"multiclass_n_stage_mobilenet_v2.h5\",\n",
    "                     save_best_only=True, # only keep the best model weights on file (delete the rest)\n",
    "                     save_weights_only=False,   # save only the model weights\n",
    "                     verbose=1, # don't print out whether or not model is being saved\n",
    "                     monitor='val_loss')\n",
    "\n",
    "early_stop = tensorflow.keras.callbacks.EarlyStopping(monitor='val_accuracy',\n",
    "                                              mode='auto',\n",
    "                                              patience=5)"
   ]
  },
  {
   "cell_type": "code",
   "execution_count": 34,
   "id": "a7fccf8a-0060-458e-851c-cb3feae8099d",
   "metadata": {},
   "outputs": [
    {
     "name": "stdout",
     "output_type": "stream",
     "text": [
      "Epoch 1/20\n",
      "758/758 [==============================] - ETA: 0s - loss: 1.4225 - accuracy: 0.3827\n",
      "Epoch 1: val_loss improved from inf to 1.13900, saving model to multiclass_n_stage_mobilenet_v2.h5\n",
      "758/758 [==============================] - 702s 924ms/step - loss: 1.4225 - accuracy: 0.3827 - val_loss: 1.1390 - val_accuracy: 0.5299\n",
      "Epoch 2/20\n",
      "758/758 [==============================] - ETA: 0s - loss: 1.1526 - accuracy: 0.4507\n",
      "Epoch 2: val_loss improved from 1.13900 to 1.00878, saving model to multiclass_n_stage_mobilenet_v2.h5\n",
      "758/758 [==============================] - 563s 743ms/step - loss: 1.1526 - accuracy: 0.4507 - val_loss: 1.0088 - val_accuracy: 0.5976\n",
      "Epoch 3/20\n",
      "758/758 [==============================] - ETA: 0s - loss: 1.0197 - accuracy: 0.4919\n",
      "Epoch 3: val_loss improved from 1.00878 to 0.90386, saving model to multiclass_n_stage_mobilenet_v2.h5\n",
      "758/758 [==============================] - 585s 772ms/step - loss: 1.0197 - accuracy: 0.4919 - val_loss: 0.9039 - val_accuracy: 0.6429\n",
      "Epoch 4/20\n",
      "758/758 [==============================] - ETA: 0s - loss: 0.9119 - accuracy: 0.5411\n",
      "Epoch 4: val_loss improved from 0.90386 to 0.80365, saving model to multiclass_n_stage_mobilenet_v2.h5\n",
      "758/758 [==============================] - 587s 774ms/step - loss: 0.9119 - accuracy: 0.5411 - val_loss: 0.8036 - val_accuracy: 0.6939\n",
      "Epoch 5/20\n",
      "758/758 [==============================] - ETA: 0s - loss: 0.8364 - accuracy: 0.5685\n",
      "Epoch 5: val_loss improved from 0.80365 to 0.73211, saving model to multiclass_n_stage_mobilenet_v2.h5\n",
      "758/758 [==============================] - 574s 756ms/step - loss: 0.8364 - accuracy: 0.5685 - val_loss: 0.7321 - val_accuracy: 0.7331\n",
      "Epoch 6/20\n",
      "758/758 [==============================] - ETA: 0s - loss: 0.7714 - accuracy: 0.6000\n",
      "Epoch 6: val_loss improved from 0.73211 to 0.67635, saving model to multiclass_n_stage_mobilenet_v2.h5\n",
      "758/758 [==============================] - 581s 766ms/step - loss: 0.7714 - accuracy: 0.6000 - val_loss: 0.6764 - val_accuracy: 0.7556\n",
      "Epoch 7/20\n",
      "758/758 [==============================] - ETA: 0s - loss: 0.7228 - accuracy: 0.6184\n",
      "Epoch 7: val_loss improved from 0.67635 to 0.62518, saving model to multiclass_n_stage_mobilenet_v2.h5\n",
      "758/758 [==============================] - 593s 783ms/step - loss: 0.7228 - accuracy: 0.6184 - val_loss: 0.6252 - val_accuracy: 0.7752\n",
      "Epoch 8/20\n",
      "758/758 [==============================] - ETA: 0s - loss: 0.6743 - accuracy: 0.6435\n",
      "Epoch 8: val_loss improved from 0.62518 to 0.58072, saving model to multiclass_n_stage_mobilenet_v2.h5\n",
      "758/758 [==============================] - 621s 819ms/step - loss: 0.6743 - accuracy: 0.6435 - val_loss: 0.5807 - val_accuracy: 0.7917\n",
      "Epoch 9/20\n",
      "758/758 [==============================] - ETA: 0s - loss: 0.6374 - accuracy: 0.6621\n",
      "Epoch 9: val_loss improved from 0.58072 to 0.54020, saving model to multiclass_n_stage_mobilenet_v2.h5\n",
      "758/758 [==============================] - 592s 780ms/step - loss: 0.6374 - accuracy: 0.6621 - val_loss: 0.5402 - val_accuracy: 0.8105\n",
      "Epoch 10/20\n",
      "758/758 [==============================] - ETA: 0s - loss: 0.6044 - accuracy: 0.6772\n",
      "Epoch 10: val_loss improved from 0.54020 to 0.50213, saving model to multiclass_n_stage_mobilenet_v2.h5\n",
      "758/758 [==============================] - 600s 791ms/step - loss: 0.6044 - accuracy: 0.6772 - val_loss: 0.5021 - val_accuracy: 0.8291\n",
      "Epoch 11/20\n",
      "758/758 [==============================] - ETA: 0s - loss: 0.5778 - accuracy: 0.6941\n",
      "Epoch 11: val_loss improved from 0.50213 to 0.48042, saving model to multiclass_n_stage_mobilenet_v2.h5\n",
      "758/758 [==============================] - 581s 766ms/step - loss: 0.5778 - accuracy: 0.6941 - val_loss: 0.4804 - val_accuracy: 0.8354\n",
      "Epoch 12/20\n",
      "758/758 [==============================] - ETA: 0s - loss: 0.5552 - accuracy: 0.7025\n",
      "Epoch 12: val_loss improved from 0.48042 to 0.45568, saving model to multiclass_n_stage_mobilenet_v2.h5\n",
      "758/758 [==============================] - 568s 750ms/step - loss: 0.5552 - accuracy: 0.7025 - val_loss: 0.4557 - val_accuracy: 0.8448\n",
      "Epoch 13/20\n",
      "758/758 [==============================] - ETA: 0s - loss: 0.5381 - accuracy: 0.7098\n",
      "Epoch 13: val_loss improved from 0.45568 to 0.42986, saving model to multiclass_n_stage_mobilenet_v2.h5\n",
      "758/758 [==============================] - 603s 796ms/step - loss: 0.5381 - accuracy: 0.7098 - val_loss: 0.4299 - val_accuracy: 0.8545\n",
      "Epoch 14/20\n",
      "758/758 [==============================] - ETA: 0s - loss: 0.5206 - accuracy: 0.7213\n",
      "Epoch 14: val_loss improved from 0.42986 to 0.40979, saving model to multiclass_n_stage_mobilenet_v2.h5\n",
      "758/758 [==============================] - 639s 842ms/step - loss: 0.5206 - accuracy: 0.7213 - val_loss: 0.4098 - val_accuracy: 0.8636\n",
      "Epoch 15/20\n",
      "758/758 [==============================] - ETA: 0s - loss: 0.4999 - accuracy: 0.7301\n",
      "Epoch 15: val_loss improved from 0.40979 to 0.39331, saving model to multiclass_n_stage_mobilenet_v2.h5\n",
      "758/758 [==============================] - 614s 809ms/step - loss: 0.4999 - accuracy: 0.7301 - val_loss: 0.3933 - val_accuracy: 0.8681\n",
      "Epoch 16/20\n",
      "758/758 [==============================] - ETA: 0s - loss: 0.4859 - accuracy: 0.7386\n",
      "Epoch 16: val_loss improved from 0.39331 to 0.37584, saving model to multiclass_n_stage_mobilenet_v2.h5\n",
      "758/758 [==============================] - 608s 802ms/step - loss: 0.4859 - accuracy: 0.7386 - val_loss: 0.3758 - val_accuracy: 0.8717\n",
      "Epoch 17/20\n",
      "758/758 [==============================] - ETA: 0s - loss: 0.4752 - accuracy: 0.7418\n",
      "Epoch 17: val_loss improved from 0.37584 to 0.35862, saving model to multiclass_n_stage_mobilenet_v2.h5\n",
      "758/758 [==============================] - 602s 794ms/step - loss: 0.4752 - accuracy: 0.7418 - val_loss: 0.3586 - val_accuracy: 0.8783\n",
      "Epoch 18/20\n",
      "758/758 [==============================] - ETA: 0s - loss: 0.4590 - accuracy: 0.7527\n",
      "Epoch 18: val_loss improved from 0.35862 to 0.35099, saving model to multiclass_n_stage_mobilenet_v2.h5\n",
      "758/758 [==============================] - 596s 786ms/step - loss: 0.4590 - accuracy: 0.7527 - val_loss: 0.3510 - val_accuracy: 0.8816\n",
      "Epoch 19/20\n",
      "758/758 [==============================] - ETA: 0s - loss: 0.4373 - accuracy: 0.7643\n",
      "Epoch 19: val_loss improved from 0.35099 to 0.32752, saving model to multiclass_n_stage_mobilenet_v2.h5\n",
      "758/758 [==============================] - 624s 823ms/step - loss: 0.4373 - accuracy: 0.7643 - val_loss: 0.3275 - val_accuracy: 0.8905\n",
      "Epoch 20/20\n",
      "758/758 [==============================] - ETA: 0s - loss: 0.4307 - accuracy: 0.7682\n",
      "Epoch 20: val_loss improved from 0.32752 to 0.31480, saving model to multiclass_n_stage_mobilenet_v2.h5\n",
      "758/758 [==============================] - 621s 819ms/step - loss: 0.4307 - accuracy: 0.7682 - val_loss: 0.3148 - val_accuracy: 0.8949\n",
      "12054.231257\n"
     ]
    }
   ],
   "source": [
    "start = perf_counter()\n",
    "history = model.fit(n_train_ds,\n",
    "                    epochs=20,\n",
    "                    steps_per_epoch=len(n_train_ds),\n",
    "                    validation_data=n_test_ds,\n",
    "                    validation_steps=len(n_test_ds),\n",
    "                    callbacks=[checkpoint_callback, early_stop],\n",
    "                    verbose=1,\n",
    "                    class_weight=n_class_weights)\n",
    "end = perf_counter()\n",
    "print(end - start)"
   ]
  },
  {
   "cell_type": "markdown",
   "id": "222da122-a517-4c12-8e9d-fb795581cb31",
   "metadata": {},
   "source": [
    "Load model - skip training <br>\n",
    "Approximate training time: 12054.231257 seconds"
   ]
  },
  {
   "cell_type": "code",
   "execution_count": 36,
   "id": "4951ff1b-5472-44c3-aab5-dbd75b2b9353",
   "metadata": {},
   "outputs": [],
   "source": [
    "#Evaluate performance\n",
    "def plot_loss_curves(history):\n",
    "  loss = history.history['loss']\n",
    "  val_loss = history.history['val_loss']\n",
    "\n",
    "  accuracy = history.history['accuracy']\n",
    "  val_accuracy = history.history['val_accuracy']\n",
    "\n",
    "  epochs = range(len(history.history['loss']))\n",
    "\n",
    "  # Plot loss\n",
    "  plt.plot(epochs, loss, label='training_loss')\n",
    "  plt.plot(epochs, val_loss, label='val_loss')\n",
    "  plt.title('Loss')\n",
    "  plt.xlabel('Epochs')\n",
    "  plt.legend()\n",
    "\n",
    "  # Plot accuracy\n",
    "  plt.figure()\n",
    "  plt.plot(epochs, accuracy, label='training_accuracy')\n",
    "  plt.plot(epochs, val_accuracy, label='val_accuracy')\n",
    "  plt.title('Accuracy')\n",
    "  plt.xlabel('Epochs')\n",
    "  plt.legend();"
   ]
  },
  {
   "cell_type": "code",
   "execution_count": 37,
   "id": "d0d32947-6fbe-4603-a70e-7e28bb80d2be",
   "metadata": {},
   "outputs": [
    {
     "data": {
      "image/png": "[encoded data removed]",
      "text/plain": [
       "<Figure size 640x480 with 1 Axes>"
      ]
     },
     "metadata": {},
     "output_type": "display_data"
    },
    {
     "data": {
      "image/png": "[encoded data removed]",
      "text/plain": [
       "<Figure size 640x480 with 1 Axes>"
      ]
     },
     "metadata": {},
     "output_type": "display_data"
    }
   ],
   "source": [
    "plot_loss_curves(history)"
   ]
  },
  {
   "cell_type": "code",
   "execution_count": 38,
   "id": "8fffd498-df61-4304-8261-29db9e0b849b",
   "metadata": {},
   "outputs": [
    {
     "name": "stdout",
     "output_type": "stream",
     "text": [
      "190/190 [==============================] - 109s 570ms/step\n",
      "Confusion Matrix\n",
      "Classification Report for N-Stage\n",
      "              precision    recall  f1-score   support\n",
      "\n",
      "           0       0.99      0.85      0.91      3158\n",
      "           1       0.85      0.92      0.88      1708\n",
      "           2       0.95      1.00      0.97       272\n",
      "           3       0.75      0.98      0.85       925\n",
      "\n",
      "    accuracy                           0.89      6063\n",
      "   macro avg       0.88      0.94      0.90      6063\n",
      "weighted avg       0.91      0.89      0.90      6063\n",
      "\n"
     ]
    },
    {
     "data": {
      "image/png": "[encoded data removed]",
      "text/plain": [
       "<Figure size 640x480 with 2 Axes>"
      ]
     },
     "metadata": {},
     "output_type": "display_data"
    }
   ],
   "source": [
    "n_Y_pred = model.predict(n_test_ds) #predictions\n",
    "n_Y_ground = n_test_df.n.to_list()\n",
    "n_y_pred = np.argmax(n_Y_pred,axis=1)\n",
    "print('Confusion Matrix')\n",
    "cm = confusion_matrix(n_test_ds.classes, n_y_pred)\n",
    "cmd = ConfusionMatrixDisplay(cm, display_labels=n_stg)\n",
    "cmd.plot()\n",
    "\n",
    "print('Classification Report for N-Stage')\n",
    "\n",
    "print(classification_report(n_test_ds.classes, n_y_pred, target_names=n_stg))\n"
   ]
  },
  {
   "cell_type": "code",
   "execution_count": 39,
   "id": "190b8516-0c75-4e80-8e7a-4c9d1315e6ef",
   "metadata": {},
   "outputs": [
    {
     "name": "stdout",
     "output_type": "stream",
     "text": [
      "1/1 [==============================] - 0s 426ms/step\n",
      "[0.0527059  0.1915051  0.00158028 0.75420874]\n"
     ]
    }
   ],
   "source": [
    "from tensorflow.keras.preprocessing import image\n",
    "test_img = r'C:\\Users\\lzsnc\\Desktop\\Raw CT Images\\Lung_Dx-A0065_10-26-2008-NA-lungc-32319_3.000000-5mm Lung SS50-68818_1-34.tiff'\n",
    "test = image.load_img(test_img, target_size=(224,224))\n",
    "test_img_array = image.img_to_array(test)\n",
    "img_batch = np.expand_dims(test_img_array, axis=0)\n",
    "img_preprocessed = preprocess_input(img_batch)\n",
    "prediction = model.predict(img_preprocessed)\n",
    "print(prediction[0])"
   ]
  }
 ],
 "metadata": {
  "kernelspec": {
   "display_name": "Python 3 (ipykernel)",
   "language": "python",
   "name": "python3"
  },
  "language_info": {
   "codemirror_mode": {
    "name": "ipython",
    "version": 3
   },
   "file_extension": ".py",
   "mimetype": "text/x-python",
   "name": "python",
   "nbconvert_exporter": "python",
   "pygments_lexer": "ipython3",
   "version": "3.9.13"
  }
 },
 "nbformat": 4,
 "nbformat_minor": 5
}
